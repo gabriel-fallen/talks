{
 "cells": [
  {
   "attachments": {},
   "cell_type": "markdown",
   "metadata": {},
   "source": [
    "# Recurrent Neural Networks and their invariants\n",
    "\n",
    "We'll consider two main kinds of recurrent architectures:\n",
    "* Simple RNNs\n",
    "* Long Short-Term Memory (LSTM)\n",
    "\n",
    "They feature different kinds of equivariance, and we'll compare them on the same\n",
    "Time Series prediction task."
   ]
  },
  {
   "attachments": {},
   "cell_type": "markdown",
   "metadata": {},
   "source": [
    "### Library imports"
   ]
  },
  {
   "cell_type": "code",
   "execution_count": 1,
   "metadata": {},
   "outputs": [],
   "source": [
    "using CSV, Dates, DataFrames, Flux, Gadfly, Statistics"
   ]
  },
  {
   "cell_type": "code",
   "execution_count": 2,
   "metadata": {},
   "outputs": [],
   "source": [
    "Gadfly.set_default_plot_size(600, 400)"
   ]
  },
  {
   "attachments": {},
   "cell_type": "markdown",
   "metadata": {},
   "source": [
    "## Example Dataset\n",
    "\n",
    "The dataset is due to Jaganadh Gopinadhan who collected energy consumption from smart meters in his apartment:\n",
    "https://www.kaggle.com/datasets/jaganadhg/house-hold-energy-data"
   ]
  },
  {
   "cell_type": "code",
   "execution_count": 3,
   "metadata": {},
   "outputs": [
    {
     "data": {
      "text/html": [
       "<div><div style = \"float: left;\"><span>70368×8 DataFrame</span></div><div style = \"float: right;\"><span style = \"font-style: italic;\">70343 rows omitted</span></div><div style = \"clear: both;\"></div></div><div class = \"data-frame\" style = \"overflow-x: scroll;\"><table class = \"data-frame\" style = \"margin-bottom: 6px;\"><thead><tr class = \"header\"><th class = \"rowNumber\" style = \"font-weight: bold; text-align: right;\">Row</th><th style = \"text-align: left;\">TYPE</th><th style = \"text-align: left;\">DATE</th><th style = \"text-align: left;\">START TIME</th><th style = \"text-align: left;\">END TIME</th><th style = \"text-align: left;\">USAGE</th><th style = \"text-align: left;\">UNITS</th><th style = \"text-align: left;\">COST</th><th style = \"text-align: left;\">NOTES</th></tr><tr class = \"subheader headerLastRow\"><th class = \"rowNumber\" style = \"font-weight: bold; text-align: right;\"></th><th title = \"String15\" style = \"text-align: left;\">String15</th><th title = \"Date\" style = \"text-align: left;\">Date</th><th title = \"String7\" style = \"text-align: left;\">String7</th><th title = \"String7\" style = \"text-align: left;\">String7</th><th title = \"Float64\" style = \"text-align: left;\">Float64</th><th title = \"String3\" style = \"text-align: left;\">String3</th><th title = \"String7\" style = \"text-align: left;\">String7</th><th title = \"Missing\" style = \"text-align: left;\">Missing</th></tr></thead><tbody><tr><td class = \"rowNumber\" style = \"font-weight: bold; text-align: right;\">1</td><td style = \"text-align: left;\">Electric usage</td><td style = \"text-align: left;\">2016-10-22</td><td style = \"text-align: left;\">0:00</td><td style = \"text-align: left;\">0:14</td><td style = \"text-align: right;\">0.01</td><td style = \"text-align: left;\">kWh</td><td style = \"text-align: left;\">$0.00 </td><td style = \"font-style: italic; text-align: right;\">missing</td></tr><tr><td class = \"rowNumber\" style = \"font-weight: bold; text-align: right;\">2</td><td style = \"text-align: left;\">Electric usage</td><td style = \"text-align: left;\">2016-10-22</td><td style = \"text-align: left;\">0:15</td><td style = \"text-align: left;\">0:29</td><td style = \"text-align: right;\">0.01</td><td style = \"text-align: left;\">kWh</td><td style = \"text-align: left;\">$0.00 </td><td style = \"font-style: italic; text-align: right;\">missing</td></tr><tr><td class = \"rowNumber\" style = \"font-weight: bold; text-align: right;\">3</td><td style = \"text-align: left;\">Electric usage</td><td style = \"text-align: left;\">2016-10-22</td><td style = \"text-align: left;\">0:30</td><td style = \"text-align: left;\">0:44</td><td style = \"text-align: right;\">0.01</td><td style = \"text-align: left;\">kWh</td><td style = \"text-align: left;\">$0.00 </td><td style = \"font-style: italic; text-align: right;\">missing</td></tr><tr><td class = \"rowNumber\" style = \"font-weight: bold; text-align: right;\">4</td><td style = \"text-align: left;\">Electric usage</td><td style = \"text-align: left;\">2016-10-22</td><td style = \"text-align: left;\">0:45</td><td style = \"text-align: left;\">0:59</td><td style = \"text-align: right;\">0.01</td><td style = \"text-align: left;\">kWh</td><td style = \"text-align: left;\">$0.00 </td><td style = \"font-style: italic; text-align: right;\">missing</td></tr><tr><td class = \"rowNumber\" style = \"font-weight: bold; text-align: right;\">5</td><td style = \"text-align: left;\">Electric usage</td><td style = \"text-align: left;\">2016-10-22</td><td style = \"text-align: left;\">1:00</td><td style = \"text-align: left;\">1:14</td><td style = \"text-align: right;\">0.01</td><td style = \"text-align: left;\">kWh</td><td style = \"text-align: left;\">$0.00 </td><td style = \"font-style: italic; text-align: right;\">missing</td></tr><tr><td class = \"rowNumber\" style = \"font-weight: bold; text-align: right;\">6</td><td style = \"text-align: left;\">Electric usage</td><td style = \"text-align: left;\">2016-10-22</td><td style = \"text-align: left;\">1:15</td><td style = \"text-align: left;\">1:29</td><td style = \"text-align: right;\">0.01</td><td style = \"text-align: left;\">kWh</td><td style = \"text-align: left;\">$0.00 </td><td style = \"font-style: italic; text-align: right;\">missing</td></tr><tr><td class = \"rowNumber\" style = \"font-weight: bold; text-align: right;\">7</td><td style = \"text-align: left;\">Electric usage</td><td style = \"text-align: left;\">2016-10-22</td><td style = \"text-align: left;\">1:30</td><td style = \"text-align: left;\">1:44</td><td style = \"text-align: right;\">0.01</td><td style = \"text-align: left;\">kWh</td><td style = \"text-align: left;\">$0.00 </td><td style = \"font-style: italic; text-align: right;\">missing</td></tr><tr><td class = \"rowNumber\" style = \"font-weight: bold; text-align: right;\">8</td><td style = \"text-align: left;\">Electric usage</td><td style = \"text-align: left;\">2016-10-22</td><td style = \"text-align: left;\">1:45</td><td style = \"text-align: left;\">1:59</td><td style = \"text-align: right;\">0.01</td><td style = \"text-align: left;\">kWh</td><td style = \"text-align: left;\">$0.00 </td><td style = \"font-style: italic; text-align: right;\">missing</td></tr><tr><td class = \"rowNumber\" style = \"font-weight: bold; text-align: right;\">9</td><td style = \"text-align: left;\">Electric usage</td><td style = \"text-align: left;\">2016-10-22</td><td style = \"text-align: left;\">2:00</td><td style = \"text-align: left;\">2:14</td><td style = \"text-align: right;\">0.02</td><td style = \"text-align: left;\">kWh</td><td style = \"text-align: left;\">$0.00 </td><td style = \"font-style: italic; text-align: right;\">missing</td></tr><tr><td class = \"rowNumber\" style = \"font-weight: bold; text-align: right;\">10</td><td style = \"text-align: left;\">Electric usage</td><td style = \"text-align: left;\">2016-10-22</td><td style = \"text-align: left;\">2:15</td><td style = \"text-align: left;\">2:29</td><td style = \"text-align: right;\">0.02</td><td style = \"text-align: left;\">kWh</td><td style = \"text-align: left;\">$0.00 </td><td style = \"font-style: italic; text-align: right;\">missing</td></tr><tr><td class = \"rowNumber\" style = \"font-weight: bold; text-align: right;\">11</td><td style = \"text-align: left;\">Electric usage</td><td style = \"text-align: left;\">2016-10-22</td><td style = \"text-align: left;\">2:30</td><td style = \"text-align: left;\">2:44</td><td style = \"text-align: right;\">0.02</td><td style = \"text-align: left;\">kWh</td><td style = \"text-align: left;\">$0.00 </td><td style = \"font-style: italic; text-align: right;\">missing</td></tr><tr><td class = \"rowNumber\" style = \"font-weight: bold; text-align: right;\">12</td><td style = \"text-align: left;\">Electric usage</td><td style = \"text-align: left;\">2016-10-22</td><td style = \"text-align: left;\">2:45</td><td style = \"text-align: left;\">2:59</td><td style = \"text-align: right;\">0.02</td><td style = \"text-align: left;\">kWh</td><td style = \"text-align: left;\">$0.00 </td><td style = \"font-style: italic; text-align: right;\">missing</td></tr><tr><td class = \"rowNumber\" style = \"font-weight: bold; text-align: right;\">13</td><td style = \"text-align: left;\">Electric usage</td><td style = \"text-align: left;\">2016-10-22</td><td style = \"text-align: left;\">3:00</td><td style = \"text-align: left;\">3:14</td><td style = \"text-align: right;\">0.01</td><td style = \"text-align: left;\">kWh</td><td style = \"text-align: left;\">$0.00 </td><td style = \"font-style: italic; text-align: right;\">missing</td></tr><tr><td style = \"text-align: right;\">&vellip;</td><td style = \"text-align: right;\">&vellip;</td><td style = \"text-align: right;\">&vellip;</td><td style = \"text-align: right;\">&vellip;</td><td style = \"text-align: right;\">&vellip;</td><td style = \"text-align: right;\">&vellip;</td><td style = \"text-align: right;\">&vellip;</td><td style = \"text-align: right;\">&vellip;</td><td style = \"text-align: right;\">&vellip;</td></tr><tr><td class = \"rowNumber\" style = \"font-weight: bold; text-align: right;\">70357</td><td style = \"text-align: left;\">Electric usage</td><td style = \"text-align: left;\">2018-10-24</td><td style = \"text-align: left;\">21:00</td><td style = \"text-align: left;\">21:14</td><td style = \"text-align: right;\">0.03</td><td style = \"text-align: left;\">kWh</td><td style = \"text-align: left;\">$0.01 </td><td style = \"font-style: italic; text-align: right;\">missing</td></tr><tr><td class = \"rowNumber\" style = \"font-weight: bold; text-align: right;\">70358</td><td style = \"text-align: left;\">Electric usage</td><td style = \"text-align: left;\">2018-10-24</td><td style = \"text-align: left;\">21:15</td><td style = \"text-align: left;\">21:29</td><td style = \"text-align: right;\">0.03</td><td style = \"text-align: left;\">kWh</td><td style = \"text-align: left;\">$0.01 </td><td style = \"font-style: italic; text-align: right;\">missing</td></tr><tr><td class = \"rowNumber\" style = \"font-weight: bold; text-align: right;\">70359</td><td style = \"text-align: left;\">Electric usage</td><td style = \"text-align: left;\">2018-10-24</td><td style = \"text-align: left;\">21:30</td><td style = \"text-align: left;\">21:44</td><td style = \"text-align: right;\">0.03</td><td style = \"text-align: left;\">kWh</td><td style = \"text-align: left;\">$0.01 </td><td style = \"font-style: italic; text-align: right;\">missing</td></tr><tr><td class = \"rowNumber\" style = \"font-weight: bold; text-align: right;\">70360</td><td style = \"text-align: left;\">Electric usage</td><td style = \"text-align: left;\">2018-10-24</td><td style = \"text-align: left;\">21:45</td><td style = \"text-align: left;\">21:59</td><td style = \"text-align: right;\">0.03</td><td style = \"text-align: left;\">kWh</td><td style = \"text-align: left;\">$0.01 </td><td style = \"font-style: italic; text-align: right;\">missing</td></tr><tr><td class = \"rowNumber\" style = \"font-weight: bold; text-align: right;\">70361</td><td style = \"text-align: left;\">Electric usage</td><td style = \"text-align: left;\">2018-10-24</td><td style = \"text-align: left;\">22:00</td><td style = \"text-align: left;\">22:14</td><td style = \"text-align: right;\">0.02</td><td style = \"text-align: left;\">kWh</td><td style = \"text-align: left;\">$0.00 </td><td style = \"font-style: italic; text-align: right;\">missing</td></tr><tr><td class = \"rowNumber\" style = \"font-weight: bold; text-align: right;\">70362</td><td style = \"text-align: left;\">Electric usage</td><td style = \"text-align: left;\">2018-10-24</td><td style = \"text-align: left;\">22:15</td><td style = \"text-align: left;\">22:29</td><td style = \"text-align: right;\">0.02</td><td style = \"text-align: left;\">kWh</td><td style = \"text-align: left;\">$0.00 </td><td style = \"font-style: italic; text-align: right;\">missing</td></tr><tr><td class = \"rowNumber\" style = \"font-weight: bold; text-align: right;\">70363</td><td style = \"text-align: left;\">Electric usage</td><td style = \"text-align: left;\">2018-10-24</td><td style = \"text-align: left;\">22:30</td><td style = \"text-align: left;\">22:44</td><td style = \"text-align: right;\">0.02</td><td style = \"text-align: left;\">kWh</td><td style = \"text-align: left;\">$0.00 </td><td style = \"font-style: italic; text-align: right;\">missing</td></tr><tr><td class = \"rowNumber\" style = \"font-weight: bold; text-align: right;\">70364</td><td style = \"text-align: left;\">Electric usage</td><td style = \"text-align: left;\">2018-10-24</td><td style = \"text-align: left;\">22:45</td><td style = \"text-align: left;\">22:59</td><td style = \"text-align: right;\">0.02</td><td style = \"text-align: left;\">kWh</td><td style = \"text-align: left;\">$0.00 </td><td style = \"font-style: italic; text-align: right;\">missing</td></tr><tr><td class = \"rowNumber\" style = \"font-weight: bold; text-align: right;\">70365</td><td style = \"text-align: left;\">Electric usage</td><td style = \"text-align: left;\">2018-10-24</td><td style = \"text-align: left;\">23:00</td><td style = \"text-align: left;\">23:14</td><td style = \"text-align: right;\">0.03</td><td style = \"text-align: left;\">kWh</td><td style = \"text-align: left;\">$0.01 </td><td style = \"font-style: italic; text-align: right;\">missing</td></tr><tr><td class = \"rowNumber\" style = \"font-weight: bold; text-align: right;\">70366</td><td style = \"text-align: left;\">Electric usage</td><td style = \"text-align: left;\">2018-10-24</td><td style = \"text-align: left;\">23:15</td><td style = \"text-align: left;\">23:29</td><td style = \"text-align: right;\">0.03</td><td style = \"text-align: left;\">kWh</td><td style = \"text-align: left;\">$0.01 </td><td style = \"font-style: italic; text-align: right;\">missing</td></tr><tr><td class = \"rowNumber\" style = \"font-weight: bold; text-align: right;\">70367</td><td style = \"text-align: left;\">Electric usage</td><td style = \"text-align: left;\">2018-10-24</td><td style = \"text-align: left;\">23:30</td><td style = \"text-align: left;\">23:44</td><td style = \"text-align: right;\">0.03</td><td style = \"text-align: left;\">kWh</td><td style = \"text-align: left;\">$0.01 </td><td style = \"font-style: italic; text-align: right;\">missing</td></tr><tr><td class = \"rowNumber\" style = \"font-weight: bold; text-align: right;\">70368</td><td style = \"text-align: left;\">Electric usage</td><td style = \"text-align: left;\">2018-10-24</td><td style = \"text-align: left;\">23:45</td><td style = \"text-align: left;\">23:59</td><td style = \"text-align: right;\">0.03</td><td style = \"text-align: left;\">kWh</td><td style = \"text-align: left;\">$0.01 </td><td style = \"font-style: italic; text-align: right;\">missing</td></tr></tbody></table></div>"
      ],
      "text/latex": [
       "\\begin{tabular}{r|cccccccc}\n",
       "\t& TYPE & DATE & START TIME & END TIME & USAGE & UNITS & COST & NOTES\\\\\n",
       "\t\\hline\n",
       "\t& String15 & Date & String7 & String7 & Float64 & String3 & String7 & Missing\\\\\n",
       "\t\\hline\n",
       "\t1 & Electric usage & 2016-10-22 & 0:00 & 0:14 & 0.01 & kWh & \\$0.00  & \\emph{missing} \\\\\n",
       "\t2 & Electric usage & 2016-10-22 & 0:15 & 0:29 & 0.01 & kWh & \\$0.00  & \\emph{missing} \\\\\n",
       "\t3 & Electric usage & 2016-10-22 & 0:30 & 0:44 & 0.01 & kWh & \\$0.00  & \\emph{missing} \\\\\n",
       "\t4 & Electric usage & 2016-10-22 & 0:45 & 0:59 & 0.01 & kWh & \\$0.00  & \\emph{missing} \\\\\n",
       "\t5 & Electric usage & 2016-10-22 & 1:00 & 1:14 & 0.01 & kWh & \\$0.00  & \\emph{missing} \\\\\n",
       "\t6 & Electric usage & 2016-10-22 & 1:15 & 1:29 & 0.01 & kWh & \\$0.00  & \\emph{missing} \\\\\n",
       "\t7 & Electric usage & 2016-10-22 & 1:30 & 1:44 & 0.01 & kWh & \\$0.00  & \\emph{missing} \\\\\n",
       "\t8 & Electric usage & 2016-10-22 & 1:45 & 1:59 & 0.01 & kWh & \\$0.00  & \\emph{missing} \\\\\n",
       "\t9 & Electric usage & 2016-10-22 & 2:00 & 2:14 & 0.02 & kWh & \\$0.00  & \\emph{missing} \\\\\n",
       "\t10 & Electric usage & 2016-10-22 & 2:15 & 2:29 & 0.02 & kWh & \\$0.00  & \\emph{missing} \\\\\n",
       "\t11 & Electric usage & 2016-10-22 & 2:30 & 2:44 & 0.02 & kWh & \\$0.00  & \\emph{missing} \\\\\n",
       "\t12 & Electric usage & 2016-10-22 & 2:45 & 2:59 & 0.02 & kWh & \\$0.00  & \\emph{missing} \\\\\n",
       "\t13 & Electric usage & 2016-10-22 & 3:00 & 3:14 & 0.01 & kWh & \\$0.00  & \\emph{missing} \\\\\n",
       "\t14 & Electric usage & 2016-10-22 & 3:15 & 3:29 & 0.01 & kWh & \\$0.00  & \\emph{missing} \\\\\n",
       "\t15 & Electric usage & 2016-10-22 & 3:30 & 3:44 & 0.01 & kWh & \\$0.00  & \\emph{missing} \\\\\n",
       "\t16 & Electric usage & 2016-10-22 & 3:45 & 3:59 & 0.01 & kWh & \\$0.00  & \\emph{missing} \\\\\n",
       "\t17 & Electric usage & 2016-10-22 & 4:00 & 4:14 & 0.01 & kWh & \\$0.00  & \\emph{missing} \\\\\n",
       "\t18 & Electric usage & 2016-10-22 & 4:15 & 4:29 & 0.01 & kWh & \\$0.00  & \\emph{missing} \\\\\n",
       "\t19 & Electric usage & 2016-10-22 & 4:30 & 4:44 & 0.01 & kWh & \\$0.00  & \\emph{missing} \\\\\n",
       "\t20 & Electric usage & 2016-10-22 & 4:45 & 4:59 & 0.01 & kWh & \\$0.00  & \\emph{missing} \\\\\n",
       "\t21 & Electric usage & 2016-10-22 & 5:00 & 5:14 & 0.01 & kWh & \\$0.00  & \\emph{missing} \\\\\n",
       "\t22 & Electric usage & 2016-10-22 & 5:15 & 5:29 & 0.01 & kWh & \\$0.00  & \\emph{missing} \\\\\n",
       "\t23 & Electric usage & 2016-10-22 & 5:30 & 5:44 & 0.01 & kWh & \\$0.00  & \\emph{missing} \\\\\n",
       "\t24 & Electric usage & 2016-10-22 & 5:45 & 5:59 & 0.01 & kWh & \\$0.00  & \\emph{missing} \\\\\n",
       "\t$\\dots$ & $\\dots$ & $\\dots$ & $\\dots$ & $\\dots$ & $\\dots$ & $\\dots$ & $\\dots$ & $\\dots$ \\\\\n",
       "\\end{tabular}\n"
      ],
      "text/plain": [
       "\u001b[1m70368×8 DataFrame\u001b[0m\n",
       "\u001b[1m   Row \u001b[0m│\u001b[1m TYPE           \u001b[0m\u001b[1m DATE       \u001b[0m\u001b[1m START TIME \u001b[0m\u001b[1m END TIME \u001b[0m\u001b[1m USAGE   \u001b[0m\u001b[1m UNITS   \u001b[0m\u001b[1m C\u001b[0m ⋯\n",
       "       │\u001b[90m String15       \u001b[0m\u001b[90m Date       \u001b[0m\u001b[90m String7    \u001b[0m\u001b[90m String7  \u001b[0m\u001b[90m Float64 \u001b[0m\u001b[90m String3 \u001b[0m\u001b[90m S\u001b[0m ⋯\n",
       "───────┼────────────────────────────────────────────────────────────────────────\n",
       "     1 │ Electric usage  2016-10-22  0:00        0:14         0.01  kWh      $ ⋯\n",
       "     2 │ Electric usage  2016-10-22  0:15        0:29         0.01  kWh      $\n",
       "     3 │ Electric usage  2016-10-22  0:30        0:44         0.01  kWh      $\n",
       "     4 │ Electric usage  2016-10-22  0:45        0:59         0.01  kWh      $\n",
       "     5 │ Electric usage  2016-10-22  1:00        1:14         0.01  kWh      $ ⋯\n",
       "     6 │ Electric usage  2016-10-22  1:15        1:29         0.01  kWh      $\n",
       "     7 │ Electric usage  2016-10-22  1:30        1:44         0.01  kWh      $\n",
       "     8 │ Electric usage  2016-10-22  1:45        1:59         0.01  kWh      $\n",
       "   ⋮   │       ⋮             ⋮           ⋮          ⋮         ⋮        ⋮       ⋱\n",
       " 70362 │ Electric usage  2018-10-24  22:15       22:29        0.02  kWh      $ ⋯\n",
       " 70363 │ Electric usage  2018-10-24  22:30       22:44        0.02  kWh      $\n",
       " 70364 │ Electric usage  2018-10-24  22:45       22:59        0.02  kWh      $\n",
       " 70365 │ Electric usage  2018-10-24  23:00       23:14        0.03  kWh      $\n",
       " 70366 │ Electric usage  2018-10-24  23:15       23:29        0.03  kWh      $ ⋯\n",
       " 70367 │ Electric usage  2018-10-24  23:30       23:44        0.03  kWh      $\n",
       " 70368 │ Electric usage  2018-10-24  23:45       23:59        0.03  kWh      $\n",
       "\u001b[36m                                                2 columns and 70353 rows omitted\u001b[0m"
      ]
     },
     "metadata": {},
     "output_type": "display_data"
    }
   ],
   "source": [
    "df_raw = CSV.read(\"D202.csv\", dateformat=\"mm/dd/yyyy\", DataFrame)"
   ]
  },
  {
   "cell_type": "code",
   "execution_count": 4,
   "metadata": {},
   "outputs": [
    {
     "data": {
      "text/html": [
       "<div><div style = \"float: left;\"><span>733×2 DataFrame</span></div><div style = \"float: right;\"><span style = \"font-style: italic;\">708 rows omitted</span></div><div style = \"clear: both;\"></div></div><div class = \"data-frame\" style = \"overflow-x: scroll;\"><table class = \"data-frame\" style = \"margin-bottom: 6px;\"><thead><tr class = \"header\"><th class = \"rowNumber\" style = \"font-weight: bold; text-align: right;\">Row</th><th style = \"text-align: left;\">DATE</th><th style = \"text-align: left;\">USAGE_sum</th></tr><tr class = \"subheader headerLastRow\"><th class = \"rowNumber\" style = \"font-weight: bold; text-align: right;\"></th><th title = \"Date\" style = \"text-align: left;\">Date</th><th title = \"Float64\" style = \"text-align: left;\">Float64</th></tr></thead><tbody><tr><td class = \"rowNumber\" style = \"font-weight: bold; text-align: right;\">1</td><td style = \"text-align: left;\">2016-10-22</td><td style = \"text-align: right;\">4.52</td></tr><tr><td class = \"rowNumber\" style = \"font-weight: bold; text-align: right;\">2</td><td style = \"text-align: left;\">2016-10-23</td><td style = \"text-align: right;\">23.32</td></tr><tr><td class = \"rowNumber\" style = \"font-weight: bold; text-align: right;\">3</td><td style = \"text-align: left;\">2016-10-24</td><td style = \"text-align: right;\">7.16</td></tr><tr><td class = \"rowNumber\" style = \"font-weight: bold; text-align: right;\">4</td><td style = \"text-align: left;\">2016-10-25</td><td style = \"text-align: right;\">8.68</td></tr><tr><td class = \"rowNumber\" style = \"font-weight: bold; text-align: right;\">5</td><td style = \"text-align: left;\">2016-10-26</td><td style = \"text-align: right;\">5.04</td></tr><tr><td class = \"rowNumber\" style = \"font-weight: bold; text-align: right;\">6</td><td style = \"text-align: left;\">2016-10-27</td><td style = \"text-align: right;\">5.32</td></tr><tr><td class = \"rowNumber\" style = \"font-weight: bold; text-align: right;\">7</td><td style = \"text-align: left;\">2016-10-28</td><td style = \"text-align: right;\">4.64</td></tr><tr><td class = \"rowNumber\" style = \"font-weight: bold; text-align: right;\">8</td><td style = \"text-align: left;\">2016-10-29</td><td style = \"text-align: right;\">10.64</td></tr><tr><td class = \"rowNumber\" style = \"font-weight: bold; text-align: right;\">9</td><td style = \"text-align: left;\">2016-10-30</td><td style = \"text-align: right;\">7.44</td></tr><tr><td class = \"rowNumber\" style = \"font-weight: bold; text-align: right;\">10</td><td style = \"text-align: left;\">2016-10-31</td><td style = \"text-align: right;\">8.84</td></tr><tr><td class = \"rowNumber\" style = \"font-weight: bold; text-align: right;\">11</td><td style = \"text-align: left;\">2016-11-01</td><td style = \"text-align: right;\">11.44</td></tr><tr><td class = \"rowNumber\" style = \"font-weight: bold; text-align: right;\">12</td><td style = \"text-align: left;\">2016-11-02</td><td style = \"text-align: right;\">18.2</td></tr><tr><td class = \"rowNumber\" style = \"font-weight: bold; text-align: right;\">13</td><td style = \"text-align: left;\">2016-11-03</td><td style = \"text-align: right;\">14.16</td></tr><tr><td style = \"text-align: right;\">&vellip;</td><td style = \"text-align: right;\">&vellip;</td><td style = \"text-align: right;\">&vellip;</td></tr><tr><td class = \"rowNumber\" style = \"font-weight: bold; text-align: right;\">722</td><td style = \"text-align: left;\">2018-10-13</td><td style = \"text-align: right;\">8.84</td></tr><tr><td class = \"rowNumber\" style = \"font-weight: bold; text-align: right;\">723</td><td style = \"text-align: left;\">2018-10-14</td><td style = \"text-align: right;\">8.4</td></tr><tr><td class = \"rowNumber\" style = \"font-weight: bold; text-align: right;\">724</td><td style = \"text-align: left;\">2018-10-15</td><td style = \"text-align: right;\">6.64</td></tr><tr><td class = \"rowNumber\" style = \"font-weight: bold; text-align: right;\">725</td><td style = \"text-align: left;\">2018-10-16</td><td style = \"text-align: right;\">7.72</td></tr><tr><td class = \"rowNumber\" style = \"font-weight: bold; text-align: right;\">726</td><td style = \"text-align: left;\">2018-10-17</td><td style = \"text-align: right;\">5.88</td></tr><tr><td class = \"rowNumber\" style = \"font-weight: bold; text-align: right;\">727</td><td style = \"text-align: left;\">2018-10-18</td><td style = \"text-align: right;\">4.76</td></tr><tr><td class = \"rowNumber\" style = \"font-weight: bold; text-align: right;\">728</td><td style = \"text-align: left;\">2018-10-19</td><td style = \"text-align: right;\">7.76</td></tr><tr><td class = \"rowNumber\" style = \"font-weight: bold; text-align: right;\">729</td><td style = \"text-align: left;\">2018-10-20</td><td style = \"text-align: right;\">8.0</td></tr><tr><td class = \"rowNumber\" style = \"font-weight: bold; text-align: right;\">730</td><td style = \"text-align: left;\">2018-10-21</td><td style = \"text-align: right;\">1.12</td></tr><tr><td class = \"rowNumber\" style = \"font-weight: bold; text-align: right;\">731</td><td style = \"text-align: left;\">2018-10-22</td><td style = \"text-align: right;\">0.64</td></tr><tr><td class = \"rowNumber\" style = \"font-weight: bold; text-align: right;\">732</td><td style = \"text-align: left;\">2018-10-23</td><td style = \"text-align: right;\">1.2</td></tr><tr><td class = \"rowNumber\" style = \"font-weight: bold; text-align: right;\">733</td><td style = \"text-align: left;\">2018-10-24</td><td style = \"text-align: right;\">1.92</td></tr></tbody></table></div>"
      ],
      "text/latex": [
       "\\begin{tabular}{r|cc}\n",
       "\t& DATE & USAGE\\_sum\\\\\n",
       "\t\\hline\n",
       "\t& Date & Float64\\\\\n",
       "\t\\hline\n",
       "\t1 & 2016-10-22 & 4.52 \\\\\n",
       "\t2 & 2016-10-23 & 23.32 \\\\\n",
       "\t3 & 2016-10-24 & 7.16 \\\\\n",
       "\t4 & 2016-10-25 & 8.68 \\\\\n",
       "\t5 & 2016-10-26 & 5.04 \\\\\n",
       "\t6 & 2016-10-27 & 5.32 \\\\\n",
       "\t7 & 2016-10-28 & 4.64 \\\\\n",
       "\t8 & 2016-10-29 & 10.64 \\\\\n",
       "\t9 & 2016-10-30 & 7.44 \\\\\n",
       "\t10 & 2016-10-31 & 8.84 \\\\\n",
       "\t11 & 2016-11-01 & 11.44 \\\\\n",
       "\t12 & 2016-11-02 & 18.2 \\\\\n",
       "\t13 & 2016-11-03 & 14.16 \\\\\n",
       "\t14 & 2016-11-04 & 8.28 \\\\\n",
       "\t15 & 2016-11-05 & 19.64 \\\\\n",
       "\t16 & 2016-11-06 & 6.88 \\\\\n",
       "\t17 & 2016-11-07 & 7.28 \\\\\n",
       "\t18 & 2016-11-08 & 6.04 \\\\\n",
       "\t19 & 2016-11-09 & 9.04 \\\\\n",
       "\t20 & 2016-11-10 & 11.24 \\\\\n",
       "\t21 & 2016-11-11 & 6.48 \\\\\n",
       "\t22 & 2016-11-12 & 10.28 \\\\\n",
       "\t23 & 2016-11-13 & 16.4 \\\\\n",
       "\t24 & 2016-11-14 & 8.44 \\\\\n",
       "\t$\\dots$ & $\\dots$ & $\\dots$ \\\\\n",
       "\\end{tabular}\n"
      ],
      "text/plain": [
       "\u001b[1m733×2 DataFrame\u001b[0m\n",
       "\u001b[1m Row \u001b[0m│\u001b[1m DATE       \u001b[0m\u001b[1m USAGE_sum \u001b[0m\n",
       "     │\u001b[90m Date       \u001b[0m\u001b[90m Float64   \u001b[0m\n",
       "─────┼───────────────────────\n",
       "   1 │ 2016-10-22       4.52\n",
       "   2 │ 2016-10-23      23.32\n",
       "   3 │ 2016-10-24       7.16\n",
       "   4 │ 2016-10-25       8.68\n",
       "   5 │ 2016-10-26       5.04\n",
       "   6 │ 2016-10-27       5.32\n",
       "   7 │ 2016-10-28       4.64\n",
       "   8 │ 2016-10-29      10.64\n",
       "  ⋮  │     ⋮           ⋮\n",
       " 727 │ 2018-10-18       4.76\n",
       " 728 │ 2018-10-19       7.76\n",
       " 729 │ 2018-10-20       8.0\n",
       " 730 │ 2018-10-21       1.12\n",
       " 731 │ 2018-10-22       0.64\n",
       " 732 │ 2018-10-23       1.2\n",
       " 733 │ 2018-10-24       1.92\n",
       "\u001b[36m             718 rows omitted\u001b[0m"
      ]
     },
     "metadata": {},
     "output_type": "display_data"
    }
   ],
   "source": [
    "df = combine(groupby(df_raw, \"DATE\"), \"USAGE\" => sum)"
   ]
  },
  {
   "cell_type": "code",
   "execution_count": 5,
   "metadata": {},
   "outputs": [
    {
     "data": {
      "text/html": [
       "<div><div style = \"float: left;\"><span>DataFrameRow (2 columns)</span></div><div style = \"clear: both;\"></div></div><div class = \"data-frame\" style = \"overflow-x: scroll;\"><table class = \"data-frame\" style = \"margin-bottom: 6px;\"><thead><tr class = \"header\"><th class = \"rowLabel\" style = \"font-weight: bold; text-align: right;\">Row</th><th style = \"text-align: left;\">DATE</th><th style = \"text-align: left;\">USAGE_sum</th></tr><tr class = \"subheader headerLastRow\"><th class = \"rowLabel\" style = \"font-weight: bold; text-align: right;\"></th><th title = \"Date\" style = \"text-align: left;\">Date</th><th title = \"Float64\" style = \"text-align: left;\">Float64</th></tr></thead><tbody><tr><td class = \"rowLabel\" style = \"font-weight: bold; text-align: right;\">1</td><td style = \"text-align: left;\">2018-04-24</td><td style = \"text-align: right;\">10.32</td></tr></tbody></table></div>"
      ],
      "text/latex": [
       "\\begin{tabular}{r|cc}\n",
       "\t& DATE & USAGE\\_sum\\\\\n",
       "\t\\hline\n",
       "\t& Date & Float64\\\\\n",
       "\t\\hline\n",
       "\t1 & 2018-04-24 & 10.32 \\\\\n",
       "\\end{tabular}\n"
      ],
      "text/plain": [
       "\u001b[1mDataFrameRow\u001b[0m\n",
       "\u001b[1m Row \u001b[0m│\u001b[1m DATE       \u001b[0m\u001b[1m USAGE_sum \u001b[0m\n",
       "     │\u001b[90m Date       \u001b[0m\u001b[90m Float64   \u001b[0m\n",
       "─────┼───────────────────────\n",
       "   1 │ 2018-04-24      10.32"
      ]
     },
     "metadata": {},
     "output_type": "display_data"
    }
   ],
   "source": [
    "train_end = 550\n",
    "df_train, df_test = df[1:train_end, :], df[train_end:end, :]\n",
    "df_test[1, :]"
   ]
  },
  {
   "cell_type": "code",
   "execution_count": 6,
   "metadata": {},
   "outputs": [
    {
     "data": {
      "text/plain": [
       "Plot(...)"
      ]
     },
     "metadata": {},
     "output_type": "display_data"
    }
   ],
   "source": [
    "function plot_compare(xs, ys)\n",
    "  plot(layer(df_train, x=:DATE, y=:USAGE_sum, Geom.line, color=[colorant\"cyan\"]),\n",
    "       layer(df_test,  x=:DATE, y=:USAGE_sum, Geom.line, color=[colorant\"yellow\"]),\n",
    "       layer(x=xs, y=ys, Geom.line, color=[colorant\"green\"]))\n",
    "end\n",
    "plot_compare([], [])"
   ]
  },
  {
   "cell_type": "code",
   "execution_count": 7,
   "metadata": {},
   "outputs": [
    {
     "data": {
      "text/plain": [
       "train_model! (generic function with 1 method)"
      ]
     },
     "metadata": {},
     "output_type": "display_data"
    }
   ],
   "source": [
    "# Utility functions\n",
    "\n",
    "# wrapping in `sin` to \"normalize\" to [-1, 1]\n",
    "expand_date(d) = [sin(day(d)), sin(month(d)), sin(year(d))]\n",
    "\n",
    "loss(model, row) = mean(abs2.(model(row[:DATE]) .- row[:USAGE_sum]))\n",
    "\n",
    "function train_model!(model)\n",
    "  opt_state = Flux.setup(Adam(), model)\n",
    "  # 50 epochs\n",
    "  for epoch in 1:50\n",
    "    Flux.train!(loss, model, eachrow(df_train), opt_state)\n",
    "  end\n",
    "end"
   ]
  },
  {
   "cell_type": "code",
   "execution_count": 8,
   "metadata": {},
   "outputs": [
    {
     "data": {
      "text/plain": [
       "3-element Vector{Float64}:\n",
       " -0.9055783620066239\n",
       " -0.7568024953079282\n",
       "  0.890078059172214"
      ]
     },
     "metadata": {},
     "output_type": "display_data"
    }
   ],
   "source": [
    "expand_date(df_test[1, :DATE])"
   ]
  },
  {
   "cell_type": "code",
   "execution_count": 9,
   "metadata": {},
   "outputs": [
    {
     "data": {
      "text/plain": [
       "Chain(\n",
       "  expand_date,\n",
       "  Dense(3 => 5, σ),                     \u001b[90m# 20 parameters\u001b[39m\n",
       "  Dense(5 => 1),                        \u001b[90m# 6 parameters\u001b[39m\n",
       ") \u001b[90m                  # Total: 4 arrays, \u001b[39m26 parameters, 360 bytes."
      ]
     },
     "metadata": {},
     "output_type": "display_data"
    }
   ],
   "source": [
    "baseline = Chain(\n",
    "  expand_date,\n",
    "  Dense(3 => 5, σ),\n",
    "  Dense(5 => 1)\n",
    ")"
   ]
  },
  {
   "cell_type": "code",
   "execution_count": 10,
   "metadata": {},
   "outputs": [
    {
     "name": "stderr",
     "output_type": "stream",
     "text": [
      "┌ Warning: Layer with Float32 parameters got Float64 input.\n",
      "│   The input will be converted, but any earlier layers may be very slow.\n",
      "│   layer = Dense(3 => 5, σ)\n",
      "│   summary(x) = 3-element Vector{Float64}\n",
      "└ @ Flux C:\\Users\\gabriel\\.julia\\packages\\Flux\\EHgZm\\src\\layers\\stateless.jl:60\n"
     ]
    },
    {
     "data": {
      "text/plain": [
       "1-element Vector{Float32}:\n",
       " 0.6067587"
      ]
     },
     "metadata": {},
     "output_type": "display_data"
    }
   ],
   "source": [
    "baseline(df_test[1, :DATE])"
   ]
  },
  {
   "cell_type": "code",
   "execution_count": 11,
   "metadata": {},
   "outputs": [
    {
     "data": {
      "text/plain": [
       "94.34705628545088"
      ]
     },
     "metadata": {},
     "output_type": "display_data"
    }
   ],
   "source": [
    "loss(baseline, df_test[1, :])"
   ]
  },
  {
   "cell_type": "code",
   "execution_count": 12,
   "metadata": {},
   "outputs": [
    {
     "data": {
      "text/plain": [
       "16027.561627876154"
      ]
     },
     "metadata": {},
     "output_type": "display_data"
    }
   ],
   "source": [
    "sum([loss(baseline, row) for row in eachrow(df_test)])"
   ]
  },
  {
   "cell_type": "code",
   "execution_count": 13,
   "metadata": {},
   "outputs": [
    {
     "name": "stderr",
     "output_type": "stream",
     "text": [
      "Internal error: encountered unexpected error in runtime:\n",
      "BoundsError(a=Array{Core.Compiler.VarState, (4,)}[Core.Compiler.VarState(typ=Zygote.Pullback{Tuple{typeof(Base.get), Base.Dict{Symbol, Int64}, Symbol, Nothing}, Any}, undef=false), Core.Compiler.VarState(typ=Core.Const(val=nothing), undef=false), Core.Compiler.VarState(typ=Core.Const(val=nothing), undef=false), Core.Compiler.VarState(typ=Core.Const(val=nothing), undef=false)], i=(5,))\n",
      "ijl_bounds_error_ints at C:/workdir/src\\rtutils.c:194\n",
      "setindex! at .\\array.jl:969 [inlined]\n",
      "stoverwrite1! at .\\compiler\\typelattice.jl:599\n",
      "typeinf_local at .\\compiler\\abstractinterpretation.jl:2876\n",
      "typeinf_nocycle at .\\compiler\\abstractinterpretation.jl:2957\n",
      "_typeinf at .\\compiler\\typeinfer.jl:246\n",
      "typeinf at .\\compiler\\typeinfer.jl:216\n",
      "typeinf_ext at .\\compiler\\typeinfer.jl:1058\n",
      "typeinf_ext_toplevel at .\\compiler\\typeinfer.jl:1091\n",
      "typeinf_ext_toplevel at .\\compiler\\typeinfer.jl:1087\n",
      "jfptr_typeinf_ext_toplevel_18220.clone_1 at C:\\opt\\julia-1.9.0\\lib\\julia\\sys.dll (unknown line)\n",
      "_jl_invoke at C:/workdir/src\\gf.c:2758 [inlined]\n",
      "ijl_apply_generic at C:/workdir/src\\gf.c:2940 [inlined]\n",
      "jl_apply at C:/workdir/src\\julia.h:1879 [inlined]\n",
      "jl_type_infer at C:/workdir/src\\gf.c:320\n",
      "jl_generate_fptr_impl at C:/workdir/src\\jitlayers.cpp:444\n",
      "jl_compile_method_internal at C:/workdir/src\\gf.c:2348\n",
      "jl_compile_method_internal at C:/workdir/src\\gf.c:2241 [inlined]\n",
      "_jl_invoke at C:/workdir/src\\gf.c:2750 [inlined]\n",
      "ijl_apply_generic at C:/workdir/src\\gf.c:2940\n",
      "Pullback at C:\\Users\\gabriel\\.julia\\packages\\DataFrames\\LteEl\\src\\other\\index.jl:395 [inlined]\n",
      "Pullback at C:\\Users\\gabriel\\.julia\\packages\\DataFrames\\LteEl\\src\\other\\index.jl:413 [inlined]\n",
      "Pullback at C:\\Users\\gabriel\\.julia\\packages\\DataFrames\\LteEl\\src\\other\\index.jl:463 [inlined]\n",
      "Pullback at C:\\Users\\gabriel\\.julia\\packages\\Zygote\\SuKWp\\src\\compiler\\interface2.jl:0\n",
      "unknown function (ip: 00000220c86d9d03)\n",
      "Pullback at C:\\Users\\gabriel\\.julia\\packages\\DataFrames\\LteEl\\src\\dataframerow\\dataframerow.jl:212 [inlined]\n",
      "Pullback at C:\\Users\\gabriel\\.julia\\packages\\Zygote\\SuKWp\\src\\tools\\builtins.jl:12 [inlined]\n",
      "Pullback at C:\\Users\\gabriel\\.julia\\packages\\Zygote\\SuKWp\\src\\compiler\\interface2.jl:0\n",
      "Pullback at c:\\Users\\gabriel\\trans\\GDL\\RNNs.ipynb:6 [inlined]\n",
      "Pullback at C:\\Users\\gabriel\\.julia\\packages\\Zygote\\SuKWp\\src\\compiler\\interface2.jl:0\n",
      "#287 at C:\\Users\\gabriel\\.julia\\packages\\Zygote\\SuKWp\\src\\lib\\lib.jl:206 [inlined]\n",
      "#2157#back at C:\\Users\\gabriel\\.julia\\packages\\ZygoteRules\\OgCVT\\src\\adjoint.jl:71 [inlined]\n",
      "Pullback at C:\\Users\\gabriel\\.julia\\packages\\Flux\\EHgZm\\src\\train.jl:107 [inlined]\n",
      "Pullback at C:\\Users\\gabriel\\.julia\\packages\\Zygote\\SuKWp\\src\\compiler\\interface2.jl:0\n",
      "#75 at C:\\Users\\gabriel\\.julia\\packages\\Zygote\\SuKWp\\src\\compiler\\interface.jl:45\n",
      "unknown function (ip: 00000220c86d131f)\n",
      "withgradient at C:\\Users\\gabriel\\.julia\\packages\\Zygote\\SuKWp\\src\\compiler\\interface.jl:133\n",
      "unknown function (ip: 00000220c8940fda)\n",
      "macro expansion at C:\\Users\\gabriel\\.julia\\packages\\Flux\\EHgZm\\src\\train.jl:107 [inlined]\n",
      "macro expansion at C:\\Users\\gabriel\\.julia\\packages\\ProgressLogging\\6KXlp\\src\\ProgressLogging.jl:328 [inlined]\n",
      "#train!#3 at C:\\Users\\gabriel\\.julia\\packages\\Flux\\EHgZm\\src\\train.jl:105\n",
      "train! at C:\\Users\\gabriel\\.julia\\packages\\Flux\\EHgZm\\src\\train.jl:102\n",
      "unknown function (ip: 00000220c8940986)\n",
      "train_model! at c:\\Users\\gabriel\\trans\\GDL\\RNNs.ipynb:12\n",
      "unknown function (ip: 00000220c893ac16)\n",
      "jl_apply at C:/workdir/src\\julia.h:1879 [inlined]\n",
      "do_call at C:/workdir/src\\interpreter.c:126\n",
      "eval_value at C:/workdir/src\\interpreter.c:226\n",
      "eval_stmt_value at C:/workdir/src\\interpreter.c:177 [inlined]\n",
      "eval_body at C:/workdir/src\\interpreter.c:624\n",
      "jl_interpret_toplevel_thunk at C:/workdir/src\\interpreter.c:762\n",
      "top-level scope at c:\\Users\\gabriel\\trans\\GDL\\RNNs.ipynb:1\n",
      "jl_toplevel_eval_flex at C:/workdir/src\\toplevel.c:912\n",
      "jl_toplevel_eval_flex at C:/workdir/src\\toplevel.c:856\n",
      "ijl_toplevel_eval at C:/workdir/src\\toplevel.c:921 [inlined]\n",
      "ijl_toplevel_eval_in at C:/workdir/src\\toplevel.c:971\n",
      "eval at .\\boot.jl:370 [inlined]\n",
      "include_string at .\\loading.jl:1864\n",
      "jl_apply at C:/workdir/src\\julia.h:1879 [inlined]\n",
      "jl_f__call_latest at C:/workdir/src\\builtins.c:774\n",
      "#invokelatest#2 at .\\essentials.jl:816 [inlined]\n",
      "invokelatest at .\\essentials.jl:813 [inlined]\n",
      "#198 at c:\\Users\\gabriel\\.vscode\\extensions\\julialang.language-julia-1.38.2\\scripts\\packages\\VSCodeServer\\src\\serve_notebook.jl:19\n",
      "withpath at c:\\Users\\gabriel\\.vscode\\extensions\\julialang.language-julia-1.38.2\\scripts\\packages\\VSCodeServer\\src\\repl.jl:249\n",
      "notebook_runcell_request at c:\\Users\\gabriel\\.vscode\\extensions\\julialang.language-julia-1.38.2\\scripts\\packages\\VSCodeServer\\src\\serve_notebook.jl:13\n",
      "unknown function (ip: 00000220e0401d4a)\n",
      "dispatch_msg at c:\\Users\\gabriel\\.vscode\\extensions\\julialang.language-julia-1.38.2\\scripts\\packages\\JSONRPC\\src\\typed.jl:67\n",
      "#serve_notebook#200 at c:\\Users\\gabriel\\.vscode\\extensions\\julialang.language-julia-1.38.2\\scripts\\packages\\VSCodeServer\\src\\serve_notebook.jl:139\n",
      "serve_notebook at c:\\Users\\gabriel\\.vscode\\extensions\\julialang.language-julia-1.38.2\\scripts\\packages\\VSCodeServer\\src\\serve_notebook.jl:75\n",
      "unknown function (ip: 00000220e03eb7c2)\n",
      "top-level scope at c:\\Users\\gabriel\\.vscode\\extensions\\julialang.language-julia-1.38.2\\scripts\\notebook\\notebook.jl:32\n",
      "jl_toplevel_eval_flex at C:/workdir/src\\toplevel.c:903\n",
      "jl_toplevel_eval_flex at C:/workdir/src\\toplevel.c:856\n",
      "ijl_toplevel_eval at C:/workdir/src\\toplevel.c:921 [inlined]\n",
      "ijl_toplevel_eval_in at C:/workdir/src\\toplevel.c:971\n",
      "eval at .\\boot.jl:370 [inlined]\n",
      "include_string at .\\loading.jl:1864\n",
      "_include at .\\loading.jl:1924\n",
      "include at .\\Base.jl:457\n",
      "jfptr_include_51838.clone_1 at C:\\opt\\julia-1.9.0\\lib\\julia\\sys.dll (unknown line)\n",
      "exec_options at .\\client.jl:307\n",
      "_start at .\\client.jl:522\n",
      "jfptr__start_34279.clone_1 at C:\\opt\\julia-1.9.0\\lib\\julia\\sys.dll (unknown line)\n",
      "jl_apply at C:/workdir/src\\julia.h:1879 [inlined]\n",
      "true_main at C:/workdir/src\\jlapi.c:573\n",
      "jl_repl_entrypoint at C:/workdir/src\\jlapi.c:717\n",
      "mainCRTStartup at C:/workdir/cli\\loader_exe.c:59\n",
      "BaseThreadInitThunk at C:\\WINDOWS\\System32\\KERNEL32.DLL (unknown line)\n",
      "RtlUserThreadStart at C:\\WINDOWS\\SYSTEM32\\ntdll.dll (unknown line)\n",
      "Internal error: encountered unexpected error during compilation of Pullback:\n",
      "ReadOnlyMemoryError()\n",
      ".text$_ZN4llvm9StoreInstC2EPNS_5ValueES2_bNS_5AlignENS_14AtomicOrderingEhPNS_11InstructionE at C:\\opt\\julia-1.9.0\\bin\\libLLVM-14jl.dll (unknown line)\n",
      ".text$_ZN4llvm9StoreInstC2EPNS_5ValueES2_bNS_5AlignEPNS_11InstructionE at C:\\opt\\julia-1.9.0\\bin\\libLLVM-14jl.dll (unknown line)\n",
      "CreateAlignedStore at C:/workdir/usr/include/llvm/IR\\IRBuilder.h:1701\n",
      "CreateStore at C:/workdir/usr/include/llvm/IR\\IRBuilder.h:1673 [inlined]\n",
      "emit_varinfo_assign at C:/workdir/src\\codegen.cpp:4904\n",
      "emit_assignment at C:/workdir/src\\codegen.cpp:4942 [inlined]\n",
      "emit_expr at C:/workdir/src\\codegen.cpp:5285\n",
      "emit_ssaval_assign at C:/workdir/src\\codegen.cpp:4860\n",
      "emit_stmtpos at C:/workdir/src\\codegen.cpp:5095 [inlined]\n",
      "emit_function at C:/workdir/src\\codegen.cpp:8073\n",
      "jl_emit_code at C:/workdir/src\\codegen.cpp:8408\n",
      "jl_emit_codeinst at C:/workdir/src\\codegen.cpp:8456\n",
      "_jl_compile_codeinst at C:/workdir/src\\jitlayers.cpp:204\n",
      "jl_generate_fptr_for_unspecialized_impl at C:/workdir/src\\jitlayers.cpp:512\n",
      "jl_compile_method_internal at C:/workdir/src\\gf.c:2362\n",
      "jl_compile_method_internal at C:/workdir/src\\gf.c:2241 [inlined]\n",
      "_jl_invoke at C:/workdir/src\\gf.c:2750 [inlined]\n",
      "ijl_apply_generic at C:/workdir/src\\gf.c:2940\n",
      "Pullback at C:\\Users\\gabriel\\.julia\\packages\\DataFrames\\LteEl\\src\\other\\index.jl:395 [inlined]\n",
      "Pullback at C:\\Users\\gabriel\\.julia\\packages\\DataFrames\\LteEl\\src\\other\\index.jl:413 [inlined]\n",
      "Pullback at C:\\Users\\gabriel\\.julia\\packages\\DataFrames\\LteEl\\src\\other\\index.jl:463 [inlined]\n",
      "Pullback at C:\\Users\\gabriel\\.julia\\packages\\Zygote\\SuKWp\\src\\compiler\\interface2.jl:0\n",
      "unknown function (ip: 00000220c86d9d03)\n",
      "Pullback at C:\\Users\\gabriel\\.julia\\packages\\DataFrames\\LteEl\\src\\dataframerow\\dataframerow.jl:212 [inlined]\n",
      "Pullback at C:\\Users\\gabriel\\.julia\\packages\\Zygote\\SuKWp\\src\\tools\\builtins.jl:12 [inlined]\n",
      "Pullback at C:\\Users\\gabriel\\.julia\\packages\\Zygote\\SuKWp\\src\\compiler\\interface2.jl:0\n",
      "Pullback at c:\\Users\\gabriel\\trans\\GDL\\RNNs.ipynb:6 [inlined]\n",
      "Pullback at C:\\Users\\gabriel\\.julia\\packages\\Zygote\\SuKWp\\src\\compiler\\interface2.jl:0\n",
      "#287 at C:\\Users\\gabriel\\.julia\\packages\\Zygote\\SuKWp\\src\\lib\\lib.jl:206 [inlined]\n",
      "#2157#back at C:\\Users\\gabriel\\.julia\\packages\\ZygoteRules\\OgCVT\\src\\adjoint.jl:71 [inlined]\n",
      "Pullback at C:\\Users\\gabriel\\.julia\\packages\\Flux\\EHgZm\\src\\train.jl:107 [inlined]\n",
      "Pullback at C:\\Users\\gabriel\\.julia\\packages\\Zygote\\SuKWp\\src\\compiler\\interface2.jl:0\n",
      "#75 at C:\\Users\\gabriel\\.julia\\packages\\Zygote\\SuKWp\\src\\compiler\\interface.jl:45\n",
      "unknown function (ip: 00000220c86d131f)\n",
      "withgradient at C:\\Users\\gabriel\\.julia\\packages\\Zygote\\SuKWp\\src\\compiler\\interface.jl:133\n",
      "unknown function (ip: 00000220c8940fda)\n",
      "macro expansion at C:\\Users\\gabriel\\.julia\\packages\\Flux\\EHgZm\\src\\train.jl:107 [inlined]\n",
      "macro expansion at C:\\Users\\gabriel\\.julia\\packages\\ProgressLogging\\6KXlp\\src\\ProgressLogging.jl:328 [inlined]\n",
      "#train!#3 at C:\\Users\\gabriel\\.julia\\packages\\Flux\\EHgZm\\src\\train.jl:105\n",
      "train! at C:\\Users\\gabriel\\.julia\\packages\\Flux\\EHgZm\\src\\train.jl:102\n",
      "unknown function (ip: 00000220c8940986)\n",
      "train_model! at c:\\Users\\gabriel\\trans\\GDL\\RNNs.ipynb:12\n",
      "unknown function (ip: 00000220c893ac16)\n",
      "jl_apply at C:/workdir/src\\julia.h:1879 [inlined]\n",
      "do_call at C:/workdir/src\\interpreter.c:126\n",
      "eval_value at C:/workdir/src\\interpreter.c:226\n",
      "eval_stmt_value at C:/workdir/src\\interpreter.c:177 [inlined]\n",
      "eval_body at C:/workdir/src\\interpreter.c:624\n",
      "jl_interpret_toplevel_thunk at C:/workdir/src\\interpreter.c:762\n",
      "top-level scope at c:\\Users\\gabriel\\trans\\GDL\\RNNs.ipynb:1\n",
      "jl_toplevel_eval_flex at C:/workdir/src\\toplevel.c:912\n",
      "jl_toplevel_eval_flex at C:/workdir/src\\toplevel.c:856\n",
      "ijl_toplevel_eval at C:/workdir/src\\toplevel.c:921 [inlined]\n",
      "ijl_toplevel_eval_in at C:/workdir/src\\toplevel.c:971\n",
      "eval at .\\boot.jl:370 [inlined]\n",
      "include_string at .\\loading.jl:1864\n",
      "jl_apply at C:/workdir/src\\julia.h:1879 [inlined]\n",
      "jl_f__call_latest at C:/workdir/src\\builtins.c:774\n",
      "#invokelatest#2 at .\\essentials.jl:816 [inlined]\n",
      "invokelatest at .\\essentials.jl:813 [inlined]\n",
      "#198 at c:\\Users\\gabriel\\.vscode\\extensions\\julialang.language-julia-1.38.2\\scripts\\packages\\VSCodeServer\\src\\serve_notebook.jl:19\n",
      "withpath at c:\\Users\\gabriel\\.vscode\\extensions\\julialang.language-julia-1.38.2\\scripts\\packages\\VSCodeServer\\src\\repl.jl:249\n",
      "notebook_runcell_request at c:\\Users\\gabriel\\.vscode\\extensions\\julialang.language-julia-1.38.2\\scripts\\packages\\VSCodeServer\\src\\serve_notebook.jl:13\n",
      "unknown function (ip: 00000220e0401d4a)\n",
      "dispatch_msg at c:\\Users\\gabriel\\.vscode\\extensions\\julialang.language-julia-1.38.2\\scripts\\packages\\JSONRPC\\src\\typed.jl:67\n",
      "#serve_notebook#200 at c:\\Users\\gabriel\\.vscode\\extensions\\julialang.language-julia-1.38.2\\scripts\\packages\\VSCodeServer\\src\\serve_notebook.jl:139\n",
      "serve_notebook at c:\\Users\\gabriel\\.vscode\\extensions\\julialang.language-julia-1.38.2\\scripts\\packages\\VSCodeServer\\src\\serve_notebook.jl:75\n",
      "unknown function (ip: 00000220e03eb7c2)\n",
      "top-level scope at c:\\Users\\gabriel\\.vscode\\extensions\\julialang.language-julia-1.38.2\\scripts\\notebook\\notebook.jl:32\n",
      "jl_toplevel_eval_flex at C:/workdir/src\\toplevel.c:903\n",
      "jl_toplevel_eval_flex at C:/workdir/src\\toplevel.c:856\n",
      "ijl_toplevel_eval at C:/workdir/src\\toplevel.c:921 [inlined]\n",
      "ijl_toplevel_eval_in at C:/workdir/src\\toplevel.c:971\n",
      "eval at .\\boot.jl:370 [inlined]\n",
      "include_string at .\\loading.jl:1864\n",
      "_include at .\\loading.jl:1924\n",
      "include at .\\Base.jl:457\n",
      "jfptr_include_51838.clone_1 at C:\\opt\\julia-1.9.0\\lib\\julia\\sys.dll (unknown line)\n",
      "exec_options at .\\client.jl:307\n",
      "_start at .\\client.jl:522\n",
      "jfptr__start_34279.clone_1 at C:\\opt\\julia-1.9.0\\lib\\julia\\sys.dll (unknown line)\n",
      "jl_apply at C:/workdir/src\\julia.h:1879 [inlined]\n",
      "true_main at C:/workdir/src\\jlapi.c:573\n",
      "jl_repl_entrypoint at C:/workdir/src\\jlapi.c:717\n",
      "mainCRTStartup at C:/workdir/cli\\loader_exe.c:59\n",
      "BaseThreadInitThunk at C:\\WINDOWS\\System32\\KERNEL32.DLL (unknown line)\n",
      "RtlUserThreadStart at C:\\WINDOWS\\SYSTEM32\\ntdll.dll (unknown line)\n"
     ]
    }
   ],
   "source": [
    "train_model!(baseline)"
   ]
  },
  {
   "cell_type": "code",
   "execution_count": 14,
   "metadata": {},
   "outputs": [
    {
     "data": {
      "text/plain": [
       "0.026912335914808412"
      ]
     },
     "metadata": {},
     "output_type": "display_data"
    }
   ],
   "source": [
    "loss(baseline, df_test[1, :])"
   ]
  },
  {
   "cell_type": "code",
   "execution_count": 15,
   "metadata": {},
   "outputs": [
    {
     "data": {
      "text/plain": [
       "3648.203613356865"
      ]
     },
     "metadata": {},
     "output_type": "display_data"
    }
   ],
   "source": [
    "sum([loss(baseline, row) for row in eachrow(df_test)])"
   ]
  },
  {
   "cell_type": "code",
   "execution_count": 16,
   "metadata": {},
   "outputs": [
    {
     "data": {
      "image/svg+xml": [
       "<?xml version=\"1.0\" encoding=\"UTF-8\"?>\n",
       "<svg xmlns=\"http://www.w3.org/2000/svg\"\n",
       "     xmlns:xlink=\"http://www.w3.org/1999/xlink\"\n",
       "     xmlns:gadfly=\"http://www.gadflyjl.org/ns\"\n",
       "     version=\"1.2\"\n",
       "     width=\"264.55mm\" height=\"158.73mm\" viewBox=\"0 0 264.55 158.73\"\n",
       "     stroke=\"none\"\n",
       "     fill=\"#000000\"\n",
       "     stroke-width=\"0.3\"\n",
       "     font-size=\"3.88\"\n",
       ">\n",
       "<defs>\n",
       "  <marker id=\"arrow\" markerWidth=\"15\" markerHeight=\"7\" refX=\"5\" refY=\"3.5\" orient=\"auto\" markerUnits=\"strokeWidth\">\n",
       "    <path d=\"M0,0 L15,3.5 L0,7 z\" stroke=\"context-stroke\" fill=\"context-stroke\"/>\n",
       "  </marker>\n",
       "</defs>\n",
       "<g class=\"plotroot xscalable yscalable\" id=\"img-acd229f6-1\">\n",
       "  <g font-size=\"3.88\" font-family=\"'PT Sans','Helvetica Neue','Helvetica',sans-serif\" fill=\"#564A55\" stroke=\"#000000\" stroke-opacity=\"0.000\" id=\"img-acd229f6-2\">\n",
       "    <g transform=\"translate(138.75,147.12)\">\n",
       "      <g class=\"primitive\">\n",
       "        <text text-anchor=\"middle\" dy=\"0.6em\">DATE</text>\n",
       "      </g>\n",
       "    </g>\n",
       "  </g>\n",
       "  <g class=\"guide xlabels\" font-size=\"2.82\" font-family=\"'PT Sans Caption','Helvetica Neue','Helvetica',sans-serif\" fill=\"#6C606B\" id=\"img-acd229f6-3\">\n",
       "    <g transform=\"translate(19.96,140.45)\">\n",
       "      <g class=\"primitive\">\n",
       "        <text text-anchor=\"middle\" dy=\"0.6em\">2016</text>\n",
       "      </g>\n",
       "    </g>\n",
       "    <g transform=\"translate(99.3,140.45)\">\n",
       "      <g class=\"primitive\">\n",
       "        <text text-anchor=\"middle\" dy=\"0.6em\">2017</text>\n",
       "      </g>\n",
       "    </g>\n",
       "    <g transform=\"translate(178.43,140.45)\">\n",
       "      <g class=\"primitive\">\n",
       "        <text text-anchor=\"middle\" dy=\"0.6em\">2018</text>\n",
       "      </g>\n",
       "    </g>\n",
       "    <g transform=\"translate(257.55,140.45)\">\n",
       "      <g class=\"primitive\">\n",
       "        <text text-anchor=\"middle\" dy=\"0.6em\">2019</text>\n",
       "      </g>\n",
       "    </g>\n",
       "  </g>\n",
       "  <g clip-path=\"url(#img-acd229f6-4)\">\n",
       "    <g id=\"img-acd229f6-5\">\n",
       "      <g pointer-events=\"visible\" stroke-width=\"0.3\" fill=\"#000000\" fill-opacity=\"0.000\" stroke=\"#000000\" stroke-opacity=\"0.000\" class=\"guide background\" id=\"img-acd229f6-6\">\n",
       "        <g transform=\"translate(138.75,72.22)\" id=\"img-acd229f6-7\">\n",
       "          <path d=\"M-120.8,-67.22 L120.8,-67.22 120.8,67.22 -120.8,67.22  z\" class=\"primitive\"/>\n",
       "        </g>\n",
       "      </g>\n",
       "      <g class=\"guide ygridlines xfixed\" stroke-dasharray=\"0.5,0.5\" stroke-width=\"0.2\" stroke=\"#D0D0E0\" id=\"img-acd229f6-8\">\n",
       "        <g transform=\"translate(138.75,137.45)\" id=\"img-acd229f6-9\">\n",
       "          <path fill=\"none\" d=\"M-120.8,0 L120.8,0 \" class=\"primitive\"/>\n",
       "        </g>\n",
       "        <g transform=\"translate(138.75,104.83)\" id=\"img-acd229f6-10\">\n",
       "          <path fill=\"none\" d=\"M-120.8,0 L120.8,0 \" class=\"primitive\"/>\n",
       "        </g>\n",
       "        <g transform=\"translate(138.75,72.22)\" id=\"img-acd229f6-11\">\n",
       "          <path fill=\"none\" d=\"M-120.8,0 L120.8,0 \" class=\"primitive\"/>\n",
       "        </g>\n",
       "        <g transform=\"translate(138.75,39.61)\" id=\"img-acd229f6-12\">\n",
       "          <path fill=\"none\" d=\"M-120.8,0 L120.8,0 \" class=\"primitive\"/>\n",
       "        </g>\n",
       "        <g transform=\"translate(138.75,7)\" id=\"img-acd229f6-13\">\n",
       "          <path fill=\"none\" d=\"M-120.8,0 L120.8,0 \" class=\"primitive\"/>\n",
       "        </g>\n",
       "      </g>\n",
       "      <g class=\"guide xgridlines yfixed\" stroke-dasharray=\"0.5,0.5\" stroke-width=\"0.2\" stroke=\"#D0D0E0\" id=\"img-acd229f6-14\">\n",
       "        <g transform=\"translate(19.96,72.22)\" id=\"img-acd229f6-15\">\n",
       "          <path fill=\"none\" d=\"M0,-67.22 L0,67.22 \" class=\"primitive\"/>\n",
       "        </g>\n",
       "        <g transform=\"translate(99.3,72.22)\" id=\"img-acd229f6-16\">\n",
       "          <path fill=\"none\" d=\"M0,-67.22 L0,67.22 \" class=\"primitive\"/>\n",
       "        </g>\n",
       "        <g transform=\"translate(178.43,72.22)\" id=\"img-acd229f6-17\">\n",
       "          <path fill=\"none\" d=\"M0,-67.22 L0,67.22 \" class=\"primitive\"/>\n",
       "        </g>\n",
       "        <g transform=\"translate(257.55,72.22)\" id=\"img-acd229f6-18\">\n",
       "          <path fill=\"none\" d=\"M0,-67.22 L0,67.22 \" class=\"primitive\"/>\n",
       "        </g>\n",
       "      </g>\n",
       "      <g class=\"plotpanel\" id=\"img-acd229f6-19\">\n",
       "        <metadata>\n",
       "          <boundingbox value=\"17.958333333333343mm 5.0mm 241.59193121693127mm 134.44515873015877mm\"/>\n",
       "          <unitbox value=\"2015-12-22T18:34:42.021 40.61328454638542 96288635958 milliseconds -41.226569092770845\"/>\n",
       "        </metadata>\n",
       "        <g stroke-width=\"0.3\" fill=\"#000000\" fill-opacity=\"0.000\" class=\"geometry\" id=\"img-acd229f6-20\">\n",
       "          <g class=\"color_RGB{N0f8}(0.0,0.502,0.0)\" stroke-dasharray=\"none\" stroke=\"#008000\" id=\"img-acd229f6-21\">\n",
       "            <g transform=\"translate(222.76,99.1)\" id=\"img-acd229f6-22\">\n",
       "              <path fill=\"none\" d=\"M-19.84,4.15 L-19.62,5.77 -19.4,7.6 -19.19,7.98 -18.97,6.6 -18.75,4.65 -18.53,3.98 -18.32,9.52 -18.1,9.64 -17.88,8.22 -17.67,6.42 -17.45,6.01 -17.23,7.39 -17.02,9.19 -16.8,9.77 -16.58,8.74 -16.37,6.86 -16.15,5.92 -15.93,6.87 -15.72,8.75 -15.5,9.78 -15.28,9.18 -15.07,7.38 -14.85,6 -14.63,6.44 -14.42,8.24 -14.2,9.64 -13.98,9.51 -13.77,7.93 -13.55,6.24 -13.33,6.12 -13.12,7.69 -12.9,9.38 -12.68,9.72 -12.46,8.47 -12.25,6.61 -12.03,5.95 -11.81,7.14 -11.6,3.35 -11.38,3.49 -11.16,1.86 -10.95,0.14 -10.73,-0.21 -10.51,1.03 -10.3,2.95 -10.08,3.67 -9.86,2.43 -9.65,0.52 -9.43,-0.28 -9.21,0.54 -9,2.45 -8.78,3.67 -8.56,2.93 -8.35,1.01 -8.13,-0.21 -7.91,0.15 -7.7,1.88 -7.48,3.5 -7.26,3.34 -7.05,1.56 -6.83,-0.02 -6.61,-0.12 -6.4,1.31 -6.18,3.18 -5.96,3.59 -5.74,2.13 -5.53,0.31 -5.31,-0.26 -5.09,-3.85 -4.88,-3.76 -4.66,-4.65 -4.44,-5.37 -4.23,-5.49 -4.01,-5.02 -3.79,-4.08 -3.58,-3.66 -3.36,-4.36 -3.14,-5.23 -2.93,-5.51 -2.71,-5.22 -2.49,-4.36 -2.28,-3.66 -2.06,-4.09 -1.84,-5.03 -1.63,-5.49 -1.41,-5.37 -1.19,-4.64 -0.98,-3.76 -0.76,-3.86 -0.54,-4.79 -0.33,-5.43 -0.11,-5.46 0.11,-4.9 0.33,-3.95 0.54,-3.7 0.76,-4.51 0.98,-5.31 1.19,-5.51 1.41,-5.12 1.63,-5.44 1.84,-5.38 2.06,-5.96 2.28,-6.4 2.49,-6.47 2.71,-6.2 2.93,-5.59 3.14,-5.31 3.36,-5.78 3.58,-6.32 3.79,-6.48 4.01,-6.31 4.23,-5.77 4.44,-5.3 4.66,-5.6 4.88,-6.2 5.09,-6.47 5.31,-6.4 5.53,-5.96 5.74,-5.38 5.96,-5.44 6.18,-6.05 6.4,-6.43 6.61,-6.45 6.83,-6.12 7.05,-5.51 7.26,-5.34 7.48,-5.88 7.7,-6.36 7.91,-6.47 8.13,-6.25 8.35,-2.34 8.56,-2.23 8.78,-3.36 9,-4.34 9.21,-4.51 9.43,-3.86 9.65,-2.63 9.86,-2.1 10.08,-2.99 10.3,-4.14 10.51,-4.55 10.73,-4.13 10.95,-2.98 11.16,-2.09 11.38,-2.64 11.6,-3.87 11.81,-4.52 12.03,-4.34 12.25,-3.34 12.46,-2.22 12.68,-2.35 12.9,-3.54 13.12,-4.42 13.33,-4.47 13.55,-3.69 13.77,-2.46 13.98,-2.15 14.2,-3.18 14.42,-4.25 14.63,-4.54 14.85,5.81 15.07,5.95 15.28,4.32 15.5,2.45 15.72,2.05 15.93,3.43 16.15,5.41 16.37,6.12 16.58,4.89 16.8,2.88 17.02,1.97 17.23,2.9 17.45,4.91 17.67,6.12 17.88,5.4 18.1,3.41 18.32,2.05 18.53,2.46 18.75,4.33 18.97,5.96 19.19,5.8 19.4,4 19.62,2.27 19.84,2.16 \" class=\"primitive\"/>\n",
       "            </g>\n",
       "          </g>\n",
       "        </g>\n",
       "        <g stroke-width=\"0.3\" fill=\"#000000\" fill-opacity=\"0.000\" class=\"geometry\" id=\"img-acd229f6-23\">\n",
       "          <g class=\"color_RGB{N0f8}(1.0,1.0,0.0)\" stroke-dasharray=\"none\" stroke=\"#FFFF00\" id=\"img-acd229f6-24\">\n",
       "            <g transform=\"translate(222.76,107.86)\" id=\"img-acd229f6-25\">\n",
       "              <path fill=\"none\" d=\"M-19.84,-4.07 L-19.62,10.8 -19.4,10.54 -19.19,4.28 -18.97,-10.86 -18.75,-8.25 -18.53,2.19 -18.32,4.28 -18.1,10.28 -17.88,6.89 -17.67,5.45 -17.45,-19.33 -17.23,-13.07 -17.02,10.02 -16.8,5.32 -16.58,0.88 -16.37,4.28 -16.15,12.76 -15.93,-0.03 -15.72,1.02 -15.5,10.15 -15.28,5.06 -15.07,-0.55 -14.85,-23.12 -14.63,13.15 -14.42,-8.9 -14.2,-9.03 -13.98,13.02 -13.77,8.19 -13.55,10.41 -13.33,16.28 -13.12,13.54 -12.9,18.1 -12.68,17.45 -12.46,-20.9 -12.25,-4.72 -12.03,5.19 -11.81,-22.46 -11.6,-11.12 -11.38,-16.86 -11.16,-22.73 -10.95,4.02 -10.73,9.76 -10.51,2.97 -10.3,8.06 -10.08,-4.46 -9.86,-19.73 -9.65,-5.12 -9.43,3.23 -9.21,-2.25 -9,2.32 -8.78,1.8 -8.56,6.36 -8.35,-4.85 -8.13,-4.99 -7.91,5.97 -7.7,5.19 -7.48,7.02 -7.26,6.36 -7.05,-15.42 -6.83,-14.77 -6.61,-54.42 -6.4,-4.72 -6.18,5.97 -5.96,7.15 -5.74,7.93 -5.53,-1.07 -5.31,-36.94 -5.09,-13.59 -4.88,-12.16 -4.66,6.89 -4.44,1.41 -4.23,8.32 -4.01,-32.9 -3.79,11.32 -3.58,-8.38 -3.36,-25.73 -3.14,-2.77 -2.93,5.97 -2.71,0.62 -2.49,7.28 -2.28,-8.51 -2.06,-11.12 -1.84,0.75 -1.63,3.23 -1.41,1.02 -1.19,4.8 -0.98,-6.03 -0.76,7.02 -0.54,-9.55 -0.33,-6.94 -0.11,-0.03 0.11,-15.81 0.33,-21.29 0.54,-6.55 0.76,8.71 0.98,-3.42 1.19,-3.68 1.41,3.23 1.63,5.45 1.84,10.15 2.06,-14.51 2.28,-10.46 2.49,-12.55 2.71,0.75 2.93,4.93 3.14,2.97 3.36,0.1 3.58,-13.33 3.79,-19.46 4.01,-14.9 4.23,6.1 4.44,3.36 4.66,6.62 4.88,3.1 5.09,1.28 5.31,-12.94 5.53,-10.07 5.74,1.28 5.96,6.62 6.18,5.32 6.4,9.89 6.61,-0.42 6.83,17.06 7.05,9.23 7.26,8.71 7.48,6.75 7.7,4.93 7.91,5.45 8.13,0.62 8.35,-1.85 8.56,-8.38 8.78,2.71 9,4.41 9.21,7.8 9.43,3.23 9.65,-15.16 9.86,-7.72 10.08,3.49 10.3,-4.72 10.51,4.15 10.73,-8.51 10.95,-15.42 11.16,-14.12 11.38,-9.42 11.6,-2.77 11.81,-2.38 12.03,8.19 12.25,7.15 12.46,4.54 12.68,6.36 12.9,10.41 13.12,-0.03 13.33,11.06 13.55,-5.64 13.77,9.49 13.98,4.54 14.2,-1.46 14.42,1.93 14.63,-4.46 14.85,-12.29 15.07,5.84 15.28,5.84 15.5,1.67 15.72,1.41 15.93,0.62 16.15,2.45 16.37,-0.94 16.58,13.41 16.8,5.19 17.02,3.88 17.23,2.58 17.45,0.75 17.67,2.19 17.88,7.93 18.1,4.41 18.32,10.41 18.53,14.06 18.75,4.28 18.97,3.49 19.19,25.93 19.4,27.5 19.62,25.67 19.84,23.32 \" class=\"primitive\"/>\n",
       "            </g>\n",
       "          </g>\n",
       "        </g>\n",
       "        <g stroke-width=\"0.3\" fill=\"#000000\" fill-opacity=\"0.000\" class=\"geometry\" id=\"img-acd229f6-26\">\n",
       "          <g class=\"color_RGB{N0f8}(0.0,1.0,1.0)\" stroke-dasharray=\"none\" stroke=\"#00FFFF\" id=\"img-acd229f6-27\">\n",
       "            <g transform=\"translate(143.42,96.4)\" id=\"img-acd229f6-28\">\n",
       "              <path fill=\"none\" d=\"M-59.51,26.3 L-59.29,-35.01 -59.07,17.69 -58.86,12.74 -58.64,24.61 -58.42,23.69 -58.21,25.91 -57.99,6.34 -57.77,16.78 -57.56,12.21 -57.34,3.74 -57.12,-18.31 -56.91,-5.14 -56.69,14.04 -56.47,-23.01 -56.25,18.61 -56.04,17.3 -55.82,21.35 -55.6,11.56 -55.39,4.39 -55.17,19.91 -54.95,7.52 -54.74,-12.44 -54.52,13.52 -54.3,22.65 -54.09,8.43 -53.87,-21.05 -53.65,-16.61 -53.44,7.26 -53.22,18.21 -53,10.26 -52.79,-12.05 -52.57,-21.57 -52.35,-31.35 -52.14,-3.96 -51.92,7.13 -51.7,-10.09 -51.49,-34.22 -51.27,-45.18 -51.05,-38.27 -50.84,0.21 -50.62,-70.1 -50.4,-11.4 -50.18,7.26 -49.97,-3.96 -49.75,3.47 -49.53,-45.44 -49.32,-23.66 -49.1,-1.48 -48.88,13.91 -48.67,41.04 -48.45,-22.09 -48.23,-43.62 -48.02,13.13 -47.8,14.3 -47.58,4.91 -47.37,-0.31 -47.15,-67.23 -46.93,-68.79 -46.72,-53.66 -46.5,-41.53 -46.28,-18.96 -46.07,-17.66 -45.85,-39.57 -45.63,-63.18 -45.42,-69.31 -45.2,-26.79 -44.98,-70.88 -44.77,-74.14 -44.55,-11.92 -44.33,-16.88 -44.11,-88.49 -43.9,-64.23 -43.68,-32.92 -43.46,-9.96 -43.25,-9.31 -43.03,-45.05 -42.81,-45.31 -42.6,-16.88 -42.38,5.3 -42.16,-21.83 -41.95,-17.79 -41.73,-33.18 -41.51,-21.44 -41.3,-51.57 -41.08,-80.79 -40.86,-72.71 -40.65,-28.09 -40.43,-24.7 -40.21,-56.14 -40,-18.7 -39.78,-27.57 -39.56,-50.01 -39.35,-34.22 -39.13,-34.62 -38.91,-34.09 -38.7,-39.7 -38.48,-51.97 -38.26,-47.92 -38.05,-24.7 -37.83,-11.79 -37.61,-58.36 -37.39,-19.35 -37.18,-32.4 -36.96,1.13 -36.74,15.48 -36.53,-29.92 -36.31,-28.88 -36.09,-11.27 -35.88,20.69 -35.66,11.17 -35.44,17.43 -35.23,-9.05 -35.01,-37.49 -34.79,-1.09 -34.58,4.78 -34.36,-1.87 -34.14,23.04 -33.93,6.34 -33.71,-30.18 -33.49,12.74 -33.28,-13.88 -33.06,15.87 -32.84,-33.18 -32.63,-55.75 -32.41,-43.49 -32.19,-38.92 -31.98,-43.75 -31.76,-25.88 -31.54,-17.14 -31.32,-0.83 -31.11,-17.79 -30.89,-38.92 -30.67,-12.05 -30.46,-38.14 -30.24,-31.88 -30.02,-7.61 -29.81,-14.79 -29.59,21.21 -29.37,23.95 -29.16,23.95 -28.94,13.78 -28.72,16.91 -28.51,18.48 -28.29,17.56 -28.07,13.78 -27.86,22.13 -27.64,17.43 -27.42,12.21 -27.21,23.56 -26.99,24.08 -26.77,22.26 -26.56,25.39 -26.34,5.56 -26.12,-9.83 -25.91,-36.44 -25.69,5.82 -25.47,20.04 -25.25,12.08 -25.04,4.52 -24.82,5.3 -24.6,26.3 -24.39,19.91 -24.17,20.82 -23.95,16.52 -23.74,24.21 -23.52,19.78 -23.3,5.17 -23.09,-8.01 -22.87,11.82 -22.65,-9.18 -22.44,18.48 -22.22,19.39 -22,21.61 -21.79,18.87 -21.57,24.08 -21.35,12.61 -21.14,25.78 -20.92,17.43 -20.7,20.82 -20.49,29.56 -20.27,14.17 -20.05,7.65 -19.84,22.39 -19.62,18.21 -19.4,28 -19.19,20.56 -18.97,21.74 -18.75,24.48 -18.53,24.21 -18.32,20.17 -18.1,3.74 -17.88,6.6 -17.67,10.39 -17.45,-10.22 -17.23,9.74 -17.02,24.48 -16.8,13.39 -16.58,15.61 -16.37,16.52 -16.15,16.65 -15.93,13.52 -15.72,19.13 -15.5,19.39 -15.28,20.43 -15.07,21.08 -14.85,23.95 -14.63,23.17 -14.42,19.26 -14.2,26.17 -13.98,12.47 -13.77,13.78 -13.55,-4.74 -13.33,24.08 -13.12,26.82 -12.9,25.91 -12.68,22.26 -12.46,23.3 -12.25,28.78 -12.03,26.17 -11.81,24.35 -11.6,9.08 -11.38,23.69 -11.16,23.04 -10.95,14.69 -10.73,23.82 -10.51,21.87 -10.3,24.74 -10.08,41.04 -9.86,22.39 -9.65,21.61 -9.43,17.04 -9.21,22.39 -9,24.61 -8.78,20.95 -8.56,26.69 -8.35,13.78 -8.13,-23.27 -7.91,-4.61 -7.7,-8.53 -7.48,-0.57 -7.26,19.13 -7.05,9.21 -6.83,1.52 -6.61,10 -6.4,14.3 -6.18,20.3 -5.96,11.82 -5.74,25.26 -5.53,11.17 -5.31,20.43 -5.09,26.04 -4.88,23.56 -4.66,17.69 -4.44,11.17 -4.23,2.95 -4.01,23.95 -3.79,12.87 -3.58,5.17 -3.36,7.52 -3.14,-17.14 -2.93,11.82 -2.71,24.61 -2.49,8.69 -2.28,11.95 -2.06,24.48 -1.84,1.52 -1.63,-18.96 -1.41,3.74 -1.19,-3.96 -0.98,25 -0.76,8.95 -0.54,19.52 -0.33,14.43 -0.11,-40.23 0.11,-11.66 0.33,5.95 0.54,15.87 0.76,22 0.98,8.43 1.19,24.08 1.41,17.56 1.63,10.78 1.84,18.34 2.06,4.13 2.28,-16.09 2.49,-8.53 2.71,12.61 2.93,20.04 3.14,21.48 3.36,20.43 3.58,20.95 3.79,25.39 4.01,16.39 4.23,15.34 4.44,29.3 4.66,23.3 4.88,23.04 5.09,20.69 5.31,21.87 5.53,20.17 5.74,20.43 5.96,16.13 6.18,22.91 6.4,24.35 6.61,21.21 6.83,23.95 7.05,19.78 7.26,4.91 7.48,5.95 7.7,12.47 7.91,21.21 8.13,17.04 8.35,11.43 8.56,1.65 8.78,-35.14 9,-55.1 9.21,-24.7 9.43,13.91 9.65,14.43 9.86,21.08 10.08,26.17 10.3,20.95 10.51,-3.05 10.73,17.56 10.95,14.17 11.16,14.95 11.38,-8.14 11.6,28.52 11.81,22.65 12.03,23.43 12.25,25.91 12.46,26.95 12.68,26.43 12.9,25 13.12,26.95 13.33,16.52 13.55,25.13 13.77,26.17 13.98,23.82 14.2,24.48 14.42,23.04 14.63,29.17 14.85,15.61 15.07,26.43 15.28,17.3 15.5,17.04 15.72,21.61 15.93,19.26 16.15,26.3 16.37,18.74 16.58,15.34 16.8,21.08 17.02,17.17 17.23,18.74 17.45,17.95 17.67,20.82 17.88,8.56 18.1,11.43 18.32,14.3 18.53,19.65 18.75,17.3 18.97,19.65 19.19,16.26 19.4,25.78 19.62,19.26 19.84,19.91 20.05,14.95 20.27,20.56 20.49,23.43 20.7,23.04 20.92,17.95 21.14,20.43 21.35,-4.61 21.57,18.87 21.79,18.08 22,9.47 22.22,25.26 22.44,-35.01 22.65,-26.4 22.87,9.61 23.09,-30.7 23.3,-8.53 23.52,11.17 23.74,-42.44 23.95,-16.48 24.17,-18.96 24.39,-2.14 24.6,-8.01 24.82,24.87 25.04,23.04 25.25,-11.92 25.47,-23.4 25.69,-55.23 25.91,23.82 26.12,19 26.34,22.13 26.56,22.13 26.77,17.56 26.99,15.61 27.21,7.39 27.42,21.08 27.64,10.13 27.86,-7.87 28.07,-11.79 28.29,-37.88 28.51,-31.88 28.72,-20.92 28.94,-24.31 29.16,-29.14 29.37,-40.36 29.59,-74.27 29.81,-31.35 30.02,-38.79 30.24,-28.09 30.46,6.6 30.67,-16.09 30.89,2.43 31.11,11.43 31.32,-43.75 31.54,-49.1 31.76,0.34 31.98,5.17 32.19,-2.53 32.41,-7.61 32.63,-16.61 32.84,-52.75 33.06,-41.92 33.28,-48.57 33.49,-48.18 33.71,-31.49 33.93,-53.79 34.14,21.35 34.36,30.08 34.58,-32.4 34.79,-31.09 35.01,-18.44 35.23,12.47 35.44,-6.96 35.66,12.47 35.88,14.43 36.09,-5.4 36.31,-18.05 36.53,-4.09 36.74,-5.14 36.96,-12.83 37.18,-20.66 37.39,19.78 37.61,-75.31 37.83,10.78 38.05,16 38.26,14.95 38.48,11.95 38.7,15.48 38.91,-21.83 39.13,-65.66 39.35,-24.31 39.56,3.74 39.78,-17.01 40,-8.27 40.21,-26.01 40.43,5.95 40.65,-55.49 40.86,16.52 41.08,7 41.3,-19.09 41.51,-14.66 41.73,11.82 41.95,6.74 42.16,7 42.38,11.04 42.6,19.91 42.81,20.04 43.03,19.78 43.25,21.35 43.46,28.13 43.68,12.87 43.9,-5 44.11,-25.75 44.33,3.34 44.55,-10.48 44.77,-9.31 44.98,8.95 45.2,-9.18 45.42,3.87 45.63,-32.66 45.85,-26.14 46.07,-41.92 46.28,-27.83 46.5,-50.92 46.72,-6.83 46.93,-26.01 47.15,7.91 47.37,-29.53 47.58,-35.27 47.8,7 48.02,-24.18 48.23,-15.05 48.45,-46.36 48.67,-7.61 48.88,16.39 49.1,-13.88 49.32,17.82 49.53,-12.05 49.75,14.04 49.97,11.82 50.18,15.87 50.4,25 50.62,13.91 50.84,-9.57 51.05,-34.75 51.27,-10.87 51.49,-32.01 51.7,6.87 51.92,-12.57 52.14,19.26 52.35,-12.96 52.57,-18.83 52.79,-28.75 53,-53.01 53.22,13.78 53.44,-23.66 53.65,20.04 53.87,17.69 54.09,20.69 54.3,9.21 54.52,18.34 54.74,11.17 54.95,12.87 55.17,3.74 55.39,7.39 55.6,12.08 55.82,7 56.04,13.78 56.25,-3.57 56.47,17.82 56.69,-0.96 56.91,-26.01 57.12,5.82 57.34,2.3 57.56,10.39 57.77,-25.62 57.99,-33.57 58.21,1.26 58.42,14.56 58.64,4.52 58.86,8.82 59.07,12.61 59.29,9.21 59.51,7.39 \" class=\"primitive\"/>\n",
       "            </g>\n",
       "          </g>\n",
       "        </g>\n",
       "      </g>\n",
       "    </g>\n",
       "  </g>\n",
       "  <g class=\"guide ylabels\" font-size=\"2.82\" font-family=\"'PT Sans Caption','Helvetica Neue','Helvetica',sans-serif\" fill=\"#6C606B\" id=\"img-acd229f6-29\">\n",
       "    <g transform=\"translate(16.96,137.45)\" id=\"img-acd229f6-30\">\n",
       "      <g class=\"primitive\">\n",
       "        <text text-anchor=\"end\" dy=\"0.35em\">0</text>\n",
       "      </g>\n",
       "    </g>\n",
       "    <g transform=\"translate(16.96,104.83)\" id=\"img-acd229f6-31\">\n",
       "      <g class=\"primitive\">\n",
       "        <text text-anchor=\"end\" dy=\"0.35em\">10</text>\n",
       "      </g>\n",
       "    </g>\n",
       "    <g transform=\"translate(16.96,72.22)\" id=\"img-acd229f6-32\">\n",
       "      <g class=\"primitive\">\n",
       "        <text text-anchor=\"end\" dy=\"0.35em\">20</text>\n",
       "      </g>\n",
       "    </g>\n",
       "    <g transform=\"translate(16.96,39.61)\" id=\"img-acd229f6-33\">\n",
       "      <g class=\"primitive\">\n",
       "        <text text-anchor=\"end\" dy=\"0.35em\">30</text>\n",
       "      </g>\n",
       "    </g>\n",
       "    <g transform=\"translate(16.96,7)\" id=\"img-acd229f6-34\">\n",
       "      <g class=\"primitive\">\n",
       "        <text text-anchor=\"end\" dy=\"0.35em\">40</text>\n",
       "      </g>\n",
       "    </g>\n",
       "  </g>\n",
       "  <g font-size=\"3.88\" font-family=\"'PT Sans','Helvetica Neue','Helvetica',sans-serif\" fill=\"#564A55\" stroke=\"#000000\" stroke-opacity=\"0.000\" id=\"img-acd229f6-35\">\n",
       "    <g transform=\"translate(8.81,70.22)\" id=\"img-acd229f6-36\">\n",
       "      <g class=\"primitive\">\n",
       "        <text text-anchor=\"middle\" dy=\"0.35em\" transform=\"rotate(-90,0, 2)\">USAGE_sum</text>\n",
       "      </g>\n",
       "    </g>\n",
       "  </g>\n",
       "</g>\n",
       "<defs>\n",
       "  <clipPath id=\"img-acd229f6-4\">\n",
       "    <path d=\"M17.96,5 L259.55,5 259.55,139.45 17.96,139.45 \" />\n",
       "  </clipPath>\n",
       "</defs>\n",
       "</svg>\n"
      ],
      "text/html": [
       "<html>\n",
       "<?xml version=\"1.0\" encoding=\"UTF-8\"?>\n",
       "<svg xmlns=\"http://www.w3.org/2000/svg\"\n",
       "     xmlns:xlink=\"http://www.w3.org/1999/xlink\"\n",
       "     xmlns:gadfly=\"http://www.gadflyjl.org/ns\"\n",
       "     version=\"1.2\"\n",
       "     width=\"264.55mm\" height=\"158.73mm\" viewBox=\"0 0 264.55 158.73\"\n",
       "     stroke=\"none\"\n",
       "     fill=\"#000000\"\n",
       "     stroke-width=\"0.3\"\n",
       "     font-size=\"3.88\"\n",
       ">\n",
       "<defs>\n",
       "  <marker id=\"arrow\" markerWidth=\"15\" markerHeight=\"7\" refX=\"5\" refY=\"3.5\" orient=\"auto\" markerUnits=\"strokeWidth\">\n",
       "    <path d=\"M0,0 L15,3.5 L0,7 z\" stroke=\"context-stroke\" fill=\"context-stroke\"/>\n",
       "  </marker>\n",
       "</defs>\n",
       "<g class=\"plotroot xscalable yscalable\" id=\"img-acd229f6-1\">\n",
       "  <g font-size=\"3.88\" font-family=\"'PT Sans','Helvetica Neue','Helvetica',sans-serif\" fill=\"#564A55\" stroke=\"#000000\" stroke-opacity=\"0.000\" id=\"img-acd229f6-2\">\n",
       "    <g transform=\"translate(138.75,147.12)\">\n",
       "      <g class=\"primitive\">\n",
       "        <text text-anchor=\"middle\" dy=\"0.6em\">DATE</text>\n",
       "      </g>\n",
       "    </g>\n",
       "  </g>\n",
       "  <g class=\"guide xlabels\" font-size=\"2.82\" font-family=\"'PT Sans Caption','Helvetica Neue','Helvetica',sans-serif\" fill=\"#6C606B\" id=\"img-acd229f6-3\">\n",
       "    <g transform=\"translate(19.96,140.45)\">\n",
       "      <g class=\"primitive\">\n",
       "        <text text-anchor=\"middle\" dy=\"0.6em\">2016</text>\n",
       "      </g>\n",
       "    </g>\n",
       "    <g transform=\"translate(99.3,140.45)\">\n",
       "      <g class=\"primitive\">\n",
       "        <text text-anchor=\"middle\" dy=\"0.6em\">2017</text>\n",
       "      </g>\n",
       "    </g>\n",
       "    <g transform=\"translate(178.43,140.45)\">\n",
       "      <g class=\"primitive\">\n",
       "        <text text-anchor=\"middle\" dy=\"0.6em\">2018</text>\n",
       "      </g>\n",
       "    </g>\n",
       "    <g transform=\"translate(257.55,140.45)\">\n",
       "      <g class=\"primitive\">\n",
       "        <text text-anchor=\"middle\" dy=\"0.6em\">2019</text>\n",
       "      </g>\n",
       "    </g>\n",
       "  </g>\n",
       "  <g clip-path=\"url(#img-acd229f6-4)\">\n",
       "    <g id=\"img-acd229f6-5\">\n",
       "      <g pointer-events=\"visible\" stroke-width=\"0.3\" fill=\"#000000\" fill-opacity=\"0.000\" stroke=\"#000000\" stroke-opacity=\"0.000\" class=\"guide background\" id=\"img-acd229f6-6\">\n",
       "        <g transform=\"translate(138.75,72.22)\" id=\"img-acd229f6-7\">\n",
       "          <path d=\"M-120.8,-67.22 L120.8,-67.22 120.8,67.22 -120.8,67.22  z\" class=\"primitive\"/>\n",
       "        </g>\n",
       "      </g>\n",
       "      <g class=\"guide ygridlines xfixed\" stroke-dasharray=\"0.5,0.5\" stroke-width=\"0.2\" stroke=\"#D0D0E0\" id=\"img-acd229f6-8\">\n",
       "        <g transform=\"translate(138.75,137.45)\" id=\"img-acd229f6-9\">\n",
       "          <path fill=\"none\" d=\"M-120.8,0 L120.8,0 \" class=\"primitive\"/>\n",
       "        </g>\n",
       "        <g transform=\"translate(138.75,104.83)\" id=\"img-acd229f6-10\">\n",
       "          <path fill=\"none\" d=\"M-120.8,0 L120.8,0 \" class=\"primitive\"/>\n",
       "        </g>\n",
       "        <g transform=\"translate(138.75,72.22)\" id=\"img-acd229f6-11\">\n",
       "          <path fill=\"none\" d=\"M-120.8,0 L120.8,0 \" class=\"primitive\"/>\n",
       "        </g>\n",
       "        <g transform=\"translate(138.75,39.61)\" id=\"img-acd229f6-12\">\n",
       "          <path fill=\"none\" d=\"M-120.8,0 L120.8,0 \" class=\"primitive\"/>\n",
       "        </g>\n",
       "        <g transform=\"translate(138.75,7)\" id=\"img-acd229f6-13\">\n",
       "          <path fill=\"none\" d=\"M-120.8,0 L120.8,0 \" class=\"primitive\"/>\n",
       "        </g>\n",
       "      </g>\n",
       "      <g class=\"guide xgridlines yfixed\" stroke-dasharray=\"0.5,0.5\" stroke-width=\"0.2\" stroke=\"#D0D0E0\" id=\"img-acd229f6-14\">\n",
       "        <g transform=\"translate(19.96,72.22)\" id=\"img-acd229f6-15\">\n",
       "          <path fill=\"none\" d=\"M0,-67.22 L0,67.22 \" class=\"primitive\"/>\n",
       "        </g>\n",
       "        <g transform=\"translate(99.3,72.22)\" id=\"img-acd229f6-16\">\n",
       "          <path fill=\"none\" d=\"M0,-67.22 L0,67.22 \" class=\"primitive\"/>\n",
       "        </g>\n",
       "        <g transform=\"translate(178.43,72.22)\" id=\"img-acd229f6-17\">\n",
       "          <path fill=\"none\" d=\"M0,-67.22 L0,67.22 \" class=\"primitive\"/>\n",
       "        </g>\n",
       "        <g transform=\"translate(257.55,72.22)\" id=\"img-acd229f6-18\">\n",
       "          <path fill=\"none\" d=\"M0,-67.22 L0,67.22 \" class=\"primitive\"/>\n",
       "        </g>\n",
       "      </g>\n",
       "      <g class=\"plotpanel\" id=\"img-acd229f6-19\">\n",
       "        <metadata>\n",
       "          <boundingbox value=\"17.958333333333343mm 5.0mm 241.59193121693127mm 134.44515873015877mm\"/>\n",
       "          <unitbox value=\"2015-12-22T18:34:42.021 40.61328454638542 96288635958 milliseconds -41.226569092770845\"/>\n",
       "        </metadata>\n",
       "        <g stroke-width=\"0.3\" fill=\"#000000\" fill-opacity=\"0.000\" class=\"geometry\" id=\"img-acd229f6-20\">\n",
       "          <g class=\"color_RGB{N0f8}(0.0,0.502,0.0)\" stroke-dasharray=\"none\" stroke=\"#008000\" id=\"img-acd229f6-21\">\n",
       "            <g transform=\"translate(222.76,99.1)\" id=\"img-acd229f6-22\">\n",
       "              <path fill=\"none\" d=\"M-19.84,4.15 L-19.62,5.77 -19.4,7.6 -19.19,7.98 -18.97,6.6 -18.75,4.65 -18.53,3.98 -18.32,9.52 -18.1,9.64 -17.88,8.22 -17.67,6.42 -17.45,6.01 -17.23,7.39 -17.02,9.19 -16.8,9.77 -16.58,8.74 -16.37,6.86 -16.15,5.92 -15.93,6.87 -15.72,8.75 -15.5,9.78 -15.28,9.18 -15.07,7.38 -14.85,6 -14.63,6.44 -14.42,8.24 -14.2,9.64 -13.98,9.51 -13.77,7.93 -13.55,6.24 -13.33,6.12 -13.12,7.69 -12.9,9.38 -12.68,9.72 -12.46,8.47 -12.25,6.61 -12.03,5.95 -11.81,7.14 -11.6,3.35 -11.38,3.49 -11.16,1.86 -10.95,0.14 -10.73,-0.21 -10.51,1.03 -10.3,2.95 -10.08,3.67 -9.86,2.43 -9.65,0.52 -9.43,-0.28 -9.21,0.54 -9,2.45 -8.78,3.67 -8.56,2.93 -8.35,1.01 -8.13,-0.21 -7.91,0.15 -7.7,1.88 -7.48,3.5 -7.26,3.34 -7.05,1.56 -6.83,-0.02 -6.61,-0.12 -6.4,1.31 -6.18,3.18 -5.96,3.59 -5.74,2.13 -5.53,0.31 -5.31,-0.26 -5.09,-3.85 -4.88,-3.76 -4.66,-4.65 -4.44,-5.37 -4.23,-5.49 -4.01,-5.02 -3.79,-4.08 -3.58,-3.66 -3.36,-4.36 -3.14,-5.23 -2.93,-5.51 -2.71,-5.22 -2.49,-4.36 -2.28,-3.66 -2.06,-4.09 -1.84,-5.03 -1.63,-5.49 -1.41,-5.37 -1.19,-4.64 -0.98,-3.76 -0.76,-3.86 -0.54,-4.79 -0.33,-5.43 -0.11,-5.46 0.11,-4.9 0.33,-3.95 0.54,-3.7 0.76,-4.51 0.98,-5.31 1.19,-5.51 1.41,-5.12 1.63,-5.44 1.84,-5.38 2.06,-5.96 2.28,-6.4 2.49,-6.47 2.71,-6.2 2.93,-5.59 3.14,-5.31 3.36,-5.78 3.58,-6.32 3.79,-6.48 4.01,-6.31 4.23,-5.77 4.44,-5.3 4.66,-5.6 4.88,-6.2 5.09,-6.47 5.31,-6.4 5.53,-5.96 5.74,-5.38 5.96,-5.44 6.18,-6.05 6.4,-6.43 6.61,-6.45 6.83,-6.12 7.05,-5.51 7.26,-5.34 7.48,-5.88 7.7,-6.36 7.91,-6.47 8.13,-6.25 8.35,-2.34 8.56,-2.23 8.78,-3.36 9,-4.34 9.21,-4.51 9.43,-3.86 9.65,-2.63 9.86,-2.1 10.08,-2.99 10.3,-4.14 10.51,-4.55 10.73,-4.13 10.95,-2.98 11.16,-2.09 11.38,-2.64 11.6,-3.87 11.81,-4.52 12.03,-4.34 12.25,-3.34 12.46,-2.22 12.68,-2.35 12.9,-3.54 13.12,-4.42 13.33,-4.47 13.55,-3.69 13.77,-2.46 13.98,-2.15 14.2,-3.18 14.42,-4.25 14.63,-4.54 14.85,5.81 15.07,5.95 15.28,4.32 15.5,2.45 15.72,2.05 15.93,3.43 16.15,5.41 16.37,6.12 16.58,4.89 16.8,2.88 17.02,1.97 17.23,2.9 17.45,4.91 17.67,6.12 17.88,5.4 18.1,3.41 18.32,2.05 18.53,2.46 18.75,4.33 18.97,5.96 19.19,5.8 19.4,4 19.62,2.27 19.84,2.16 \" class=\"primitive\"/>\n",
       "            </g>\n",
       "          </g>\n",
       "        </g>\n",
       "        <g stroke-width=\"0.3\" fill=\"#000000\" fill-opacity=\"0.000\" class=\"geometry\" id=\"img-acd229f6-23\">\n",
       "          <g class=\"color_RGB{N0f8}(1.0,1.0,0.0)\" stroke-dasharray=\"none\" stroke=\"#FFFF00\" id=\"img-acd229f6-24\">\n",
       "            <g transform=\"translate(222.76,107.86)\" id=\"img-acd229f6-25\">\n",
       "              <path fill=\"none\" d=\"M-19.84,-4.07 L-19.62,10.8 -19.4,10.54 -19.19,4.28 -18.97,-10.86 -18.75,-8.25 -18.53,2.19 -18.32,4.28 -18.1,10.28 -17.88,6.89 -17.67,5.45 -17.45,-19.33 -17.23,-13.07 -17.02,10.02 -16.8,5.32 -16.58,0.88 -16.37,4.28 -16.15,12.76 -15.93,-0.03 -15.72,1.02 -15.5,10.15 -15.28,5.06 -15.07,-0.55 -14.85,-23.12 -14.63,13.15 -14.42,-8.9 -14.2,-9.03 -13.98,13.02 -13.77,8.19 -13.55,10.41 -13.33,16.28 -13.12,13.54 -12.9,18.1 -12.68,17.45 -12.46,-20.9 -12.25,-4.72 -12.03,5.19 -11.81,-22.46 -11.6,-11.12 -11.38,-16.86 -11.16,-22.73 -10.95,4.02 -10.73,9.76 -10.51,2.97 -10.3,8.06 -10.08,-4.46 -9.86,-19.73 -9.65,-5.12 -9.43,3.23 -9.21,-2.25 -9,2.32 -8.78,1.8 -8.56,6.36 -8.35,-4.85 -8.13,-4.99 -7.91,5.97 -7.7,5.19 -7.48,7.02 -7.26,6.36 -7.05,-15.42 -6.83,-14.77 -6.61,-54.42 -6.4,-4.72 -6.18,5.97 -5.96,7.15 -5.74,7.93 -5.53,-1.07 -5.31,-36.94 -5.09,-13.59 -4.88,-12.16 -4.66,6.89 -4.44,1.41 -4.23,8.32 -4.01,-32.9 -3.79,11.32 -3.58,-8.38 -3.36,-25.73 -3.14,-2.77 -2.93,5.97 -2.71,0.62 -2.49,7.28 -2.28,-8.51 -2.06,-11.12 -1.84,0.75 -1.63,3.23 -1.41,1.02 -1.19,4.8 -0.98,-6.03 -0.76,7.02 -0.54,-9.55 -0.33,-6.94 -0.11,-0.03 0.11,-15.81 0.33,-21.29 0.54,-6.55 0.76,8.71 0.98,-3.42 1.19,-3.68 1.41,3.23 1.63,5.45 1.84,10.15 2.06,-14.51 2.28,-10.46 2.49,-12.55 2.71,0.75 2.93,4.93 3.14,2.97 3.36,0.1 3.58,-13.33 3.79,-19.46 4.01,-14.9 4.23,6.1 4.44,3.36 4.66,6.62 4.88,3.1 5.09,1.28 5.31,-12.94 5.53,-10.07 5.74,1.28 5.96,6.62 6.18,5.32 6.4,9.89 6.61,-0.42 6.83,17.06 7.05,9.23 7.26,8.71 7.48,6.75 7.7,4.93 7.91,5.45 8.13,0.62 8.35,-1.85 8.56,-8.38 8.78,2.71 9,4.41 9.21,7.8 9.43,3.23 9.65,-15.16 9.86,-7.72 10.08,3.49 10.3,-4.72 10.51,4.15 10.73,-8.51 10.95,-15.42 11.16,-14.12 11.38,-9.42 11.6,-2.77 11.81,-2.38 12.03,8.19 12.25,7.15 12.46,4.54 12.68,6.36 12.9,10.41 13.12,-0.03 13.33,11.06 13.55,-5.64 13.77,9.49 13.98,4.54 14.2,-1.46 14.42,1.93 14.63,-4.46 14.85,-12.29 15.07,5.84 15.28,5.84 15.5,1.67 15.72,1.41 15.93,0.62 16.15,2.45 16.37,-0.94 16.58,13.41 16.8,5.19 17.02,3.88 17.23,2.58 17.45,0.75 17.67,2.19 17.88,7.93 18.1,4.41 18.32,10.41 18.53,14.06 18.75,4.28 18.97,3.49 19.19,25.93 19.4,27.5 19.62,25.67 19.84,23.32 \" class=\"primitive\"/>\n",
       "            </g>\n",
       "          </g>\n",
       "        </g>\n",
       "        <g stroke-width=\"0.3\" fill=\"#000000\" fill-opacity=\"0.000\" class=\"geometry\" id=\"img-acd229f6-26\">\n",
       "          <g class=\"color_RGB{N0f8}(0.0,1.0,1.0)\" stroke-dasharray=\"none\" stroke=\"#00FFFF\" id=\"img-acd229f6-27\">\n",
       "            <g transform=\"translate(143.42,96.4)\" id=\"img-acd229f6-28\">\n",
       "              <path fill=\"none\" d=\"M-59.51,26.3 L-59.29,-35.01 -59.07,17.69 -58.86,12.74 -58.64,24.61 -58.42,23.69 -58.21,25.91 -57.99,6.34 -57.77,16.78 -57.56,12.21 -57.34,3.74 -57.12,-18.31 -56.91,-5.14 -56.69,14.04 -56.47,-23.01 -56.25,18.61 -56.04,17.3 -55.82,21.35 -55.6,11.56 -55.39,4.39 -55.17,19.91 -54.95,7.52 -54.74,-12.44 -54.52,13.52 -54.3,22.65 -54.09,8.43 -53.87,-21.05 -53.65,-16.61 -53.44,7.26 -53.22,18.21 -53,10.26 -52.79,-12.05 -52.57,-21.57 -52.35,-31.35 -52.14,-3.96 -51.92,7.13 -51.7,-10.09 -51.49,-34.22 -51.27,-45.18 -51.05,-38.27 -50.84,0.21 -50.62,-70.1 -50.4,-11.4 -50.18,7.26 -49.97,-3.96 -49.75,3.47 -49.53,-45.44 -49.32,-23.66 -49.1,-1.48 -48.88,13.91 -48.67,41.04 -48.45,-22.09 -48.23,-43.62 -48.02,13.13 -47.8,14.3 -47.58,4.91 -47.37,-0.31 -47.15,-67.23 -46.93,-68.79 -46.72,-53.66 -46.5,-41.53 -46.28,-18.96 -46.07,-17.66 -45.85,-39.57 -45.63,-63.18 -45.42,-69.31 -45.2,-26.79 -44.98,-70.88 -44.77,-74.14 -44.55,-11.92 -44.33,-16.88 -44.11,-88.49 -43.9,-64.23 -43.68,-32.92 -43.46,-9.96 -43.25,-9.31 -43.03,-45.05 -42.81,-45.31 -42.6,-16.88 -42.38,5.3 -42.16,-21.83 -41.95,-17.79 -41.73,-33.18 -41.51,-21.44 -41.3,-51.57 -41.08,-80.79 -40.86,-72.71 -40.65,-28.09 -40.43,-24.7 -40.21,-56.14 -40,-18.7 -39.78,-27.57 -39.56,-50.01 -39.35,-34.22 -39.13,-34.62 -38.91,-34.09 -38.7,-39.7 -38.48,-51.97 -38.26,-47.92 -38.05,-24.7 -37.83,-11.79 -37.61,-58.36 -37.39,-19.35 -37.18,-32.4 -36.96,1.13 -36.74,15.48 -36.53,-29.92 -36.31,-28.88 -36.09,-11.27 -35.88,20.69 -35.66,11.17 -35.44,17.43 -35.23,-9.05 -35.01,-37.49 -34.79,-1.09 -34.58,4.78 -34.36,-1.87 -34.14,23.04 -33.93,6.34 -33.71,-30.18 -33.49,12.74 -33.28,-13.88 -33.06,15.87 -32.84,-33.18 -32.63,-55.75 -32.41,-43.49 -32.19,-38.92 -31.98,-43.75 -31.76,-25.88 -31.54,-17.14 -31.32,-0.83 -31.11,-17.79 -30.89,-38.92 -30.67,-12.05 -30.46,-38.14 -30.24,-31.88 -30.02,-7.61 -29.81,-14.79 -29.59,21.21 -29.37,23.95 -29.16,23.95 -28.94,13.78 -28.72,16.91 -28.51,18.48 -28.29,17.56 -28.07,13.78 -27.86,22.13 -27.64,17.43 -27.42,12.21 -27.21,23.56 -26.99,24.08 -26.77,22.26 -26.56,25.39 -26.34,5.56 -26.12,-9.83 -25.91,-36.44 -25.69,5.82 -25.47,20.04 -25.25,12.08 -25.04,4.52 -24.82,5.3 -24.6,26.3 -24.39,19.91 -24.17,20.82 -23.95,16.52 -23.74,24.21 -23.52,19.78 -23.3,5.17 -23.09,-8.01 -22.87,11.82 -22.65,-9.18 -22.44,18.48 -22.22,19.39 -22,21.61 -21.79,18.87 -21.57,24.08 -21.35,12.61 -21.14,25.78 -20.92,17.43 -20.7,20.82 -20.49,29.56 -20.27,14.17 -20.05,7.65 -19.84,22.39 -19.62,18.21 -19.4,28 -19.19,20.56 -18.97,21.74 -18.75,24.48 -18.53,24.21 -18.32,20.17 -18.1,3.74 -17.88,6.6 -17.67,10.39 -17.45,-10.22 -17.23,9.74 -17.02,24.48 -16.8,13.39 -16.58,15.61 -16.37,16.52 -16.15,16.65 -15.93,13.52 -15.72,19.13 -15.5,19.39 -15.28,20.43 -15.07,21.08 -14.85,23.95 -14.63,23.17 -14.42,19.26 -14.2,26.17 -13.98,12.47 -13.77,13.78 -13.55,-4.74 -13.33,24.08 -13.12,26.82 -12.9,25.91 -12.68,22.26 -12.46,23.3 -12.25,28.78 -12.03,26.17 -11.81,24.35 -11.6,9.08 -11.38,23.69 -11.16,23.04 -10.95,14.69 -10.73,23.82 -10.51,21.87 -10.3,24.74 -10.08,41.04 -9.86,22.39 -9.65,21.61 -9.43,17.04 -9.21,22.39 -9,24.61 -8.78,20.95 -8.56,26.69 -8.35,13.78 -8.13,-23.27 -7.91,-4.61 -7.7,-8.53 -7.48,-0.57 -7.26,19.13 -7.05,9.21 -6.83,1.52 -6.61,10 -6.4,14.3 -6.18,20.3 -5.96,11.82 -5.74,25.26 -5.53,11.17 -5.31,20.43 -5.09,26.04 -4.88,23.56 -4.66,17.69 -4.44,11.17 -4.23,2.95 -4.01,23.95 -3.79,12.87 -3.58,5.17 -3.36,7.52 -3.14,-17.14 -2.93,11.82 -2.71,24.61 -2.49,8.69 -2.28,11.95 -2.06,24.48 -1.84,1.52 -1.63,-18.96 -1.41,3.74 -1.19,-3.96 -0.98,25 -0.76,8.95 -0.54,19.52 -0.33,14.43 -0.11,-40.23 0.11,-11.66 0.33,5.95 0.54,15.87 0.76,22 0.98,8.43 1.19,24.08 1.41,17.56 1.63,10.78 1.84,18.34 2.06,4.13 2.28,-16.09 2.49,-8.53 2.71,12.61 2.93,20.04 3.14,21.48 3.36,20.43 3.58,20.95 3.79,25.39 4.01,16.39 4.23,15.34 4.44,29.3 4.66,23.3 4.88,23.04 5.09,20.69 5.31,21.87 5.53,20.17 5.74,20.43 5.96,16.13 6.18,22.91 6.4,24.35 6.61,21.21 6.83,23.95 7.05,19.78 7.26,4.91 7.48,5.95 7.7,12.47 7.91,21.21 8.13,17.04 8.35,11.43 8.56,1.65 8.78,-35.14 9,-55.1 9.21,-24.7 9.43,13.91 9.65,14.43 9.86,21.08 10.08,26.17 10.3,20.95 10.51,-3.05 10.73,17.56 10.95,14.17 11.16,14.95 11.38,-8.14 11.6,28.52 11.81,22.65 12.03,23.43 12.25,25.91 12.46,26.95 12.68,26.43 12.9,25 13.12,26.95 13.33,16.52 13.55,25.13 13.77,26.17 13.98,23.82 14.2,24.48 14.42,23.04 14.63,29.17 14.85,15.61 15.07,26.43 15.28,17.3 15.5,17.04 15.72,21.61 15.93,19.26 16.15,26.3 16.37,18.74 16.58,15.34 16.8,21.08 17.02,17.17 17.23,18.74 17.45,17.95 17.67,20.82 17.88,8.56 18.1,11.43 18.32,14.3 18.53,19.65 18.75,17.3 18.97,19.65 19.19,16.26 19.4,25.78 19.62,19.26 19.84,19.91 20.05,14.95 20.27,20.56 20.49,23.43 20.7,23.04 20.92,17.95 21.14,20.43 21.35,-4.61 21.57,18.87 21.79,18.08 22,9.47 22.22,25.26 22.44,-35.01 22.65,-26.4 22.87,9.61 23.09,-30.7 23.3,-8.53 23.52,11.17 23.74,-42.44 23.95,-16.48 24.17,-18.96 24.39,-2.14 24.6,-8.01 24.82,24.87 25.04,23.04 25.25,-11.92 25.47,-23.4 25.69,-55.23 25.91,23.82 26.12,19 26.34,22.13 26.56,22.13 26.77,17.56 26.99,15.61 27.21,7.39 27.42,21.08 27.64,10.13 27.86,-7.87 28.07,-11.79 28.29,-37.88 28.51,-31.88 28.72,-20.92 28.94,-24.31 29.16,-29.14 29.37,-40.36 29.59,-74.27 29.81,-31.35 30.02,-38.79 30.24,-28.09 30.46,6.6 30.67,-16.09 30.89,2.43 31.11,11.43 31.32,-43.75 31.54,-49.1 31.76,0.34 31.98,5.17 32.19,-2.53 32.41,-7.61 32.63,-16.61 32.84,-52.75 33.06,-41.92 33.28,-48.57 33.49,-48.18 33.71,-31.49 33.93,-53.79 34.14,21.35 34.36,30.08 34.58,-32.4 34.79,-31.09 35.01,-18.44 35.23,12.47 35.44,-6.96 35.66,12.47 35.88,14.43 36.09,-5.4 36.31,-18.05 36.53,-4.09 36.74,-5.14 36.96,-12.83 37.18,-20.66 37.39,19.78 37.61,-75.31 37.83,10.78 38.05,16 38.26,14.95 38.48,11.95 38.7,15.48 38.91,-21.83 39.13,-65.66 39.35,-24.31 39.56,3.74 39.78,-17.01 40,-8.27 40.21,-26.01 40.43,5.95 40.65,-55.49 40.86,16.52 41.08,7 41.3,-19.09 41.51,-14.66 41.73,11.82 41.95,6.74 42.16,7 42.38,11.04 42.6,19.91 42.81,20.04 43.03,19.78 43.25,21.35 43.46,28.13 43.68,12.87 43.9,-5 44.11,-25.75 44.33,3.34 44.55,-10.48 44.77,-9.31 44.98,8.95 45.2,-9.18 45.42,3.87 45.63,-32.66 45.85,-26.14 46.07,-41.92 46.28,-27.83 46.5,-50.92 46.72,-6.83 46.93,-26.01 47.15,7.91 47.37,-29.53 47.58,-35.27 47.8,7 48.02,-24.18 48.23,-15.05 48.45,-46.36 48.67,-7.61 48.88,16.39 49.1,-13.88 49.32,17.82 49.53,-12.05 49.75,14.04 49.97,11.82 50.18,15.87 50.4,25 50.62,13.91 50.84,-9.57 51.05,-34.75 51.27,-10.87 51.49,-32.01 51.7,6.87 51.92,-12.57 52.14,19.26 52.35,-12.96 52.57,-18.83 52.79,-28.75 53,-53.01 53.22,13.78 53.44,-23.66 53.65,20.04 53.87,17.69 54.09,20.69 54.3,9.21 54.52,18.34 54.74,11.17 54.95,12.87 55.17,3.74 55.39,7.39 55.6,12.08 55.82,7 56.04,13.78 56.25,-3.57 56.47,17.82 56.69,-0.96 56.91,-26.01 57.12,5.82 57.34,2.3 57.56,10.39 57.77,-25.62 57.99,-33.57 58.21,1.26 58.42,14.56 58.64,4.52 58.86,8.82 59.07,12.61 59.29,9.21 59.51,7.39 \" class=\"primitive\"/>\n",
       "            </g>\n",
       "          </g>\n",
       "        </g>\n",
       "      </g>\n",
       "    </g>\n",
       "  </g>\n",
       "  <g class=\"guide ylabels\" font-size=\"2.82\" font-family=\"'PT Sans Caption','Helvetica Neue','Helvetica',sans-serif\" fill=\"#6C606B\" id=\"img-acd229f6-29\">\n",
       "    <g transform=\"translate(16.96,137.45)\" id=\"img-acd229f6-30\">\n",
       "      <g class=\"primitive\">\n",
       "        <text text-anchor=\"end\" dy=\"0.35em\">0</text>\n",
       "      </g>\n",
       "    </g>\n",
       "    <g transform=\"translate(16.96,104.83)\" id=\"img-acd229f6-31\">\n",
       "      <g class=\"primitive\">\n",
       "        <text text-anchor=\"end\" dy=\"0.35em\">10</text>\n",
       "      </g>\n",
       "    </g>\n",
       "    <g transform=\"translate(16.96,72.22)\" id=\"img-acd229f6-32\">\n",
       "      <g class=\"primitive\">\n",
       "        <text text-anchor=\"end\" dy=\"0.35em\">20</text>\n",
       "      </g>\n",
       "    </g>\n",
       "    <g transform=\"translate(16.96,39.61)\" id=\"img-acd229f6-33\">\n",
       "      <g class=\"primitive\">\n",
       "        <text text-anchor=\"end\" dy=\"0.35em\">30</text>\n",
       "      </g>\n",
       "    </g>\n",
       "    <g transform=\"translate(16.96,7)\" id=\"img-acd229f6-34\">\n",
       "      <g class=\"primitive\">\n",
       "        <text text-anchor=\"end\" dy=\"0.35em\">40</text>\n",
       "      </g>\n",
       "    </g>\n",
       "  </g>\n",
       "  <g font-size=\"3.88\" font-family=\"'PT Sans','Helvetica Neue','Helvetica',sans-serif\" fill=\"#564A55\" stroke=\"#000000\" stroke-opacity=\"0.000\" id=\"img-acd229f6-35\">\n",
       "    <g transform=\"translate(8.81,70.22)\" id=\"img-acd229f6-36\">\n",
       "      <g class=\"primitive\">\n",
       "        <text text-anchor=\"middle\" dy=\"0.35em\" transform=\"rotate(-90,0, 2)\">USAGE_sum</text>\n",
       "      </g>\n",
       "    </g>\n",
       "  </g>\n",
       "</g>\n",
       "<defs>\n",
       "  <clipPath id=\"img-acd229f6-4\">\n",
       "    <path d=\"M17.96,5 L259.55,5 259.55,139.45 17.96,139.45 \" />\n",
       "  </clipPath>\n",
       "</defs>\n",
       "</svg>\n",
       "\n",
       "</html>\n"
      ],
      "text/plain": [
       "SVG(264.5502645502646mm, 158.73015873015876mm, IOBuffer(data=UInt8[...], readable=true, writable=true, seekable=true, append=false, size=17737, maxsize=Inf, ptr=17738, mark=-1), nothing, \"img-acd229f6\", 0, Compose.SVGPropertyFrame[], Dict{Type, Union{Nothing, Compose.Property}}(Compose.Property{Compose.LineWidthPrimitive} => nothing, Compose.Property{Compose.JSIncludePrimitive} => nothing, Compose.Property{Compose.FontSizePrimitive} => nothing, Compose.Property{Compose.FontPrimitive} => nothing, Compose.Property{Compose.FillPrimitive} => nothing, Compose.Property{Compose.SVGClassPrimitive} => nothing, Compose.Property{Compose.SVGAttributePrimitive} => nothing, Compose.Property{Compose.StrokePrimitive} => nothing, Compose.Property{Compose.JSCallPrimitive} => nothing, Compose.Property{Compose.StrokeDashPrimitive} => nothing…), OrderedCollections.OrderedDict{Compose.ClipPrimitive, String}(Compose.ClipPrimitive{Tuple{Measures.AbsoluteLength, Measures.AbsoluteLength}}(Tuple{Measures.AbsoluteLength, Measures.AbsoluteLength}[(17.958333333333343mm, 5.0mm), (259.5502645502646mm, 5.0mm), (259.5502645502646mm, 139.44515873015877mm), (17.958333333333343mm, 139.44515873015877mm)]) => \"img-acd229f6-4\"), Tuple{Compose.FormPrimitive, String}[], Set{AbstractString}(), true, false, nothing, true, \"img-acd229f6-36\", false, 36, Set(AbstractString[\"C:\\\\Users\\\\gabriel\\\\.julia\\\\packages\\\\Gadfly\\\\B5yQc\\\\src\\\\gadfly.js\"]), Set(Tuple{AbstractString, AbstractString}[(\"Snap.svg\", \"Snap\"), (\"Gadfly\", \"Gadfly\")]), AbstractString[\"fig.select(\\\"#img-acd229f6-5\\\")\\n   .init_gadfly();\"], false, :none, (Measures.BoundingBox{Tuple{Measures.AbsoluteLength, Measures.AbsoluteLength}, Tuple{Measures.AbsoluteLength, Measures.AbsoluteLength}}((17.958333333333343mm, 5.0mm), (241.59193121693127mm, 134.44515873015877mm)), Compose.UnitBox{DateTime, Float64, Millisecond, Float64}(DateTime(\"2015-12-22T18:34:42.021\"), 40.61328454638542, Millisecond(96288635958), -41.226569092770845, 0.0mm, 0.0mm, 0.0mm, 0.0mm), Compose.IdentityTransform()))"
      ]
     },
     "metadata": {},
     "output_type": "display_data"
    }
   ],
   "source": [
    "baseline_predictions = map(only, baseline.(df_test[:, :DATE]))\n",
    "baseline_plot = plot_compare(df_test[:, :DATE], baseline_predictions)\n",
    "draw(SVG(1000px, 600px), baseline_plot)"
   ]
  },
  {
   "attachments": {},
   "cell_type": "markdown",
   "metadata": {},
   "source": [
    "## Simple RNN"
   ]
  },
  {
   "attachments": {},
   "cell_type": "markdown",
   "metadata": {},
   "source": [
    "$$\n",
    "\\mathbf{h}^{(t)} = R(\\mathbf{z}^{(t)}, \\mathbf{h}^{(t-1)})\n",
    "$$"
   ]
  },
  {
   "attachments": {},
   "cell_type": "markdown",
   "metadata": {},
   "source": [
    "$$\n",
    "\\mathbf{h}^{(t)} = \\sigma(\\mathbf{W} \\mathbf{z}^{(t)} + \\mathbf{U} \\mathbf{h}^{(t-1)} + \\mathbf{b})\n",
    "$$\n",
    "\n",
    "where $\\mathbf{W} \\in \\mathbb{R}^{k \\times m}$, $\\mathbf{U} \\in \\mathbb{R}^{m \\times m}$, and $\\mathbf{b} \\in \\mathbb{R}^m$ are learnable parameters."
   ]
  },
  {
   "cell_type": "code",
   "execution_count": 17,
   "metadata": {},
   "outputs": [],
   "source": [
    "struct SRNN\n",
    "  W :: Matrix{Float64}\n",
    "  U :: Matrix{Float64}\n",
    "  b :: Vector{Float64}\n",
    "end\n",
    "Flux.@functor SRNN"
   ]
  },
  {
   "cell_type": "code",
   "execution_count": 18,
   "metadata": {},
   "outputs": [
    {
     "data": {
      "text/plain": [
       "SRNN"
      ]
     },
     "metadata": {},
     "output_type": "display_data"
    }
   ],
   "source": [
    "SRNN(k::Int, m::Int) = SRNN(rand(m, k), rand(m, m), rand(m))"
   ]
  },
  {
   "cell_type": "code",
   "execution_count": 19,
   "metadata": {},
   "outputs": [],
   "source": [
    "function (m::SRNN)(h::Vector{Float64}, z::Vector{Float64})\n",
    "  h1 = σ.(m.W*z .+ m.U*h .+ m.b)\n",
    "  h1, h1\n",
    "end"
   ]
  },
  {
   "cell_type": "code",
   "execution_count": 20,
   "metadata": {},
   "outputs": [
    {
     "data": {
      "text/plain": [
       "([0.9889678239658811, 0.9928532579257985, 0.9869470286692433, 0.9944894242818457, 0.9942181517546577, 0.9908173529220239, 0.9935577713794941, 0.9963085989138513, 0.9841596599534662, 0.9790702044317703, 0.992139638505, 0.9916991162887967, 0.9969894184467272, 0.9948062158648668, 0.9461371037178866, 0.9944571691232803, 0.9823771373354659, 0.9908326509471338, 0.9936551672775802, 0.9968447284633729], [0.9889678239658811, 0.9928532579257985, 0.9869470286692433, 0.9944894242818457, 0.9942181517546577, 0.9908173529220239, 0.9935577713794941, 0.9963085989138513, 0.9841596599534662, 0.9790702044317703, 0.992139638505, 0.9916991162887967, 0.9969894184467272, 0.9948062158648668, 0.9461371037178866, 0.9944571691232803, 0.9823771373354659, 0.9908326509471338, 0.9936551672775802, 0.9968447284633729])"
      ]
     },
     "metadata": {},
     "output_type": "display_data"
    }
   ],
   "source": [
    "H_SIZE = 20\n",
    "srnn = SRNN(3, H_SIZE)\n",
    "srnn(rand(H_SIZE), rand(3))"
   ]
  },
  {
   "cell_type": "code",
   "execution_count": 21,
   "metadata": {},
   "outputs": [
    {
     "data": {
      "text/plain": [
       "Chain(\n",
       "  expand_date,\n",
       "  Recur(\n",
       "    SRNN([0.07023550283627555 0.5684914869202224 0.11800846819180544; 0.8602408755814809 0.0021086882457542755 0.7883266418615336; … ; 0.5867238396557651 0.7297332387437837 0.5404720757572826; 0.6117711961260416 0.8331635629778584 0.605179270608994], [0.5077906776418049 0.3085391210112617 … 0.14763265622999067 0.9275200711075164; 0.5046452354758264 0.5207004507100876 … 0.3508372417389979 0.5644886978129385; … ; 0.10423418239411841 0.4013547122197727 … 0.32220158013641875 0.6900770613333485; 0.19423472255868968 0.9427279842058526 … 0.002901417278932117 0.9610433526576587], [0.8276084062530781, 0.08213706460720793, 0.4096061439482471, 0.6062788688680342, 0.42425212609016605, 0.6584022303164121, 0.7495903215021865, 0.025622050280189823, 0.604614668678216, 0.6395195979340736, 0.18143770818993388, 0.22185609917212545, 0.9705458530545702, 0.28393530728391825, 0.021124714583921955, 0.8168378309176324, 0.10597068097709428, 0.7710306118784821, 0.6217396125602253, 0.883062966647183]),  \u001b[90m# 480 parameters\u001b[39m\n",
       "  ),\n",
       "  Dense(20 => 1),                       \u001b[90m# 21 parameters\u001b[39m\n",
       ") \u001b[90m        # Total: 5 trainable arrays, \u001b[39m501 parameters,\n",
       "\u001b[90m          # plus 1 non-trainable, 20 parameters, summarysize \u001b[39m4.340 KiB."
      ]
     },
     "metadata": {},
     "output_type": "display_data"
    }
   ],
   "source": [
    "rnn_model = Chain(\n",
    "  expand_date,\n",
    "  Flux.Recur(srnn, zeros(H_SIZE)),\n",
    "  Dense(H_SIZE => 1)\n",
    ")"
   ]
  },
  {
   "cell_type": "code",
   "execution_count": 22,
   "metadata": {},
   "outputs": [
    {
     "data": {
      "text/plain": [
       "115.77680211567044"
      ]
     },
     "metadata": {},
     "output_type": "display_data"
    }
   ],
   "source": [
    "loss(rnn_model, df_test[1, :])"
   ]
  },
  {
   "cell_type": "code",
   "execution_count": 23,
   "metadata": {},
   "outputs": [
    {
     "data": {
      "text/plain": [
       "20313.031136553225"
      ]
     },
     "metadata": {},
     "output_type": "display_data"
    }
   ],
   "source": [
    "sum([loss(rnn_model, row) for row in eachrow(df_test)])"
   ]
  },
  {
   "cell_type": "code",
   "execution_count": 24,
   "metadata": {},
   "outputs": [],
   "source": [
    "#Flux.reset!(rnn_model)\n",
    "train_model!(rnn_model)"
   ]
  },
  {
   "cell_type": "code",
   "execution_count": 25,
   "metadata": {},
   "outputs": [
    {
     "data": {
      "text/plain": [
       "2.877139956191399"
      ]
     },
     "metadata": {},
     "output_type": "display_data"
    }
   ],
   "source": [
    "loss(rnn_model, df_test[1, :])"
   ]
  },
  {
   "cell_type": "code",
   "execution_count": 26,
   "metadata": {},
   "outputs": [
    {
     "data": {
      "text/plain": [
       "4410.015192922573"
      ]
     },
     "metadata": {},
     "output_type": "display_data"
    }
   ],
   "source": [
    "sum([loss(rnn_model, row) for row in eachrow(df_test)])"
   ]
  },
  {
   "cell_type": "code",
   "execution_count": 27,
   "metadata": {},
   "outputs": [
    {
     "data": {
      "image/svg+xml": [
       "<?xml version=\"1.0\" encoding=\"UTF-8\"?>\n",
       "<svg xmlns=\"http://www.w3.org/2000/svg\"\n",
       "     xmlns:xlink=\"http://www.w3.org/1999/xlink\"\n",
       "     xmlns:gadfly=\"http://www.gadflyjl.org/ns\"\n",
       "     version=\"1.2\"\n",
       "     width=\"264.55mm\" height=\"158.73mm\" viewBox=\"0 0 264.55 158.73\"\n",
       "     stroke=\"none\"\n",
       "     fill=\"#000000\"\n",
       "     stroke-width=\"0.3\"\n",
       "     font-size=\"3.88\"\n",
       ">\n",
       "<defs>\n",
       "  <marker id=\"arrow\" markerWidth=\"15\" markerHeight=\"7\" refX=\"5\" refY=\"3.5\" orient=\"auto\" markerUnits=\"strokeWidth\">\n",
       "    <path d=\"M0,0 L15,3.5 L0,7 z\" stroke=\"context-stroke\" fill=\"context-stroke\"/>\n",
       "  </marker>\n",
       "</defs>\n",
       "<g class=\"plotroot xscalable yscalable\" id=\"img-189c7e72-1\">\n",
       "  <g font-size=\"3.88\" font-family=\"'PT Sans','Helvetica Neue','Helvetica',sans-serif\" fill=\"#564A55\" stroke=\"#000000\" stroke-opacity=\"0.000\" id=\"img-189c7e72-2\">\n",
       "    <g transform=\"translate(138.75,147.12)\">\n",
       "      <g class=\"primitive\">\n",
       "        <text text-anchor=\"middle\" dy=\"0.6em\">DATE</text>\n",
       "      </g>\n",
       "    </g>\n",
       "  </g>\n",
       "  <g class=\"guide xlabels\" font-size=\"2.82\" font-family=\"'PT Sans Caption','Helvetica Neue','Helvetica',sans-serif\" fill=\"#6C606B\" id=\"img-189c7e72-3\">\n",
       "    <g transform=\"translate(19.96,140.45)\">\n",
       "      <g class=\"primitive\">\n",
       "        <text text-anchor=\"middle\" dy=\"0.6em\">2016</text>\n",
       "      </g>\n",
       "    </g>\n",
       "    <g transform=\"translate(99.3,140.45)\">\n",
       "      <g class=\"primitive\">\n",
       "        <text text-anchor=\"middle\" dy=\"0.6em\">2017</text>\n",
       "      </g>\n",
       "    </g>\n",
       "    <g transform=\"translate(178.43,140.45)\">\n",
       "      <g class=\"primitive\">\n",
       "        <text text-anchor=\"middle\" dy=\"0.6em\">2018</text>\n",
       "      </g>\n",
       "    </g>\n",
       "    <g transform=\"translate(257.55,140.45)\">\n",
       "      <g class=\"primitive\">\n",
       "        <text text-anchor=\"middle\" dy=\"0.6em\">2019</text>\n",
       "      </g>\n",
       "    </g>\n",
       "  </g>\n",
       "  <g clip-path=\"url(#img-189c7e72-4)\">\n",
       "    <g id=\"img-189c7e72-5\">\n",
       "      <g pointer-events=\"visible\" stroke-width=\"0.3\" fill=\"#000000\" fill-opacity=\"0.000\" stroke=\"#000000\" stroke-opacity=\"0.000\" class=\"guide background\" id=\"img-189c7e72-6\">\n",
       "        <g transform=\"translate(138.75,72.22)\" id=\"img-189c7e72-7\">\n",
       "          <path d=\"M-120.8,-67.22 L120.8,-67.22 120.8,67.22 -120.8,67.22  z\" class=\"primitive\"/>\n",
       "        </g>\n",
       "      </g>\n",
       "      <g class=\"guide ygridlines xfixed\" stroke-dasharray=\"0.5,0.5\" stroke-width=\"0.2\" stroke=\"#D0D0E0\" id=\"img-189c7e72-8\">\n",
       "        <g transform=\"translate(138.75,137.45)\" id=\"img-189c7e72-9\">\n",
       "          <path fill=\"none\" d=\"M-120.8,0 L120.8,0 \" class=\"primitive\"/>\n",
       "        </g>\n",
       "        <g transform=\"translate(138.75,104.83)\" id=\"img-189c7e72-10\">\n",
       "          <path fill=\"none\" d=\"M-120.8,0 L120.8,0 \" class=\"primitive\"/>\n",
       "        </g>\n",
       "        <g transform=\"translate(138.75,72.22)\" id=\"img-189c7e72-11\">\n",
       "          <path fill=\"none\" d=\"M-120.8,0 L120.8,0 \" class=\"primitive\"/>\n",
       "        </g>\n",
       "        <g transform=\"translate(138.75,39.61)\" id=\"img-189c7e72-12\">\n",
       "          <path fill=\"none\" d=\"M-120.8,0 L120.8,0 \" class=\"primitive\"/>\n",
       "        </g>\n",
       "        <g transform=\"translate(138.75,7)\" id=\"img-189c7e72-13\">\n",
       "          <path fill=\"none\" d=\"M-120.8,0 L120.8,0 \" class=\"primitive\"/>\n",
       "        </g>\n",
       "      </g>\n",
       "      <g class=\"guide xgridlines yfixed\" stroke-dasharray=\"0.5,0.5\" stroke-width=\"0.2\" stroke=\"#D0D0E0\" id=\"img-189c7e72-14\">\n",
       "        <g transform=\"translate(19.96,72.22)\" id=\"img-189c7e72-15\">\n",
       "          <path fill=\"none\" d=\"M0,-67.22 L0,67.22 \" class=\"primitive\"/>\n",
       "        </g>\n",
       "        <g transform=\"translate(99.3,72.22)\" id=\"img-189c7e72-16\">\n",
       "          <path fill=\"none\" d=\"M0,-67.22 L0,67.22 \" class=\"primitive\"/>\n",
       "        </g>\n",
       "        <g transform=\"translate(178.43,72.22)\" id=\"img-189c7e72-17\">\n",
       "          <path fill=\"none\" d=\"M0,-67.22 L0,67.22 \" class=\"primitive\"/>\n",
       "        </g>\n",
       "        <g transform=\"translate(257.55,72.22)\" id=\"img-189c7e72-18\">\n",
       "          <path fill=\"none\" d=\"M0,-67.22 L0,67.22 \" class=\"primitive\"/>\n",
       "        </g>\n",
       "      </g>\n",
       "      <g class=\"plotpanel\" id=\"img-189c7e72-19\">\n",
       "        <metadata>\n",
       "          <boundingbox value=\"17.958333333333343mm 5.0mm 241.59193121693127mm 134.44515873015877mm\"/>\n",
       "          <unitbox value=\"2015-12-22T18:34:42.021 40.61328454638542 96288635958 milliseconds -41.226569092770845\"/>\n",
       "        </metadata>\n",
       "        <g stroke-width=\"0.3\" fill=\"#000000\" fill-opacity=\"0.000\" class=\"geometry\" id=\"img-189c7e72-20\">\n",
       "          <g class=\"color_RGB{N0f8}(0.0,0.502,0.0)\" stroke-dasharray=\"none\" stroke=\"#008000\" id=\"img-189c7e72-21\">\n",
       "            <g transform=\"translate(222.76,96.42)\" id=\"img-189c7e72-22\">\n",
       "              <path fill=\"none\" d=\"M-19.84,1.83 L-19.62,2.27 -19.4,2.92 -19.19,3.04 -18.97,2.64 -18.75,1.98 -18.53,1.8 -18.32,3.08 -18.1,3.17 -17.88,2.7 -17.67,2.03 -17.45,1.89 -17.23,2.28 -17.02,2.99 -16.8,3.2 -16.58,2.9 -16.37,2.18 -16.15,1.88 -15.93,2.11 -15.72,2.82 -15.5,3.2 -15.28,3.04 -15.07,2.37 -14.85,1.91 -14.63,1.99 -14.42,2.61 -14.2,3.15 -13.98,3.14 -13.77,2.59 -13.55,1.98 -13.33,1.92 -13.12,2.39 -12.9,3.06 -12.68,3.19 -12.46,2.8 -12.25,2.09 -12.03,1.88 -11.81,2.2 -11.6,2.23 -11.38,2.09 -11.16,1.72 -10.95,1.42 -10.73,1.44 -10.51,1.67 -10.3,2.13 -10.08,2.14 -9.86,1.85 -9.65,1.47 -9.43,1.42 -9.21,1.57 -9,2.02 -8.78,2.18 -8.56,1.96 -8.35,1.54 -8.13,1.41 -7.91,1.5 -7.7,1.88 -7.48,2.2 -7.26,2.04 -7.05,1.66 -6.83,1.41 -6.61,1.45 -6.4,1.74 -6.18,2.17 -5.96,2.11 -5.74,1.78 -5.53,1.44 -5.31,1.43 -5.09,-1.59 -4.88,-1.87 -4.66,-2.41 -4.44,-2.61 -4.23,-2.46 -4.01,-2.35 -3.79,-1.99 -3.58,-1.83 -3.36,-2.25 -3.14,-2.63 -2.93,-2.5 -2.71,-2.39 -2.49,-2.11 -2.28,-1.82 -2.06,-2.08 -1.84,-2.59 -1.63,-2.55 -1.41,-2.42 -1.19,-2.22 -0.98,-1.85 -0.76,-1.95 -0.54,-2.49 -0.33,-2.59 -0.11,-2.45 0.11,-2.31 0.33,-1.93 0.54,-1.86 0.76,-2.34 0.98,-2.62 1.19,-2.48 1.41,-2.37 1.63,-2.38 1.84,-2.33 2.06,-2.95 2.28,-3.39 2.49,-3.38 2.71,-3.09 2.93,-2.52 3.14,-2.26 3.36,-2.74 3.58,-3.32 3.79,-3.41 4.01,-3.21 4.23,-2.69 4.44,-2.26 4.66,-2.55 4.88,-3.21 5.09,-3.42 5.31,-3.29 5.53,-2.86 5.74,-2.32 5.96,-2.39 6.18,-3.05 6.4,-3.41 6.61,-3.36 6.83,-3.02 7.05,-2.44 7.26,-2.29 7.48,-2.86 7.7,-3.36 7.91,-3.4 8.13,-3.15 8.35,-1.23 8.56,-1.31 8.78,-1.69 9,-1.61 9.21,-1.27 9.43,-1.25 9.65,-1.17 9.86,-1.22 10.08,-1.58 10.3,-1.71 10.51,-1.33 10.73,-1.24 10.95,-1.2 11.16,-1.17 11.38,-1.45 11.6,-1.75 11.81,-1.43 12.03,-1.24 12.25,-1.23 12.46,-1.15 12.68,-1.34 12.9,-1.73 13.12,-1.54 13.33,-1.25 13.55,-1.25 13.77,-1.15 13.98,-1.25 14.2,-1.64 14.42,-1.66 14.63,-1.29 14.85,2.66 15.07,2.74 15.28,2.3 15.5,1.77 15.72,1.7 15.93,2.01 16.15,2.63 16.37,2.78 16.58,2.47 16.8,1.87 17.02,1.68 17.23,1.87 17.45,2.48 17.67,2.79 17.88,2.61 18.1,2.02 18.32,1.69 18.53,1.77 18.75,2.29 18.97,2.77 19.19,2.71 19.4,2.2 19.62,1.73 19.84,1.71 \" class=\"primitive\"/>\n",
       "            </g>\n",
       "          </g>\n",
       "        </g>\n",
       "        <g stroke-width=\"0.3\" fill=\"#000000\" fill-opacity=\"0.000\" class=\"geometry\" id=\"img-189c7e72-23\">\n",
       "          <g class=\"color_RGB{N0f8}(1.0,1.0,0.0)\" stroke-dasharray=\"none\" stroke=\"#FFFF00\" id=\"img-189c7e72-24\">\n",
       "            <g transform=\"translate(222.76,107.86)\" id=\"img-189c7e72-25\">\n",
       "              <path fill=\"none\" d=\"M-19.84,-4.07 L-19.62,10.8 -19.4,10.54 -19.19,4.28 -18.97,-10.86 -18.75,-8.25 -18.53,2.19 -18.32,4.28 -18.1,10.28 -17.88,6.89 -17.67,5.45 -17.45,-19.33 -17.23,-13.07 -17.02,10.02 -16.8,5.32 -16.58,0.88 -16.37,4.28 -16.15,12.76 -15.93,-0.03 -15.72,1.02 -15.5,10.15 -15.28,5.06 -15.07,-0.55 -14.85,-23.12 -14.63,13.15 -14.42,-8.9 -14.2,-9.03 -13.98,13.02 -13.77,8.19 -13.55,10.41 -13.33,16.28 -13.12,13.54 -12.9,18.1 -12.68,17.45 -12.46,-20.9 -12.25,-4.72 -12.03,5.19 -11.81,-22.46 -11.6,-11.12 -11.38,-16.86 -11.16,-22.73 -10.95,4.02 -10.73,9.76 -10.51,2.97 -10.3,8.06 -10.08,-4.46 -9.86,-19.73 -9.65,-5.12 -9.43,3.23 -9.21,-2.25 -9,2.32 -8.78,1.8 -8.56,6.36 -8.35,-4.85 -8.13,-4.99 -7.91,5.97 -7.7,5.19 -7.48,7.02 -7.26,6.36 -7.05,-15.42 -6.83,-14.77 -6.61,-54.42 -6.4,-4.72 -6.18,5.97 -5.96,7.15 -5.74,7.93 -5.53,-1.07 -5.31,-36.94 -5.09,-13.59 -4.88,-12.16 -4.66,6.89 -4.44,1.41 -4.23,8.32 -4.01,-32.9 -3.79,11.32 -3.58,-8.38 -3.36,-25.73 -3.14,-2.77 -2.93,5.97 -2.71,0.62 -2.49,7.28 -2.28,-8.51 -2.06,-11.12 -1.84,0.75 -1.63,3.23 -1.41,1.02 -1.19,4.8 -0.98,-6.03 -0.76,7.02 -0.54,-9.55 -0.33,-6.94 -0.11,-0.03 0.11,-15.81 0.33,-21.29 0.54,-6.55 0.76,8.71 0.98,-3.42 1.19,-3.68 1.41,3.23 1.63,5.45 1.84,10.15 2.06,-14.51 2.28,-10.46 2.49,-12.55 2.71,0.75 2.93,4.93 3.14,2.97 3.36,0.1 3.58,-13.33 3.79,-19.46 4.01,-14.9 4.23,6.1 4.44,3.36 4.66,6.62 4.88,3.1 5.09,1.28 5.31,-12.94 5.53,-10.07 5.74,1.28 5.96,6.62 6.18,5.32 6.4,9.89 6.61,-0.42 6.83,17.06 7.05,9.23 7.26,8.71 7.48,6.75 7.7,4.93 7.91,5.45 8.13,0.62 8.35,-1.85 8.56,-8.38 8.78,2.71 9,4.41 9.21,7.8 9.43,3.23 9.65,-15.16 9.86,-7.72 10.08,3.49 10.3,-4.72 10.51,4.15 10.73,-8.51 10.95,-15.42 11.16,-14.12 11.38,-9.42 11.6,-2.77 11.81,-2.38 12.03,8.19 12.25,7.15 12.46,4.54 12.68,6.36 12.9,10.41 13.12,-0.03 13.33,11.06 13.55,-5.64 13.77,9.49 13.98,4.54 14.2,-1.46 14.42,1.93 14.63,-4.46 14.85,-12.29 15.07,5.84 15.28,5.84 15.5,1.67 15.72,1.41 15.93,0.62 16.15,2.45 16.37,-0.94 16.58,13.41 16.8,5.19 17.02,3.88 17.23,2.58 17.45,0.75 17.67,2.19 17.88,7.93 18.1,4.41 18.32,10.41 18.53,14.06 18.75,4.28 18.97,3.49 19.19,25.93 19.4,27.5 19.62,25.67 19.84,23.32 \" class=\"primitive\"/>\n",
       "            </g>\n",
       "          </g>\n",
       "        </g>\n",
       "        <g stroke-width=\"0.3\" fill=\"#000000\" fill-opacity=\"0.000\" class=\"geometry\" id=\"img-189c7e72-26\">\n",
       "          <g class=\"color_RGB{N0f8}(0.0,1.0,1.0)\" stroke-dasharray=\"none\" stroke=\"#00FFFF\" id=\"img-189c7e72-27\">\n",
       "            <g transform=\"translate(143.42,96.4)\" id=\"img-189c7e72-28\">\n",
       "              <path fill=\"none\" d=\"M-59.51,26.3 L-59.29,-35.01 -59.07,17.69 -58.86,12.74 -58.64,24.61 -58.42,23.69 -58.21,25.91 -57.99,6.34 -57.77,16.78 -57.56,12.21 -57.34,3.74 -57.12,-18.31 -56.91,-5.14 -56.69,14.04 -56.47,-23.01 -56.25,18.61 -56.04,17.3 -55.82,21.35 -55.6,11.56 -55.39,4.39 -55.17,19.91 -54.95,7.52 -54.74,-12.44 -54.52,13.52 -54.3,22.65 -54.09,8.43 -53.87,-21.05 -53.65,-16.61 -53.44,7.26 -53.22,18.21 -53,10.26 -52.79,-12.05 -52.57,-21.57 -52.35,-31.35 -52.14,-3.96 -51.92,7.13 -51.7,-10.09 -51.49,-34.22 -51.27,-45.18 -51.05,-38.27 -50.84,0.21 -50.62,-70.1 -50.4,-11.4 -50.18,7.26 -49.97,-3.96 -49.75,3.47 -49.53,-45.44 -49.32,-23.66 -49.1,-1.48 -48.88,13.91 -48.67,41.04 -48.45,-22.09 -48.23,-43.62 -48.02,13.13 -47.8,14.3 -47.58,4.91 -47.37,-0.31 -47.15,-67.23 -46.93,-68.79 -46.72,-53.66 -46.5,-41.53 -46.28,-18.96 -46.07,-17.66 -45.85,-39.57 -45.63,-63.18 -45.42,-69.31 -45.2,-26.79 -44.98,-70.88 -44.77,-74.14 -44.55,-11.92 -44.33,-16.88 -44.11,-88.49 -43.9,-64.23 -43.68,-32.92 -43.46,-9.96 -43.25,-9.31 -43.03,-45.05 -42.81,-45.31 -42.6,-16.88 -42.38,5.3 -42.16,-21.83 -41.95,-17.79 -41.73,-33.18 -41.51,-21.44 -41.3,-51.57 -41.08,-80.79 -40.86,-72.71 -40.65,-28.09 -40.43,-24.7 -40.21,-56.14 -40,-18.7 -39.78,-27.57 -39.56,-50.01 -39.35,-34.22 -39.13,-34.62 -38.91,-34.09 -38.7,-39.7 -38.48,-51.97 -38.26,-47.92 -38.05,-24.7 -37.83,-11.79 -37.61,-58.36 -37.39,-19.35 -37.18,-32.4 -36.96,1.13 -36.74,15.48 -36.53,-29.92 -36.31,-28.88 -36.09,-11.27 -35.88,20.69 -35.66,11.17 -35.44,17.43 -35.23,-9.05 -35.01,-37.49 -34.79,-1.09 -34.58,4.78 -34.36,-1.87 -34.14,23.04 -33.93,6.34 -33.71,-30.18 -33.49,12.74 -33.28,-13.88 -33.06,15.87 -32.84,-33.18 -32.63,-55.75 -32.41,-43.49 -32.19,-38.92 -31.98,-43.75 -31.76,-25.88 -31.54,-17.14 -31.32,-0.83 -31.11,-17.79 -30.89,-38.92 -30.67,-12.05 -30.46,-38.14 -30.24,-31.88 -30.02,-7.61 -29.81,-14.79 -29.59,21.21 -29.37,23.95 -29.16,23.95 -28.94,13.78 -28.72,16.91 -28.51,18.48 -28.29,17.56 -28.07,13.78 -27.86,22.13 -27.64,17.43 -27.42,12.21 -27.21,23.56 -26.99,24.08 -26.77,22.26 -26.56,25.39 -26.34,5.56 -26.12,-9.83 -25.91,-36.44 -25.69,5.82 -25.47,20.04 -25.25,12.08 -25.04,4.52 -24.82,5.3 -24.6,26.3 -24.39,19.91 -24.17,20.82 -23.95,16.52 -23.74,24.21 -23.52,19.78 -23.3,5.17 -23.09,-8.01 -22.87,11.82 -22.65,-9.18 -22.44,18.48 -22.22,19.39 -22,21.61 -21.79,18.87 -21.57,24.08 -21.35,12.61 -21.14,25.78 -20.92,17.43 -20.7,20.82 -20.49,29.56 -20.27,14.17 -20.05,7.65 -19.84,22.39 -19.62,18.21 -19.4,28 -19.19,20.56 -18.97,21.74 -18.75,24.48 -18.53,24.21 -18.32,20.17 -18.1,3.74 -17.88,6.6 -17.67,10.39 -17.45,-10.22 -17.23,9.74 -17.02,24.48 -16.8,13.39 -16.58,15.61 -16.37,16.52 -16.15,16.65 -15.93,13.52 -15.72,19.13 -15.5,19.39 -15.28,20.43 -15.07,21.08 -14.85,23.95 -14.63,23.17 -14.42,19.26 -14.2,26.17 -13.98,12.47 -13.77,13.78 -13.55,-4.74 -13.33,24.08 -13.12,26.82 -12.9,25.91 -12.68,22.26 -12.46,23.3 -12.25,28.78 -12.03,26.17 -11.81,24.35 -11.6,9.08 -11.38,23.69 -11.16,23.04 -10.95,14.69 -10.73,23.82 -10.51,21.87 -10.3,24.74 -10.08,41.04 -9.86,22.39 -9.65,21.61 -9.43,17.04 -9.21,22.39 -9,24.61 -8.78,20.95 -8.56,26.69 -8.35,13.78 -8.13,-23.27 -7.91,-4.61 -7.7,-8.53 -7.48,-0.57 -7.26,19.13 -7.05,9.21 -6.83,1.52 -6.61,10 -6.4,14.3 -6.18,20.3 -5.96,11.82 -5.74,25.26 -5.53,11.17 -5.31,20.43 -5.09,26.04 -4.88,23.56 -4.66,17.69 -4.44,11.17 -4.23,2.95 -4.01,23.95 -3.79,12.87 -3.58,5.17 -3.36,7.52 -3.14,-17.14 -2.93,11.82 -2.71,24.61 -2.49,8.69 -2.28,11.95 -2.06,24.48 -1.84,1.52 -1.63,-18.96 -1.41,3.74 -1.19,-3.96 -0.98,25 -0.76,8.95 -0.54,19.52 -0.33,14.43 -0.11,-40.23 0.11,-11.66 0.33,5.95 0.54,15.87 0.76,22 0.98,8.43 1.19,24.08 1.41,17.56 1.63,10.78 1.84,18.34 2.06,4.13 2.28,-16.09 2.49,-8.53 2.71,12.61 2.93,20.04 3.14,21.48 3.36,20.43 3.58,20.95 3.79,25.39 4.01,16.39 4.23,15.34 4.44,29.3 4.66,23.3 4.88,23.04 5.09,20.69 5.31,21.87 5.53,20.17 5.74,20.43 5.96,16.13 6.18,22.91 6.4,24.35 6.61,21.21 6.83,23.95 7.05,19.78 7.26,4.91 7.48,5.95 7.7,12.47 7.91,21.21 8.13,17.04 8.35,11.43 8.56,1.65 8.78,-35.14 9,-55.1 9.21,-24.7 9.43,13.91 9.65,14.43 9.86,21.08 10.08,26.17 10.3,20.95 10.51,-3.05 10.73,17.56 10.95,14.17 11.16,14.95 11.38,-8.14 11.6,28.52 11.81,22.65 12.03,23.43 12.25,25.91 12.46,26.95 12.68,26.43 12.9,25 13.12,26.95 13.33,16.52 13.55,25.13 13.77,26.17 13.98,23.82 14.2,24.48 14.42,23.04 14.63,29.17 14.85,15.61 15.07,26.43 15.28,17.3 15.5,17.04 15.72,21.61 15.93,19.26 16.15,26.3 16.37,18.74 16.58,15.34 16.8,21.08 17.02,17.17 17.23,18.74 17.45,17.95 17.67,20.82 17.88,8.56 18.1,11.43 18.32,14.3 18.53,19.65 18.75,17.3 18.97,19.65 19.19,16.26 19.4,25.78 19.62,19.26 19.84,19.91 20.05,14.95 20.27,20.56 20.49,23.43 20.7,23.04 20.92,17.95 21.14,20.43 21.35,-4.61 21.57,18.87 21.79,18.08 22,9.47 22.22,25.26 22.44,-35.01 22.65,-26.4 22.87,9.61 23.09,-30.7 23.3,-8.53 23.52,11.17 23.74,-42.44 23.95,-16.48 24.17,-18.96 24.39,-2.14 24.6,-8.01 24.82,24.87 25.04,23.04 25.25,-11.92 25.47,-23.4 25.69,-55.23 25.91,23.82 26.12,19 26.34,22.13 26.56,22.13 26.77,17.56 26.99,15.61 27.21,7.39 27.42,21.08 27.64,10.13 27.86,-7.87 28.07,-11.79 28.29,-37.88 28.51,-31.88 28.72,-20.92 28.94,-24.31 29.16,-29.14 29.37,-40.36 29.59,-74.27 29.81,-31.35 30.02,-38.79 30.24,-28.09 30.46,6.6 30.67,-16.09 30.89,2.43 31.11,11.43 31.32,-43.75 31.54,-49.1 31.76,0.34 31.98,5.17 32.19,-2.53 32.41,-7.61 32.63,-16.61 32.84,-52.75 33.06,-41.92 33.28,-48.57 33.49,-48.18 33.71,-31.49 33.93,-53.79 34.14,21.35 34.36,30.08 34.58,-32.4 34.79,-31.09 35.01,-18.44 35.23,12.47 35.44,-6.96 35.66,12.47 35.88,14.43 36.09,-5.4 36.31,-18.05 36.53,-4.09 36.74,-5.14 36.96,-12.83 37.18,-20.66 37.39,19.78 37.61,-75.31 37.83,10.78 38.05,16 38.26,14.95 38.48,11.95 38.7,15.48 38.91,-21.83 39.13,-65.66 39.35,-24.31 39.56,3.74 39.78,-17.01 40,-8.27 40.21,-26.01 40.43,5.95 40.65,-55.49 40.86,16.52 41.08,7 41.3,-19.09 41.51,-14.66 41.73,11.82 41.95,6.74 42.16,7 42.38,11.04 42.6,19.91 42.81,20.04 43.03,19.78 43.25,21.35 43.46,28.13 43.68,12.87 43.9,-5 44.11,-25.75 44.33,3.34 44.55,-10.48 44.77,-9.31 44.98,8.95 45.2,-9.18 45.42,3.87 45.63,-32.66 45.85,-26.14 46.07,-41.92 46.28,-27.83 46.5,-50.92 46.72,-6.83 46.93,-26.01 47.15,7.91 47.37,-29.53 47.58,-35.27 47.8,7 48.02,-24.18 48.23,-15.05 48.45,-46.36 48.67,-7.61 48.88,16.39 49.1,-13.88 49.32,17.82 49.53,-12.05 49.75,14.04 49.97,11.82 50.18,15.87 50.4,25 50.62,13.91 50.84,-9.57 51.05,-34.75 51.27,-10.87 51.49,-32.01 51.7,6.87 51.92,-12.57 52.14,19.26 52.35,-12.96 52.57,-18.83 52.79,-28.75 53,-53.01 53.22,13.78 53.44,-23.66 53.65,20.04 53.87,17.69 54.09,20.69 54.3,9.21 54.52,18.34 54.74,11.17 54.95,12.87 55.17,3.74 55.39,7.39 55.6,12.08 55.82,7 56.04,13.78 56.25,-3.57 56.47,17.82 56.69,-0.96 56.91,-26.01 57.12,5.82 57.34,2.3 57.56,10.39 57.77,-25.62 57.99,-33.57 58.21,1.26 58.42,14.56 58.64,4.52 58.86,8.82 59.07,12.61 59.29,9.21 59.51,7.39 \" class=\"primitive\"/>\n",
       "            </g>\n",
       "          </g>\n",
       "        </g>\n",
       "      </g>\n",
       "    </g>\n",
       "  </g>\n",
       "  <g class=\"guide ylabels\" font-size=\"2.82\" font-family=\"'PT Sans Caption','Helvetica Neue','Helvetica',sans-serif\" fill=\"#6C606B\" id=\"img-189c7e72-29\">\n",
       "    <g transform=\"translate(16.96,137.45)\" id=\"img-189c7e72-30\">\n",
       "      <g class=\"primitive\">\n",
       "        <text text-anchor=\"end\" dy=\"0.35em\">0</text>\n",
       "      </g>\n",
       "    </g>\n",
       "    <g transform=\"translate(16.96,104.83)\" id=\"img-189c7e72-31\">\n",
       "      <g class=\"primitive\">\n",
       "        <text text-anchor=\"end\" dy=\"0.35em\">10</text>\n",
       "      </g>\n",
       "    </g>\n",
       "    <g transform=\"translate(16.96,72.22)\" id=\"img-189c7e72-32\">\n",
       "      <g class=\"primitive\">\n",
       "        <text text-anchor=\"end\" dy=\"0.35em\">20</text>\n",
       "      </g>\n",
       "    </g>\n",
       "    <g transform=\"translate(16.96,39.61)\" id=\"img-189c7e72-33\">\n",
       "      <g class=\"primitive\">\n",
       "        <text text-anchor=\"end\" dy=\"0.35em\">30</text>\n",
       "      </g>\n",
       "    </g>\n",
       "    <g transform=\"translate(16.96,7)\" id=\"img-189c7e72-34\">\n",
       "      <g class=\"primitive\">\n",
       "        <text text-anchor=\"end\" dy=\"0.35em\">40</text>\n",
       "      </g>\n",
       "    </g>\n",
       "  </g>\n",
       "  <g font-size=\"3.88\" font-family=\"'PT Sans','Helvetica Neue','Helvetica',sans-serif\" fill=\"#564A55\" stroke=\"#000000\" stroke-opacity=\"0.000\" id=\"img-189c7e72-35\">\n",
       "    <g transform=\"translate(8.81,70.22)\" id=\"img-189c7e72-36\">\n",
       "      <g class=\"primitive\">\n",
       "        <text text-anchor=\"middle\" dy=\"0.35em\" transform=\"rotate(-90,0, 2)\">USAGE_sum</text>\n",
       "      </g>\n",
       "    </g>\n",
       "  </g>\n",
       "</g>\n",
       "<defs>\n",
       "  <clipPath id=\"img-189c7e72-4\">\n",
       "    <path d=\"M17.96,5 L259.55,5 259.55,139.45 17.96,139.45 \" />\n",
       "  </clipPath>\n",
       "</defs>\n",
       "</svg>\n"
      ],
      "text/html": [
       "<html>\n",
       "<?xml version=\"1.0\" encoding=\"UTF-8\"?>\n",
       "<svg xmlns=\"http://www.w3.org/2000/svg\"\n",
       "     xmlns:xlink=\"http://www.w3.org/1999/xlink\"\n",
       "     xmlns:gadfly=\"http://www.gadflyjl.org/ns\"\n",
       "     version=\"1.2\"\n",
       "     width=\"264.55mm\" height=\"158.73mm\" viewBox=\"0 0 264.55 158.73\"\n",
       "     stroke=\"none\"\n",
       "     fill=\"#000000\"\n",
       "     stroke-width=\"0.3\"\n",
       "     font-size=\"3.88\"\n",
       ">\n",
       "<defs>\n",
       "  <marker id=\"arrow\" markerWidth=\"15\" markerHeight=\"7\" refX=\"5\" refY=\"3.5\" orient=\"auto\" markerUnits=\"strokeWidth\">\n",
       "    <path d=\"M0,0 L15,3.5 L0,7 z\" stroke=\"context-stroke\" fill=\"context-stroke\"/>\n",
       "  </marker>\n",
       "</defs>\n",
       "<g class=\"plotroot xscalable yscalable\" id=\"img-189c7e72-1\">\n",
       "  <g font-size=\"3.88\" font-family=\"'PT Sans','Helvetica Neue','Helvetica',sans-serif\" fill=\"#564A55\" stroke=\"#000000\" stroke-opacity=\"0.000\" id=\"img-189c7e72-2\">\n",
       "    <g transform=\"translate(138.75,147.12)\">\n",
       "      <g class=\"primitive\">\n",
       "        <text text-anchor=\"middle\" dy=\"0.6em\">DATE</text>\n",
       "      </g>\n",
       "    </g>\n",
       "  </g>\n",
       "  <g class=\"guide xlabels\" font-size=\"2.82\" font-family=\"'PT Sans Caption','Helvetica Neue','Helvetica',sans-serif\" fill=\"#6C606B\" id=\"img-189c7e72-3\">\n",
       "    <g transform=\"translate(19.96,140.45)\">\n",
       "      <g class=\"primitive\">\n",
       "        <text text-anchor=\"middle\" dy=\"0.6em\">2016</text>\n",
       "      </g>\n",
       "    </g>\n",
       "    <g transform=\"translate(99.3,140.45)\">\n",
       "      <g class=\"primitive\">\n",
       "        <text text-anchor=\"middle\" dy=\"0.6em\">2017</text>\n",
       "      </g>\n",
       "    </g>\n",
       "    <g transform=\"translate(178.43,140.45)\">\n",
       "      <g class=\"primitive\">\n",
       "        <text text-anchor=\"middle\" dy=\"0.6em\">2018</text>\n",
       "      </g>\n",
       "    </g>\n",
       "    <g transform=\"translate(257.55,140.45)\">\n",
       "      <g class=\"primitive\">\n",
       "        <text text-anchor=\"middle\" dy=\"0.6em\">2019</text>\n",
       "      </g>\n",
       "    </g>\n",
       "  </g>\n",
       "  <g clip-path=\"url(#img-189c7e72-4)\">\n",
       "    <g id=\"img-189c7e72-5\">\n",
       "      <g pointer-events=\"visible\" stroke-width=\"0.3\" fill=\"#000000\" fill-opacity=\"0.000\" stroke=\"#000000\" stroke-opacity=\"0.000\" class=\"guide background\" id=\"img-189c7e72-6\">\n",
       "        <g transform=\"translate(138.75,72.22)\" id=\"img-189c7e72-7\">\n",
       "          <path d=\"M-120.8,-67.22 L120.8,-67.22 120.8,67.22 -120.8,67.22  z\" class=\"primitive\"/>\n",
       "        </g>\n",
       "      </g>\n",
       "      <g class=\"guide ygridlines xfixed\" stroke-dasharray=\"0.5,0.5\" stroke-width=\"0.2\" stroke=\"#D0D0E0\" id=\"img-189c7e72-8\">\n",
       "        <g transform=\"translate(138.75,137.45)\" id=\"img-189c7e72-9\">\n",
       "          <path fill=\"none\" d=\"M-120.8,0 L120.8,0 \" class=\"primitive\"/>\n",
       "        </g>\n",
       "        <g transform=\"translate(138.75,104.83)\" id=\"img-189c7e72-10\">\n",
       "          <path fill=\"none\" d=\"M-120.8,0 L120.8,0 \" class=\"primitive\"/>\n",
       "        </g>\n",
       "        <g transform=\"translate(138.75,72.22)\" id=\"img-189c7e72-11\">\n",
       "          <path fill=\"none\" d=\"M-120.8,0 L120.8,0 \" class=\"primitive\"/>\n",
       "        </g>\n",
       "        <g transform=\"translate(138.75,39.61)\" id=\"img-189c7e72-12\">\n",
       "          <path fill=\"none\" d=\"M-120.8,0 L120.8,0 \" class=\"primitive\"/>\n",
       "        </g>\n",
       "        <g transform=\"translate(138.75,7)\" id=\"img-189c7e72-13\">\n",
       "          <path fill=\"none\" d=\"M-120.8,0 L120.8,0 \" class=\"primitive\"/>\n",
       "        </g>\n",
       "      </g>\n",
       "      <g class=\"guide xgridlines yfixed\" stroke-dasharray=\"0.5,0.5\" stroke-width=\"0.2\" stroke=\"#D0D0E0\" id=\"img-189c7e72-14\">\n",
       "        <g transform=\"translate(19.96,72.22)\" id=\"img-189c7e72-15\">\n",
       "          <path fill=\"none\" d=\"M0,-67.22 L0,67.22 \" class=\"primitive\"/>\n",
       "        </g>\n",
       "        <g transform=\"translate(99.3,72.22)\" id=\"img-189c7e72-16\">\n",
       "          <path fill=\"none\" d=\"M0,-67.22 L0,67.22 \" class=\"primitive\"/>\n",
       "        </g>\n",
       "        <g transform=\"translate(178.43,72.22)\" id=\"img-189c7e72-17\">\n",
       "          <path fill=\"none\" d=\"M0,-67.22 L0,67.22 \" class=\"primitive\"/>\n",
       "        </g>\n",
       "        <g transform=\"translate(257.55,72.22)\" id=\"img-189c7e72-18\">\n",
       "          <path fill=\"none\" d=\"M0,-67.22 L0,67.22 \" class=\"primitive\"/>\n",
       "        </g>\n",
       "      </g>\n",
       "      <g class=\"plotpanel\" id=\"img-189c7e72-19\">\n",
       "        <metadata>\n",
       "          <boundingbox value=\"17.958333333333343mm 5.0mm 241.59193121693127mm 134.44515873015877mm\"/>\n",
       "          <unitbox value=\"2015-12-22T18:34:42.021 40.61328454638542 96288635958 milliseconds -41.226569092770845\"/>\n",
       "        </metadata>\n",
       "        <g stroke-width=\"0.3\" fill=\"#000000\" fill-opacity=\"0.000\" class=\"geometry\" id=\"img-189c7e72-20\">\n",
       "          <g class=\"color_RGB{N0f8}(0.0,0.502,0.0)\" stroke-dasharray=\"none\" stroke=\"#008000\" id=\"img-189c7e72-21\">\n",
       "            <g transform=\"translate(222.76,96.42)\" id=\"img-189c7e72-22\">\n",
       "              <path fill=\"none\" d=\"M-19.84,1.83 L-19.62,2.27 -19.4,2.92 -19.19,3.04 -18.97,2.64 -18.75,1.98 -18.53,1.8 -18.32,3.08 -18.1,3.17 -17.88,2.7 -17.67,2.03 -17.45,1.89 -17.23,2.28 -17.02,2.99 -16.8,3.2 -16.58,2.9 -16.37,2.18 -16.15,1.88 -15.93,2.11 -15.72,2.82 -15.5,3.2 -15.28,3.04 -15.07,2.37 -14.85,1.91 -14.63,1.99 -14.42,2.61 -14.2,3.15 -13.98,3.14 -13.77,2.59 -13.55,1.98 -13.33,1.92 -13.12,2.39 -12.9,3.06 -12.68,3.19 -12.46,2.8 -12.25,2.09 -12.03,1.88 -11.81,2.2 -11.6,2.23 -11.38,2.09 -11.16,1.72 -10.95,1.42 -10.73,1.44 -10.51,1.67 -10.3,2.13 -10.08,2.14 -9.86,1.85 -9.65,1.47 -9.43,1.42 -9.21,1.57 -9,2.02 -8.78,2.18 -8.56,1.96 -8.35,1.54 -8.13,1.41 -7.91,1.5 -7.7,1.88 -7.48,2.2 -7.26,2.04 -7.05,1.66 -6.83,1.41 -6.61,1.45 -6.4,1.74 -6.18,2.17 -5.96,2.11 -5.74,1.78 -5.53,1.44 -5.31,1.43 -5.09,-1.59 -4.88,-1.87 -4.66,-2.41 -4.44,-2.61 -4.23,-2.46 -4.01,-2.35 -3.79,-1.99 -3.58,-1.83 -3.36,-2.25 -3.14,-2.63 -2.93,-2.5 -2.71,-2.39 -2.49,-2.11 -2.28,-1.82 -2.06,-2.08 -1.84,-2.59 -1.63,-2.55 -1.41,-2.42 -1.19,-2.22 -0.98,-1.85 -0.76,-1.95 -0.54,-2.49 -0.33,-2.59 -0.11,-2.45 0.11,-2.31 0.33,-1.93 0.54,-1.86 0.76,-2.34 0.98,-2.62 1.19,-2.48 1.41,-2.37 1.63,-2.38 1.84,-2.33 2.06,-2.95 2.28,-3.39 2.49,-3.38 2.71,-3.09 2.93,-2.52 3.14,-2.26 3.36,-2.74 3.58,-3.32 3.79,-3.41 4.01,-3.21 4.23,-2.69 4.44,-2.26 4.66,-2.55 4.88,-3.21 5.09,-3.42 5.31,-3.29 5.53,-2.86 5.74,-2.32 5.96,-2.39 6.18,-3.05 6.4,-3.41 6.61,-3.36 6.83,-3.02 7.05,-2.44 7.26,-2.29 7.48,-2.86 7.7,-3.36 7.91,-3.4 8.13,-3.15 8.35,-1.23 8.56,-1.31 8.78,-1.69 9,-1.61 9.21,-1.27 9.43,-1.25 9.65,-1.17 9.86,-1.22 10.08,-1.58 10.3,-1.71 10.51,-1.33 10.73,-1.24 10.95,-1.2 11.16,-1.17 11.38,-1.45 11.6,-1.75 11.81,-1.43 12.03,-1.24 12.25,-1.23 12.46,-1.15 12.68,-1.34 12.9,-1.73 13.12,-1.54 13.33,-1.25 13.55,-1.25 13.77,-1.15 13.98,-1.25 14.2,-1.64 14.42,-1.66 14.63,-1.29 14.85,2.66 15.07,2.74 15.28,2.3 15.5,1.77 15.72,1.7 15.93,2.01 16.15,2.63 16.37,2.78 16.58,2.47 16.8,1.87 17.02,1.68 17.23,1.87 17.45,2.48 17.67,2.79 17.88,2.61 18.1,2.02 18.32,1.69 18.53,1.77 18.75,2.29 18.97,2.77 19.19,2.71 19.4,2.2 19.62,1.73 19.84,1.71 \" class=\"primitive\"/>\n",
       "            </g>\n",
       "          </g>\n",
       "        </g>\n",
       "        <g stroke-width=\"0.3\" fill=\"#000000\" fill-opacity=\"0.000\" class=\"geometry\" id=\"img-189c7e72-23\">\n",
       "          <g class=\"color_RGB{N0f8}(1.0,1.0,0.0)\" stroke-dasharray=\"none\" stroke=\"#FFFF00\" id=\"img-189c7e72-24\">\n",
       "            <g transform=\"translate(222.76,107.86)\" id=\"img-189c7e72-25\">\n",
       "              <path fill=\"none\" d=\"M-19.84,-4.07 L-19.62,10.8 -19.4,10.54 -19.19,4.28 -18.97,-10.86 -18.75,-8.25 -18.53,2.19 -18.32,4.28 -18.1,10.28 -17.88,6.89 -17.67,5.45 -17.45,-19.33 -17.23,-13.07 -17.02,10.02 -16.8,5.32 -16.58,0.88 -16.37,4.28 -16.15,12.76 -15.93,-0.03 -15.72,1.02 -15.5,10.15 -15.28,5.06 -15.07,-0.55 -14.85,-23.12 -14.63,13.15 -14.42,-8.9 -14.2,-9.03 -13.98,13.02 -13.77,8.19 -13.55,10.41 -13.33,16.28 -13.12,13.54 -12.9,18.1 -12.68,17.45 -12.46,-20.9 -12.25,-4.72 -12.03,5.19 -11.81,-22.46 -11.6,-11.12 -11.38,-16.86 -11.16,-22.73 -10.95,4.02 -10.73,9.76 -10.51,2.97 -10.3,8.06 -10.08,-4.46 -9.86,-19.73 -9.65,-5.12 -9.43,3.23 -9.21,-2.25 -9,2.32 -8.78,1.8 -8.56,6.36 -8.35,-4.85 -8.13,-4.99 -7.91,5.97 -7.7,5.19 -7.48,7.02 -7.26,6.36 -7.05,-15.42 -6.83,-14.77 -6.61,-54.42 -6.4,-4.72 -6.18,5.97 -5.96,7.15 -5.74,7.93 -5.53,-1.07 -5.31,-36.94 -5.09,-13.59 -4.88,-12.16 -4.66,6.89 -4.44,1.41 -4.23,8.32 -4.01,-32.9 -3.79,11.32 -3.58,-8.38 -3.36,-25.73 -3.14,-2.77 -2.93,5.97 -2.71,0.62 -2.49,7.28 -2.28,-8.51 -2.06,-11.12 -1.84,0.75 -1.63,3.23 -1.41,1.02 -1.19,4.8 -0.98,-6.03 -0.76,7.02 -0.54,-9.55 -0.33,-6.94 -0.11,-0.03 0.11,-15.81 0.33,-21.29 0.54,-6.55 0.76,8.71 0.98,-3.42 1.19,-3.68 1.41,3.23 1.63,5.45 1.84,10.15 2.06,-14.51 2.28,-10.46 2.49,-12.55 2.71,0.75 2.93,4.93 3.14,2.97 3.36,0.1 3.58,-13.33 3.79,-19.46 4.01,-14.9 4.23,6.1 4.44,3.36 4.66,6.62 4.88,3.1 5.09,1.28 5.31,-12.94 5.53,-10.07 5.74,1.28 5.96,6.62 6.18,5.32 6.4,9.89 6.61,-0.42 6.83,17.06 7.05,9.23 7.26,8.71 7.48,6.75 7.7,4.93 7.91,5.45 8.13,0.62 8.35,-1.85 8.56,-8.38 8.78,2.71 9,4.41 9.21,7.8 9.43,3.23 9.65,-15.16 9.86,-7.72 10.08,3.49 10.3,-4.72 10.51,4.15 10.73,-8.51 10.95,-15.42 11.16,-14.12 11.38,-9.42 11.6,-2.77 11.81,-2.38 12.03,8.19 12.25,7.15 12.46,4.54 12.68,6.36 12.9,10.41 13.12,-0.03 13.33,11.06 13.55,-5.64 13.77,9.49 13.98,4.54 14.2,-1.46 14.42,1.93 14.63,-4.46 14.85,-12.29 15.07,5.84 15.28,5.84 15.5,1.67 15.72,1.41 15.93,0.62 16.15,2.45 16.37,-0.94 16.58,13.41 16.8,5.19 17.02,3.88 17.23,2.58 17.45,0.75 17.67,2.19 17.88,7.93 18.1,4.41 18.32,10.41 18.53,14.06 18.75,4.28 18.97,3.49 19.19,25.93 19.4,27.5 19.62,25.67 19.84,23.32 \" class=\"primitive\"/>\n",
       "            </g>\n",
       "          </g>\n",
       "        </g>\n",
       "        <g stroke-width=\"0.3\" fill=\"#000000\" fill-opacity=\"0.000\" class=\"geometry\" id=\"img-189c7e72-26\">\n",
       "          <g class=\"color_RGB{N0f8}(0.0,1.0,1.0)\" stroke-dasharray=\"none\" stroke=\"#00FFFF\" id=\"img-189c7e72-27\">\n",
       "            <g transform=\"translate(143.42,96.4)\" id=\"img-189c7e72-28\">\n",
       "              <path fill=\"none\" d=\"M-59.51,26.3 L-59.29,-35.01 -59.07,17.69 -58.86,12.74 -58.64,24.61 -58.42,23.69 -58.21,25.91 -57.99,6.34 -57.77,16.78 -57.56,12.21 -57.34,3.74 -57.12,-18.31 -56.91,-5.14 -56.69,14.04 -56.47,-23.01 -56.25,18.61 -56.04,17.3 -55.82,21.35 -55.6,11.56 -55.39,4.39 -55.17,19.91 -54.95,7.52 -54.74,-12.44 -54.52,13.52 -54.3,22.65 -54.09,8.43 -53.87,-21.05 -53.65,-16.61 -53.44,7.26 -53.22,18.21 -53,10.26 -52.79,-12.05 -52.57,-21.57 -52.35,-31.35 -52.14,-3.96 -51.92,7.13 -51.7,-10.09 -51.49,-34.22 -51.27,-45.18 -51.05,-38.27 -50.84,0.21 -50.62,-70.1 -50.4,-11.4 -50.18,7.26 -49.97,-3.96 -49.75,3.47 -49.53,-45.44 -49.32,-23.66 -49.1,-1.48 -48.88,13.91 -48.67,41.04 -48.45,-22.09 -48.23,-43.62 -48.02,13.13 -47.8,14.3 -47.58,4.91 -47.37,-0.31 -47.15,-67.23 -46.93,-68.79 -46.72,-53.66 -46.5,-41.53 -46.28,-18.96 -46.07,-17.66 -45.85,-39.57 -45.63,-63.18 -45.42,-69.31 -45.2,-26.79 -44.98,-70.88 -44.77,-74.14 -44.55,-11.92 -44.33,-16.88 -44.11,-88.49 -43.9,-64.23 -43.68,-32.92 -43.46,-9.96 -43.25,-9.31 -43.03,-45.05 -42.81,-45.31 -42.6,-16.88 -42.38,5.3 -42.16,-21.83 -41.95,-17.79 -41.73,-33.18 -41.51,-21.44 -41.3,-51.57 -41.08,-80.79 -40.86,-72.71 -40.65,-28.09 -40.43,-24.7 -40.21,-56.14 -40,-18.7 -39.78,-27.57 -39.56,-50.01 -39.35,-34.22 -39.13,-34.62 -38.91,-34.09 -38.7,-39.7 -38.48,-51.97 -38.26,-47.92 -38.05,-24.7 -37.83,-11.79 -37.61,-58.36 -37.39,-19.35 -37.18,-32.4 -36.96,1.13 -36.74,15.48 -36.53,-29.92 -36.31,-28.88 -36.09,-11.27 -35.88,20.69 -35.66,11.17 -35.44,17.43 -35.23,-9.05 -35.01,-37.49 -34.79,-1.09 -34.58,4.78 -34.36,-1.87 -34.14,23.04 -33.93,6.34 -33.71,-30.18 -33.49,12.74 -33.28,-13.88 -33.06,15.87 -32.84,-33.18 -32.63,-55.75 -32.41,-43.49 -32.19,-38.92 -31.98,-43.75 -31.76,-25.88 -31.54,-17.14 -31.32,-0.83 -31.11,-17.79 -30.89,-38.92 -30.67,-12.05 -30.46,-38.14 -30.24,-31.88 -30.02,-7.61 -29.81,-14.79 -29.59,21.21 -29.37,23.95 -29.16,23.95 -28.94,13.78 -28.72,16.91 -28.51,18.48 -28.29,17.56 -28.07,13.78 -27.86,22.13 -27.64,17.43 -27.42,12.21 -27.21,23.56 -26.99,24.08 -26.77,22.26 -26.56,25.39 -26.34,5.56 -26.12,-9.83 -25.91,-36.44 -25.69,5.82 -25.47,20.04 -25.25,12.08 -25.04,4.52 -24.82,5.3 -24.6,26.3 -24.39,19.91 -24.17,20.82 -23.95,16.52 -23.74,24.21 -23.52,19.78 -23.3,5.17 -23.09,-8.01 -22.87,11.82 -22.65,-9.18 -22.44,18.48 -22.22,19.39 -22,21.61 -21.79,18.87 -21.57,24.08 -21.35,12.61 -21.14,25.78 -20.92,17.43 -20.7,20.82 -20.49,29.56 -20.27,14.17 -20.05,7.65 -19.84,22.39 -19.62,18.21 -19.4,28 -19.19,20.56 -18.97,21.74 -18.75,24.48 -18.53,24.21 -18.32,20.17 -18.1,3.74 -17.88,6.6 -17.67,10.39 -17.45,-10.22 -17.23,9.74 -17.02,24.48 -16.8,13.39 -16.58,15.61 -16.37,16.52 -16.15,16.65 -15.93,13.52 -15.72,19.13 -15.5,19.39 -15.28,20.43 -15.07,21.08 -14.85,23.95 -14.63,23.17 -14.42,19.26 -14.2,26.17 -13.98,12.47 -13.77,13.78 -13.55,-4.74 -13.33,24.08 -13.12,26.82 -12.9,25.91 -12.68,22.26 -12.46,23.3 -12.25,28.78 -12.03,26.17 -11.81,24.35 -11.6,9.08 -11.38,23.69 -11.16,23.04 -10.95,14.69 -10.73,23.82 -10.51,21.87 -10.3,24.74 -10.08,41.04 -9.86,22.39 -9.65,21.61 -9.43,17.04 -9.21,22.39 -9,24.61 -8.78,20.95 -8.56,26.69 -8.35,13.78 -8.13,-23.27 -7.91,-4.61 -7.7,-8.53 -7.48,-0.57 -7.26,19.13 -7.05,9.21 -6.83,1.52 -6.61,10 -6.4,14.3 -6.18,20.3 -5.96,11.82 -5.74,25.26 -5.53,11.17 -5.31,20.43 -5.09,26.04 -4.88,23.56 -4.66,17.69 -4.44,11.17 -4.23,2.95 -4.01,23.95 -3.79,12.87 -3.58,5.17 -3.36,7.52 -3.14,-17.14 -2.93,11.82 -2.71,24.61 -2.49,8.69 -2.28,11.95 -2.06,24.48 -1.84,1.52 -1.63,-18.96 -1.41,3.74 -1.19,-3.96 -0.98,25 -0.76,8.95 -0.54,19.52 -0.33,14.43 -0.11,-40.23 0.11,-11.66 0.33,5.95 0.54,15.87 0.76,22 0.98,8.43 1.19,24.08 1.41,17.56 1.63,10.78 1.84,18.34 2.06,4.13 2.28,-16.09 2.49,-8.53 2.71,12.61 2.93,20.04 3.14,21.48 3.36,20.43 3.58,20.95 3.79,25.39 4.01,16.39 4.23,15.34 4.44,29.3 4.66,23.3 4.88,23.04 5.09,20.69 5.31,21.87 5.53,20.17 5.74,20.43 5.96,16.13 6.18,22.91 6.4,24.35 6.61,21.21 6.83,23.95 7.05,19.78 7.26,4.91 7.48,5.95 7.7,12.47 7.91,21.21 8.13,17.04 8.35,11.43 8.56,1.65 8.78,-35.14 9,-55.1 9.21,-24.7 9.43,13.91 9.65,14.43 9.86,21.08 10.08,26.17 10.3,20.95 10.51,-3.05 10.73,17.56 10.95,14.17 11.16,14.95 11.38,-8.14 11.6,28.52 11.81,22.65 12.03,23.43 12.25,25.91 12.46,26.95 12.68,26.43 12.9,25 13.12,26.95 13.33,16.52 13.55,25.13 13.77,26.17 13.98,23.82 14.2,24.48 14.42,23.04 14.63,29.17 14.85,15.61 15.07,26.43 15.28,17.3 15.5,17.04 15.72,21.61 15.93,19.26 16.15,26.3 16.37,18.74 16.58,15.34 16.8,21.08 17.02,17.17 17.23,18.74 17.45,17.95 17.67,20.82 17.88,8.56 18.1,11.43 18.32,14.3 18.53,19.65 18.75,17.3 18.97,19.65 19.19,16.26 19.4,25.78 19.62,19.26 19.84,19.91 20.05,14.95 20.27,20.56 20.49,23.43 20.7,23.04 20.92,17.95 21.14,20.43 21.35,-4.61 21.57,18.87 21.79,18.08 22,9.47 22.22,25.26 22.44,-35.01 22.65,-26.4 22.87,9.61 23.09,-30.7 23.3,-8.53 23.52,11.17 23.74,-42.44 23.95,-16.48 24.17,-18.96 24.39,-2.14 24.6,-8.01 24.82,24.87 25.04,23.04 25.25,-11.92 25.47,-23.4 25.69,-55.23 25.91,23.82 26.12,19 26.34,22.13 26.56,22.13 26.77,17.56 26.99,15.61 27.21,7.39 27.42,21.08 27.64,10.13 27.86,-7.87 28.07,-11.79 28.29,-37.88 28.51,-31.88 28.72,-20.92 28.94,-24.31 29.16,-29.14 29.37,-40.36 29.59,-74.27 29.81,-31.35 30.02,-38.79 30.24,-28.09 30.46,6.6 30.67,-16.09 30.89,2.43 31.11,11.43 31.32,-43.75 31.54,-49.1 31.76,0.34 31.98,5.17 32.19,-2.53 32.41,-7.61 32.63,-16.61 32.84,-52.75 33.06,-41.92 33.28,-48.57 33.49,-48.18 33.71,-31.49 33.93,-53.79 34.14,21.35 34.36,30.08 34.58,-32.4 34.79,-31.09 35.01,-18.44 35.23,12.47 35.44,-6.96 35.66,12.47 35.88,14.43 36.09,-5.4 36.31,-18.05 36.53,-4.09 36.74,-5.14 36.96,-12.83 37.18,-20.66 37.39,19.78 37.61,-75.31 37.83,10.78 38.05,16 38.26,14.95 38.48,11.95 38.7,15.48 38.91,-21.83 39.13,-65.66 39.35,-24.31 39.56,3.74 39.78,-17.01 40,-8.27 40.21,-26.01 40.43,5.95 40.65,-55.49 40.86,16.52 41.08,7 41.3,-19.09 41.51,-14.66 41.73,11.82 41.95,6.74 42.16,7 42.38,11.04 42.6,19.91 42.81,20.04 43.03,19.78 43.25,21.35 43.46,28.13 43.68,12.87 43.9,-5 44.11,-25.75 44.33,3.34 44.55,-10.48 44.77,-9.31 44.98,8.95 45.2,-9.18 45.42,3.87 45.63,-32.66 45.85,-26.14 46.07,-41.92 46.28,-27.83 46.5,-50.92 46.72,-6.83 46.93,-26.01 47.15,7.91 47.37,-29.53 47.58,-35.27 47.8,7 48.02,-24.18 48.23,-15.05 48.45,-46.36 48.67,-7.61 48.88,16.39 49.1,-13.88 49.32,17.82 49.53,-12.05 49.75,14.04 49.97,11.82 50.18,15.87 50.4,25 50.62,13.91 50.84,-9.57 51.05,-34.75 51.27,-10.87 51.49,-32.01 51.7,6.87 51.92,-12.57 52.14,19.26 52.35,-12.96 52.57,-18.83 52.79,-28.75 53,-53.01 53.22,13.78 53.44,-23.66 53.65,20.04 53.87,17.69 54.09,20.69 54.3,9.21 54.52,18.34 54.74,11.17 54.95,12.87 55.17,3.74 55.39,7.39 55.6,12.08 55.82,7 56.04,13.78 56.25,-3.57 56.47,17.82 56.69,-0.96 56.91,-26.01 57.12,5.82 57.34,2.3 57.56,10.39 57.77,-25.62 57.99,-33.57 58.21,1.26 58.42,14.56 58.64,4.52 58.86,8.82 59.07,12.61 59.29,9.21 59.51,7.39 \" class=\"primitive\"/>\n",
       "            </g>\n",
       "          </g>\n",
       "        </g>\n",
       "      </g>\n",
       "    </g>\n",
       "  </g>\n",
       "  <g class=\"guide ylabels\" font-size=\"2.82\" font-family=\"'PT Sans Caption','Helvetica Neue','Helvetica',sans-serif\" fill=\"#6C606B\" id=\"img-189c7e72-29\">\n",
       "    <g transform=\"translate(16.96,137.45)\" id=\"img-189c7e72-30\">\n",
       "      <g class=\"primitive\">\n",
       "        <text text-anchor=\"end\" dy=\"0.35em\">0</text>\n",
       "      </g>\n",
       "    </g>\n",
       "    <g transform=\"translate(16.96,104.83)\" id=\"img-189c7e72-31\">\n",
       "      <g class=\"primitive\">\n",
       "        <text text-anchor=\"end\" dy=\"0.35em\">10</text>\n",
       "      </g>\n",
       "    </g>\n",
       "    <g transform=\"translate(16.96,72.22)\" id=\"img-189c7e72-32\">\n",
       "      <g class=\"primitive\">\n",
       "        <text text-anchor=\"end\" dy=\"0.35em\">20</text>\n",
       "      </g>\n",
       "    </g>\n",
       "    <g transform=\"translate(16.96,39.61)\" id=\"img-189c7e72-33\">\n",
       "      <g class=\"primitive\">\n",
       "        <text text-anchor=\"end\" dy=\"0.35em\">30</text>\n",
       "      </g>\n",
       "    </g>\n",
       "    <g transform=\"translate(16.96,7)\" id=\"img-189c7e72-34\">\n",
       "      <g class=\"primitive\">\n",
       "        <text text-anchor=\"end\" dy=\"0.35em\">40</text>\n",
       "      </g>\n",
       "    </g>\n",
       "  </g>\n",
       "  <g font-size=\"3.88\" font-family=\"'PT Sans','Helvetica Neue','Helvetica',sans-serif\" fill=\"#564A55\" stroke=\"#000000\" stroke-opacity=\"0.000\" id=\"img-189c7e72-35\">\n",
       "    <g transform=\"translate(8.81,70.22)\" id=\"img-189c7e72-36\">\n",
       "      <g class=\"primitive\">\n",
       "        <text text-anchor=\"middle\" dy=\"0.35em\" transform=\"rotate(-90,0, 2)\">USAGE_sum</text>\n",
       "      </g>\n",
       "    </g>\n",
       "  </g>\n",
       "</g>\n",
       "<defs>\n",
       "  <clipPath id=\"img-189c7e72-4\">\n",
       "    <path d=\"M17.96,5 L259.55,5 259.55,139.45 17.96,139.45 \" />\n",
       "  </clipPath>\n",
       "</defs>\n",
       "</svg>\n",
       "\n",
       "</html>\n"
      ],
      "text/plain": [
       "SVG(264.5502645502646mm, 158.73015873015876mm, IOBuffer(data=UInt8[...], readable=true, writable=true, seekable=true, append=false, size=17738, maxsize=Inf, ptr=17739, mark=-1), nothing, \"img-189c7e72\", 0, Compose.SVGPropertyFrame[], Dict{Type, Union{Nothing, Compose.Property}}(Compose.Property{Compose.LineWidthPrimitive} => nothing, Compose.Property{Compose.JSIncludePrimitive} => nothing, Compose.Property{Compose.FontSizePrimitive} => nothing, Compose.Property{Compose.FontPrimitive} => nothing, Compose.Property{Compose.FillPrimitive} => nothing, Compose.Property{Compose.SVGClassPrimitive} => nothing, Compose.Property{Compose.SVGAttributePrimitive} => nothing, Compose.Property{Compose.StrokePrimitive} => nothing, Compose.Property{Compose.JSCallPrimitive} => nothing, Compose.Property{Compose.StrokeDashPrimitive} => nothing…), OrderedCollections.OrderedDict{Compose.ClipPrimitive, String}(Compose.ClipPrimitive{Tuple{Measures.AbsoluteLength, Measures.AbsoluteLength}}(Tuple{Measures.AbsoluteLength, Measures.AbsoluteLength}[(17.958333333333343mm, 5.0mm), (259.5502645502646mm, 5.0mm), (259.5502645502646mm, 139.44515873015877mm), (17.958333333333343mm, 139.44515873015877mm)]) => \"img-189c7e72-4\"), Tuple{Compose.FormPrimitive, String}[], Set{AbstractString}(), true, false, nothing, true, \"img-189c7e72-36\", false, 36, Set(AbstractString[\"C:\\\\Users\\\\gabriel\\\\.julia\\\\packages\\\\Gadfly\\\\B5yQc\\\\src\\\\gadfly.js\"]), Set(Tuple{AbstractString, AbstractString}[(\"Snap.svg\", \"Snap\"), (\"Gadfly\", \"Gadfly\")]), AbstractString[\"fig.select(\\\"#img-189c7e72-5\\\")\\n   .init_gadfly();\"], false, :none, (Measures.BoundingBox{Tuple{Measures.AbsoluteLength, Measures.AbsoluteLength}, Tuple{Measures.AbsoluteLength, Measures.AbsoluteLength}}((17.958333333333343mm, 5.0mm), (241.59193121693127mm, 134.44515873015877mm)), Compose.UnitBox{DateTime, Float64, Millisecond, Float64}(DateTime(\"2015-12-22T18:34:42.021\"), 40.61328454638542, Millisecond(96288635958), -41.226569092770845, 0.0mm, 0.0mm, 0.0mm, 0.0mm), Compose.IdentityTransform()))"
      ]
     },
     "metadata": {},
     "output_type": "display_data"
    }
   ],
   "source": [
    "rnn_predictions = map(only, rnn_model.(df_test[:, :DATE]))\n",
    "rnn_plot = plot_compare(df_test[:, :DATE], rnn_predictions)\n",
    "draw(SVG(1000px, 600px), rnn_plot)"
   ]
  },
  {
   "attachments": {},
   "cell_type": "markdown",
   "metadata": {},
   "source": [
    "### Translation equivariance"
   ]
  },
  {
   "attachments": {},
   "cell_type": "markdown",
   "metadata": {},
   "source": [
    "$$\n",
    "\\mathbf{z}'^{(t)} = \\mathbf{z}^{(t+1)}\n",
    "$$\n",
    "$$\n",
    "\\mathbf{h}'^{(t)} \\neq \\mathbf{h}^{(t+1)}\n",
    "$$"
   ]
  },
  {
   "attachments": {},
   "cell_type": "markdown",
   "metadata": {},
   "source": [
    "$$\n",
    "\\mathbf{h}'^{(1)} = R(\\mathbf{z}'^{(1)}, \\mathbf{h}^{(0)}) = R(\\mathbf{z}^{(2)}, \\mathbf{h}^{(0)})\n",
    "$$\n",
    "$$\n",
    "\\mathbf{h}^{(2)} = R(\\mathbf{z}^{(2)}, \\mathbf{h}^{(1)}) = R(\\mathbf{z}^{(2)}, R(\\mathbf{z}^{(1)}, \\mathbf{h}^{(0)}))\n",
    "$$"
   ]
  },
  {
   "attachments": {},
   "cell_type": "markdown",
   "metadata": {},
   "source": [
    "$$\n",
    "\\overline{\\mathbf{z}}^{(t)} =\n",
    "\\begin{cases}\n",
    "\\mathbf{0}            & \\quad t \\leq t' \\\\\n",
    "\\mathbf{z}^{(t - t')} & \\quad t > t'\n",
    "\\end{cases}\n",
    "$$"
   ]
  },
  {
   "attachments": {},
   "cell_type": "markdown",
   "metadata": {},
   "source": [
    "$$\n",
    "\\overline{\\mathbf{z}}'^{(t)} = \\overline{\\mathbf{z}}^{(t+1)}\n",
    "$$"
   ]
  },
  {
   "attachments": {},
   "cell_type": "markdown",
   "metadata": {},
   "source": [
    "$$\n",
    "\\mathbf{h}'^{(1)} = R(\\overline{\\mathbf{z}}'^{(1)}, \\mathbf{h}^{(0)}) = R(\\overline{\\mathbf{z}}^{(2)}, \\mathbf{h}^{(0)})\n",
    "$$\n",
    "$$\n",
    "\\mathbf{h}^{(2)} = R(\\overline{\\mathbf{z}}^{(2)}, \\mathbf{h}^{(1)}) = R(\\overline{\\mathbf{z}}^{(2)}, R(\\overline{\\mathbf{z}}^{(1)}, \\mathbf{h}^{(0)})) = R(\\overline{\\mathbf{z}}^{(2)}, R(\\mathbf{0}, \\mathbf{h}^{(0)}))\n",
    "$$"
   ]
  },
  {
   "attachments": {},
   "cell_type": "markdown",
   "metadata": {},
   "source": [
    "$$\n",
    "\\mathbf{h}^{(0)} = R(\\mathbf{0}, \\mathbf{h}^{(0)}) \\implies \\mathbf{h}'^{(t)} = \\mathbf{h}^{(t+1)}\n",
    "$$"
   ]
  },
  {
   "attachments": {},
   "cell_type": "markdown",
   "metadata": {},
   "source": [
    "## Long Short-Term Memory"
   ]
  },
  {
   "attachments": {},
   "cell_type": "markdown",
   "metadata": {},
   "source": [
    "![LSTM](LSTM1.png)"
   ]
  },
  {
   "attachments": {},
   "cell_type": "markdown",
   "metadata": {},
   "source": [
    "```julia\n",
    "c = F(z, c)\n",
    "```"
   ]
  },
  {
   "attachments": {},
   "cell_type": "markdown",
   "metadata": {},
   "source": [
    "```julia\n",
    "c = z & f(z, c) | c & g(z, c)\n",
    "```"
   ]
  },
  {
   "attachments": {},
   "cell_type": "markdown",
   "metadata": {},
   "source": [
    "$c' = z \\odot mask_1 \\oplus c \\odot mask_2$"
   ]
  },
  {
   "attachments": {},
   "cell_type": "markdown",
   "metadata": {},
   "source": [
    "$$\n",
    "\\mathbf{c}^{(t)} = \\mathbf{i}^{(t)} \\odot \\widetilde{\\mathbf{c}}^{(t)} + \\mathbf{f}^{(t)} \\odot \\mathbf{c}^{(t-1)}\n",
    "$$\n",
    "$$\n",
    "\\mathbf{h}^{(t)} = \\mathbf{o}^{(t)} \\odot \\mathrm{tanh}(\\mathbf{c}^{(t)})\n",
    "$$"
   ]
  },
  {
   "attachments": {},
   "cell_type": "markdown",
   "metadata": {},
   "source": [
    "$$\n",
    "\\widetilde{\\mathbf{c}}^{(t)} = \\mathrm{tanh}(\\mathbf{W}_c \\mathbf{z}^{(t)} + \\mathbf{U}_c \\mathbf{h}^{(t-1)} + \\mathbf{b}_c)\n",
    "$$"
   ]
  },
  {
   "attachments": {},
   "cell_type": "markdown",
   "metadata": {},
   "source": [
    "$$\n",
    "\\mathbf{i}^{(t)} = \\mathrm{\\sigma}(\\mathbf{W}_i \\mathbf{z}^{(t)} + \\mathbf{U}_i \\mathbf{h}^{(t-1)} + \\mathbf{b}_i)\n",
    "$$\n",
    "$$\n",
    "\\mathbf{f}^{(t)} = \\mathrm{\\sigma}(\\mathbf{W}_f \\mathbf{z}^{(t)} + \\mathbf{U}_f \\mathbf{h}^{(t-1)} + \\mathbf{b}_f)\n",
    "$$\n",
    "$$\n",
    "\\mathbf{o}^{(t)} = \\mathrm{\\sigma}(\\mathbf{W}_o \\mathbf{z}^{(t)} + \\mathbf{U}_o \\mathbf{h}^{(t-1)} + \\mathbf{b}_o)\n",
    "$$"
   ]
  },
  {
   "attachments": {},
   "cell_type": "markdown",
   "metadata": {},
   "source": [
    "$$\n",
    "(\\mathbf{h}^{(t)}, \\mathbf{c}^{(t)}) = R(\\mathbf{z}^{(t)}, (\\mathbf{h}^{(t-1)}, \\mathbf{c}^{(t-1)}))\n",
    "$$"
   ]
  },
  {
   "attachments": {},
   "cell_type": "markdown",
   "metadata": {},
   "source": [
    "### Implementation"
   ]
  },
  {
   "cell_type": "code",
   "execution_count": 28,
   "metadata": {},
   "outputs": [],
   "source": [
    "struct GLSTM\n",
    "  Wc::Matrix{Float64}; Wi::Matrix{Float64}; Wf::Matrix{Float64}; Wo::Matrix{Float64}\n",
    "  Uc::Matrix{Float64}; Ui::Matrix{Float64}; Uf::Matrix{Float64}; Uo::Matrix{Float64}\n",
    "  bc::Vector{Float64}; bi::Vector{Float64}; bf::Vector{Float64}; bo::Vector{Float64}\n",
    "end\n",
    "Flux.@functor GLSTM"
   ]
  },
  {
   "cell_type": "code",
   "execution_count": 29,
   "metadata": {},
   "outputs": [
    {
     "data": {
      "text/plain": [
       "GLSTM"
      ]
     },
     "metadata": {},
     "output_type": "display_data"
    }
   ],
   "source": [
    "GLSTM(k::Int, m::Int) = GLSTM(\n",
    "  rand(m, k), rand(m, k), rand(m, k), rand(m, k),\n",
    "  rand(m, m), rand(m, m), rand(m, m), rand(m, m),\n",
    "  rand(m), rand(m), rand(m), rand(m)\n",
    ")"
   ]
  },
  {
   "cell_type": "code",
   "execution_count": 42,
   "metadata": {},
   "outputs": [],
   "source": [
    "function (m::GLSTM)(h::Vector{Float64}, z::Vector{Float64})\n",
    "  h0, c0 = h[1:H_SIZE], h[H_SIZE+1:end]\n",
    "  i = σ.(m.Wi*z .+ m.Ui*h0 .+ m.bi)\n",
    "  f = σ.(m.Wf*z .+ m.Uf*h0 .+ m.bf)\n",
    "  o = σ.(m.Wo*z .+ m.Uo*h0 .+ m.bo)\n",
    "  cbar = tanh.(m.Wc*z .+ m.Uc*h0 .+ m.bc)\n",
    "  c1 = i .* cbar .+ f .* c0\n",
    "  ht = o .* tanh.(c1)\n",
    "  h1 = vcat(ht, c1)\n",
    "  h1, ht\n",
    "end"
   ]
  },
  {
   "cell_type": "code",
   "execution_count": 43,
   "metadata": {},
   "outputs": [
    {
     "data": {
      "text/plain": [
       "([0.9622243813115253, 0.8234825446782171, 0.9247520391509277, 0.948091504890561, 0.7935693773068695, 0.9482852645357507, 0.9577925088852242, 0.9614443047934843, 0.8501534443224693, 0.8216002303214393  …  1.8124390044813652, 1.186274731375713, 1.568719649392544, 1.0753503095759758, 1.873877115991734, 1.5397661673026033, 1.9304473326893312, 1.146997901738708, 1.7711351995750708, 1.4131217043447437], [0.9622243813115253, 0.8234825446782171, 0.9247520391509277, 0.948091504890561, 0.7935693773068695, 0.9482852645357507, 0.9577925088852242, 0.9614443047934843, 0.8501534443224693, 0.8216002303214393, 0.9476339050210756, 0.8283530127937306, 0.9166978639997155, 0.7908603617924747, 0.9537008855608197, 0.907879144897726, 0.9571662412792009, 0.8160975907525885, 0.9411841965008483, 0.887404311938587])"
      ]
     },
     "metadata": {},
     "output_type": "display_data"
    }
   ],
   "source": [
    "glstm = GLSTM(3, H_SIZE)\n",
    "glstm(rand(2H_SIZE), rand(3))"
   ]
  },
  {
   "cell_type": "code",
   "execution_count": 44,
   "metadata": {},
   "outputs": [
    {
     "data": {
      "text/plain": [
       "Chain(\n",
       "  expand_date,\n",
       "  Recur(\n",
       "    GLSTM([0.5658273743043433 0.6290786571175425 0.8395654185839726; 0.9058878160531172 0.8813516650804137 0.05221831375842323; … ; 0.5125442252271224 0.7679899051722631 0.8085934031788121; 0.5799889373167262 0.9364288100198959 0.3104057645624637], [0.4930403601887139 0.5008391113470426 0.9685843525917152; 0.8351222004664325 0.984728034205304 0.5657681947189326; … ; 0.22335031252241433 0.8463886763163987 0.8266830259233121; 0.7579445424349137 0.3422103359812442 0.6154811121378249], [0.049019271911933004 0.89602408837132 0.405723831085385; 0.4626102132171729 0.4139459234434888 0.4259128660328405; … ; 0.1482646145141171 0.708198772101889 0.4267458010045653; 0.8108210508194105 0.5582092443247331 0.17207380728139865], [0.06163649866338872 0.898644952916484 0.9077976480789969; 0.29104853797592656 0.23044408240708147 0.7332413751393194; … ; 0.737307611297174 0.6152505157900381 0.8040074270337034; 0.8011634799486035 0.016483882534042982 0.7498411926264427], [0.2000818686529361 0.40591292470617313 … 0.8239338659531353 0.8629020022082938; 0.23851066991228098 0.10913782508088854 … 0.031309645928598306 0.4923691123371554; … ; 0.9210362750713958 0.24116441047829928 … 0.24417576531745422 0.07013211045029588; 0.6440382922592507 0.14859373058291936 … 0.9059620229721591 0.920588663490093], [0.44539066877087397 0.15033747736276815 … 0.13093060318917815 0.7434624520593035; 0.8808176113541695 0.416309036483569 … 0.8766469544874755 0.7992358111541279; … ; 0.2989442377567124 0.9506384155079448 … 0.9878727255377959 0.860383230018625; 0.04306846100534667 0.8752702946885066 … 0.8042256601216042 0.7622001076455601], [0.37419137568795036 0.3815950460600216 … 0.7612475104087288 0.43867504816505776; 0.023835795175338292 0.8464466489294201 … 0.9610671500513979 0.6096493850846896; … ; 0.5911531326516907 0.589487464014707 … 0.8847095979035978 0.19736089709951132; 0.2727084872324663 0.7529503772723368 … 0.8903251452172866 0.3965170519267702], [0.48664883783118373 0.24611647798909442 … 0.3167338919103392 0.36173120869272857; 0.1813205762595067 0.5336519870815748 … 0.8494860959568604 0.16917012128364683; … ; 0.04202854630472108 0.37213050688613836 … 0.870933487834515 0.46569859292346993; 0.8296951709358638 0.8877851639928459 … 0.24305270091369413 0.6643420674839609], [0.35930591087243224, 0.06651822410281916, 0.9434337719888541, 0.5782000066168589, 0.44959610417988627, 0.23695904100755283, 0.7931166565096197, 0.3892908799492303, 0.470643112259192, 0.6996272631310512, 0.23561481084410107, 0.9162723676208387, 0.10823951144939081, 0.6381978905115139, 0.43169787338906673, 0.3707075304406868, 0.6611957550515185, 0.1641920547823944, 0.41458085800612055, 0.2125719220561867], [0.30798831751701117, 0.7806976255228719, 0.7932304223695176, 0.379405317144377, 0.5241696960057566, 0.3196243354785916, 0.017058107283303814, 0.5219307944944885, 0.03814345630459359, 0.1905007357505062, 0.8028205538217555, 0.5244162380830141, 0.11861367467800832, 0.8863089529265772, 0.21644047637677255, 0.7510809538487088, 0.687068344124674, 0.2614461489731559, 0.6177101300762917, 0.06632409755188495], [0.9244015801547409, 0.6716458150228882, 0.9621205104129749, 0.5374514664377801, 0.6063889917441323, 0.5022830543410338, 0.07718663251231983, 0.4235977721092351, 0.949513517718649, 0.4734758905487071, 0.5527085790305531, 0.17860637746716257, 0.2500256735928631, 0.6124010853891719, 0.5414097836107226, 0.21956550329008062, 0.2823581718942306, 0.2590634059283037, 0.9974160350339062, 0.5562124378469234], [0.49578400373911324, 0.6406276748370356, 0.32981817417568926, 0.5589958945472258, 0.6012135356241122, 0.9882258391988475, 0.12650457041942975, 0.01813875517650132, 0.6795042866551533, 0.323522473482313, 0.14108397013533702, 0.01243495670126582, 0.8397252815474145, 0.5814506394677035, 0.08595471196412696, 0.29292263790645656, 0.5976054460906821, 0.7051549771198434, 0.229348763631819, 0.00396527479062081]),  \u001b[90m# 1_920 parameters\u001b[39m\n",
       "  ),\n",
       "  Dense(20 => 1),                       \u001b[90m# 21 parameters\u001b[39m\n",
       ") \u001b[90m        # Total: 14 trainable arrays, \u001b[39m1_941 parameters,\n",
       "\u001b[90m          # plus 1 non-trainable, 40 parameters, summarysize \u001b[39m16.238 KiB."
      ]
     },
     "metadata": {},
     "output_type": "display_data"
    }
   ],
   "source": [
    "lstm_model = Chain(\n",
    "  expand_date,\n",
    "  Flux.Recur(glstm, zeros(2H_SIZE)),\n",
    "  Dense(H_SIZE => 1)\n",
    ")"
   ]
  },
  {
   "cell_type": "code",
   "execution_count": 45,
   "metadata": {},
   "outputs": [
    {
     "data": {
      "text/plain": [
       "104.70070564430208"
      ]
     },
     "metadata": {},
     "output_type": "display_data"
    }
   ],
   "source": [
    "loss(lstm_model, df_test[1, :])"
   ]
  },
  {
   "cell_type": "code",
   "execution_count": 46,
   "metadata": {},
   "outputs": [
    {
     "data": {
      "text/plain": [
       "21959.081145011325"
      ]
     },
     "metadata": {},
     "output_type": "display_data"
    }
   ],
   "source": [
    "sum([loss(lstm_model, row) for row in eachrow(df_test)])"
   ]
  },
  {
   "cell_type": "code",
   "execution_count": 47,
   "metadata": {},
   "outputs": [],
   "source": [
    "#Flux.reset!(lstm_model)\n",
    "train_model!(lstm_model)"
   ]
  },
  {
   "cell_type": "code",
   "execution_count": 48,
   "metadata": {},
   "outputs": [
    {
     "data": {
      "text/plain": [
       "3.0284710450020933"
      ]
     },
     "metadata": {},
     "output_type": "display_data"
    }
   ],
   "source": [
    "loss(lstm_model, df_test[1, :])"
   ]
  },
  {
   "cell_type": "code",
   "execution_count": 49,
   "metadata": {},
   "outputs": [
    {
     "data": {
      "text/plain": [
       "4439.998349929588"
      ]
     },
     "metadata": {},
     "output_type": "display_data"
    }
   ],
   "source": [
    "sum([loss(lstm_model, row) for row in eachrow(df_test)])"
   ]
  },
  {
   "cell_type": "code",
   "execution_count": 50,
   "metadata": {},
   "outputs": [
    {
     "data": {
      "image/svg+xml": [
       "<?xml version=\"1.0\" encoding=\"UTF-8\"?>\n",
       "<svg xmlns=\"http://www.w3.org/2000/svg\"\n",
       "     xmlns:xlink=\"http://www.w3.org/1999/xlink\"\n",
       "     xmlns:gadfly=\"http://www.gadflyjl.org/ns\"\n",
       "     version=\"1.2\"\n",
       "     width=\"264.55mm\" height=\"158.73mm\" viewBox=\"0 0 264.55 158.73\"\n",
       "     stroke=\"none\"\n",
       "     fill=\"#000000\"\n",
       "     stroke-width=\"0.3\"\n",
       "     font-size=\"3.88\"\n",
       ">\n",
       "<defs>\n",
       "  <marker id=\"arrow\" markerWidth=\"15\" markerHeight=\"7\" refX=\"5\" refY=\"3.5\" orient=\"auto\" markerUnits=\"strokeWidth\">\n",
       "    <path d=\"M0,0 L15,3.5 L0,7 z\" stroke=\"context-stroke\" fill=\"context-stroke\"/>\n",
       "  </marker>\n",
       "</defs>\n",
       "<g class=\"plotroot xscalable yscalable\" id=\"img-f96eb356-1\">\n",
       "  <g font-size=\"3.88\" font-family=\"'PT Sans','Helvetica Neue','Helvetica',sans-serif\" fill=\"#564A55\" stroke=\"#000000\" stroke-opacity=\"0.000\" id=\"img-f96eb356-2\">\n",
       "    <g transform=\"translate(138.75,147.12)\">\n",
       "      <g class=\"primitive\">\n",
       "        <text text-anchor=\"middle\" dy=\"0.6em\">DATE</text>\n",
       "      </g>\n",
       "    </g>\n",
       "  </g>\n",
       "  <g class=\"guide xlabels\" font-size=\"2.82\" font-family=\"'PT Sans Caption','Helvetica Neue','Helvetica',sans-serif\" fill=\"#6C606B\" id=\"img-f96eb356-3\">\n",
       "    <g transform=\"translate(19.96,140.45)\">\n",
       "      <g class=\"primitive\">\n",
       "        <text text-anchor=\"middle\" dy=\"0.6em\">2016</text>\n",
       "      </g>\n",
       "    </g>\n",
       "    <g transform=\"translate(99.3,140.45)\">\n",
       "      <g class=\"primitive\">\n",
       "        <text text-anchor=\"middle\" dy=\"0.6em\">2017</text>\n",
       "      </g>\n",
       "    </g>\n",
       "    <g transform=\"translate(178.43,140.45)\">\n",
       "      <g class=\"primitive\">\n",
       "        <text text-anchor=\"middle\" dy=\"0.6em\">2018</text>\n",
       "      </g>\n",
       "    </g>\n",
       "    <g transform=\"translate(257.55,140.45)\">\n",
       "      <g class=\"primitive\">\n",
       "        <text text-anchor=\"middle\" dy=\"0.6em\">2019</text>\n",
       "      </g>\n",
       "    </g>\n",
       "  </g>\n",
       "  <g clip-path=\"url(#img-f96eb356-4)\">\n",
       "    <g id=\"img-f96eb356-5\">\n",
       "      <g pointer-events=\"visible\" stroke-width=\"0.3\" fill=\"#000000\" fill-opacity=\"0.000\" stroke=\"#000000\" stroke-opacity=\"0.000\" class=\"guide background\" id=\"img-f96eb356-6\">\n",
       "        <g transform=\"translate(138.75,72.22)\" id=\"img-f96eb356-7\">\n",
       "          <path d=\"M-120.8,-67.22 L120.8,-67.22 120.8,67.22 -120.8,67.22  z\" class=\"primitive\"/>\n",
       "        </g>\n",
       "      </g>\n",
       "      <g class=\"guide ygridlines xfixed\" stroke-dasharray=\"0.5,0.5\" stroke-width=\"0.2\" stroke=\"#D0D0E0\" id=\"img-f96eb356-8\">\n",
       "        <g transform=\"translate(138.75,137.45)\" id=\"img-f96eb356-9\">\n",
       "          <path fill=\"none\" d=\"M-120.8,0 L120.8,0 \" class=\"primitive\"/>\n",
       "        </g>\n",
       "        <g transform=\"translate(138.75,104.83)\" id=\"img-f96eb356-10\">\n",
       "          <path fill=\"none\" d=\"M-120.8,0 L120.8,0 \" class=\"primitive\"/>\n",
       "        </g>\n",
       "        <g transform=\"translate(138.75,72.22)\" id=\"img-f96eb356-11\">\n",
       "          <path fill=\"none\" d=\"M-120.8,0 L120.8,0 \" class=\"primitive\"/>\n",
       "        </g>\n",
       "        <g transform=\"translate(138.75,39.61)\" id=\"img-f96eb356-12\">\n",
       "          <path fill=\"none\" d=\"M-120.8,0 L120.8,0 \" class=\"primitive\"/>\n",
       "        </g>\n",
       "        <g transform=\"translate(138.75,7)\" id=\"img-f96eb356-13\">\n",
       "          <path fill=\"none\" d=\"M-120.8,0 L120.8,0 \" class=\"primitive\"/>\n",
       "        </g>\n",
       "      </g>\n",
       "      <g class=\"guide xgridlines yfixed\" stroke-dasharray=\"0.5,0.5\" stroke-width=\"0.2\" stroke=\"#D0D0E0\" id=\"img-f96eb356-14\">\n",
       "        <g transform=\"translate(19.96,72.22)\" id=\"img-f96eb356-15\">\n",
       "          <path fill=\"none\" d=\"M0,-67.22 L0,67.22 \" class=\"primitive\"/>\n",
       "        </g>\n",
       "        <g transform=\"translate(99.3,72.22)\" id=\"img-f96eb356-16\">\n",
       "          <path fill=\"none\" d=\"M0,-67.22 L0,67.22 \" class=\"primitive\"/>\n",
       "        </g>\n",
       "        <g transform=\"translate(178.43,72.22)\" id=\"img-f96eb356-17\">\n",
       "          <path fill=\"none\" d=\"M0,-67.22 L0,67.22 \" class=\"primitive\"/>\n",
       "        </g>\n",
       "        <g transform=\"translate(257.55,72.22)\" id=\"img-f96eb356-18\">\n",
       "          <path fill=\"none\" d=\"M0,-67.22 L0,67.22 \" class=\"primitive\"/>\n",
       "        </g>\n",
       "      </g>\n",
       "      <g class=\"plotpanel\" id=\"img-f96eb356-19\">\n",
       "        <metadata>\n",
       "          <boundingbox value=\"17.958333333333343mm 5.0mm 241.59193121693127mm 134.44515873015877mm\"/>\n",
       "          <unitbox value=\"2015-12-22T18:34:42.021 40.61328454638542 96288635958 milliseconds -41.226569092770845\"/>\n",
       "        </metadata>\n",
       "        <g stroke-width=\"0.3\" fill=\"#000000\" fill-opacity=\"0.000\" class=\"geometry\" id=\"img-f96eb356-20\">\n",
       "          <g class=\"color_RGB{N0f8}(0.0,0.502,0.0)\" stroke-dasharray=\"none\" stroke=\"#008000\" id=\"img-f96eb356-21\">\n",
       "            <g transform=\"translate(222.76,96.38)\" id=\"img-f96eb356-22\">\n",
       "              <path fill=\"none\" d=\"M-19.84,1.73 L-19.62,1.72 -19.4,1.71 -19.19,1.71 -18.97,1.72 -18.75,1.73 -18.53,1.74 -18.32,1.75 -18.1,1.75 -17.88,1.75 -17.67,1.76 -17.45,1.76 -17.23,1.75 -17.02,1.75 -16.8,1.75 -16.58,1.75 -16.37,1.76 -16.15,1.76 -15.93,1.76 -15.72,1.75 -15.5,1.75 -15.28,1.75 -15.07,1.75 -14.85,1.76 -14.63,1.76 -14.42,1.75 -14.2,1.75 -13.98,1.75 -13.77,1.75 -13.55,1.76 -13.33,1.76 -13.12,1.75 -12.9,1.75 -12.68,1.75 -12.46,1.75 -12.25,1.76 -12.03,1.76 -11.81,1.76 -11.6,1.42 -11.38,1.39 -11.16,1.46 -10.95,1.54 -10.73,1.56 -10.51,1.51 -10.3,1.42 -10.08,1.38 -9.86,1.44 -9.65,1.52 -9.43,1.56 -9.21,1.53 -9,1.45 -8.78,1.38 -8.56,1.42 -8.35,1.5 -8.13,1.56 -7.91,1.54 -7.7,1.47 -7.48,1.39 -7.26,1.4 -7.05,1.48 -6.83,1.55 -6.61,1.55 -6.4,1.5 -6.18,1.41 -5.96,1.39 -5.74,1.45 -5.53,1.53 -5.31,1.56 -5.09,-1.46 -4.88,-1.95 -4.66,-1.8 -4.44,-1.48 -4.23,-1.35 -4.01,-1.56 -3.79,-1.89 -3.58,-2.03 -3.36,-1.89 -3.14,-1.56 -2.93,-1.35 -2.71,-1.48 -2.49,-1.81 -2.28,-2.02 -2.06,-1.95 -1.84,-1.66 -1.63,-1.38 -1.41,-1.41 -1.19,-1.71 -0.98,-1.98 -0.76,-2 -0.54,-1.76 -0.33,-1.44 -0.11,-1.36 0.11,-1.62 0.33,-1.93 0.54,-2.03 0.76,-1.85 0.98,-1.52 1.19,-1.35 1.41,-1.52 1.63,-2.66 1.84,-2.74 2.06,-2.65 2.28,-2.51 2.49,-2.46 2.71,-2.57 2.93,-2.71 3.14,-2.75 3.36,-2.69 3.58,-2.55 3.79,-2.45 4.01,-2.53 4.23,-2.67 4.44,-2.75 4.66,-2.72 4.88,-2.59 5.09,-2.46 5.31,-2.49 5.53,-2.64 5.74,-2.74 5.96,-2.74 6.18,-2.63 6.4,-2.49 6.61,-2.47 6.83,-2.59 7.05,-2.72 7.26,-2.75 7.48,-2.67 7.7,-2.52 7.91,-2.45 8.13,-2.55 8.35,-1.25 8.56,-1.04 8.78,-0.7 9,-0.29 9.21,-0.14 9.43,-0.37 9.65,-0.77 9.86,-0.98 10.08,-0.8 10.3,-0.39 10.51,-0.15 10.73,-0.27 10.95,-0.66 11.16,-0.96 11.38,-0.88 11.6,-0.51 11.81,-0.18 12.03,-0.2 12.25,-0.55 12.46,-0.91 12.68,-0.95 12.9,-0.63 13.12,-0.25 13.33,-0.15 13.55,-0.43 13.77,-0.83 13.98,-0.97 14.2,-0.74 14.42,-0.34 14.63,-0.14 14.85,1.58 15.07,1.62 15.28,1.65 15.5,1.68 15.72,1.69 15.93,1.67 16.15,1.63 16.37,1.62 16.58,1.64 16.8,1.68 17.02,1.69 17.23,1.68 17.45,1.64 17.67,1.62 17.88,1.63 18.1,1.67 18.32,1.69 18.53,1.68 18.75,1.65 18.97,1.62 19.19,1.63 19.4,1.66 19.62,1.68 19.84,1.69 \" class=\"primitive\"/>\n",
       "            </g>\n",
       "          </g>\n",
       "        </g>\n",
       "        <g stroke-width=\"0.3\" fill=\"#000000\" fill-opacity=\"0.000\" class=\"geometry\" id=\"img-f96eb356-23\">\n",
       "          <g class=\"color_RGB{N0f8}(1.0,1.0,0.0)\" stroke-dasharray=\"none\" stroke=\"#FFFF00\" id=\"img-f96eb356-24\">\n",
       "            <g transform=\"translate(222.76,107.86)\" id=\"img-f96eb356-25\">\n",
       "              <path fill=\"none\" d=\"M-19.84,-4.07 L-19.62,10.8 -19.4,10.54 -19.19,4.28 -18.97,-10.86 -18.75,-8.25 -18.53,2.19 -18.32,4.28 -18.1,10.28 -17.88,6.89 -17.67,5.45 -17.45,-19.33 -17.23,-13.07 -17.02,10.02 -16.8,5.32 -16.58,0.88 -16.37,4.28 -16.15,12.76 -15.93,-0.03 -15.72,1.02 -15.5,10.15 -15.28,5.06 -15.07,-0.55 -14.85,-23.12 -14.63,13.15 -14.42,-8.9 -14.2,-9.03 -13.98,13.02 -13.77,8.19 -13.55,10.41 -13.33,16.28 -13.12,13.54 -12.9,18.1 -12.68,17.45 -12.46,-20.9 -12.25,-4.72 -12.03,5.19 -11.81,-22.46 -11.6,-11.12 -11.38,-16.86 -11.16,-22.73 -10.95,4.02 -10.73,9.76 -10.51,2.97 -10.3,8.06 -10.08,-4.46 -9.86,-19.73 -9.65,-5.12 -9.43,3.23 -9.21,-2.25 -9,2.32 -8.78,1.8 -8.56,6.36 -8.35,-4.85 -8.13,-4.99 -7.91,5.97 -7.7,5.19 -7.48,7.02 -7.26,6.36 -7.05,-15.42 -6.83,-14.77 -6.61,-54.42 -6.4,-4.72 -6.18,5.97 -5.96,7.15 -5.74,7.93 -5.53,-1.07 -5.31,-36.94 -5.09,-13.59 -4.88,-12.16 -4.66,6.89 -4.44,1.41 -4.23,8.32 -4.01,-32.9 -3.79,11.32 -3.58,-8.38 -3.36,-25.73 -3.14,-2.77 -2.93,5.97 -2.71,0.62 -2.49,7.28 -2.28,-8.51 -2.06,-11.12 -1.84,0.75 -1.63,3.23 -1.41,1.02 -1.19,4.8 -0.98,-6.03 -0.76,7.02 -0.54,-9.55 -0.33,-6.94 -0.11,-0.03 0.11,-15.81 0.33,-21.29 0.54,-6.55 0.76,8.71 0.98,-3.42 1.19,-3.68 1.41,3.23 1.63,5.45 1.84,10.15 2.06,-14.51 2.28,-10.46 2.49,-12.55 2.71,0.75 2.93,4.93 3.14,2.97 3.36,0.1 3.58,-13.33 3.79,-19.46 4.01,-14.9 4.23,6.1 4.44,3.36 4.66,6.62 4.88,3.1 5.09,1.28 5.31,-12.94 5.53,-10.07 5.74,1.28 5.96,6.62 6.18,5.32 6.4,9.89 6.61,-0.42 6.83,17.06 7.05,9.23 7.26,8.71 7.48,6.75 7.7,4.93 7.91,5.45 8.13,0.62 8.35,-1.85 8.56,-8.38 8.78,2.71 9,4.41 9.21,7.8 9.43,3.23 9.65,-15.16 9.86,-7.72 10.08,3.49 10.3,-4.72 10.51,4.15 10.73,-8.51 10.95,-15.42 11.16,-14.12 11.38,-9.42 11.6,-2.77 11.81,-2.38 12.03,8.19 12.25,7.15 12.46,4.54 12.68,6.36 12.9,10.41 13.12,-0.03 13.33,11.06 13.55,-5.64 13.77,9.49 13.98,4.54 14.2,-1.46 14.42,1.93 14.63,-4.46 14.85,-12.29 15.07,5.84 15.28,5.84 15.5,1.67 15.72,1.41 15.93,0.62 16.15,2.45 16.37,-0.94 16.58,13.41 16.8,5.19 17.02,3.88 17.23,2.58 17.45,0.75 17.67,2.19 17.88,7.93 18.1,4.41 18.32,10.41 18.53,14.06 18.75,4.28 18.97,3.49 19.19,25.93 19.4,27.5 19.62,25.67 19.84,23.32 \" class=\"primitive\"/>\n",
       "            </g>\n",
       "          </g>\n",
       "        </g>\n",
       "        <g stroke-width=\"0.3\" fill=\"#000000\" fill-opacity=\"0.000\" class=\"geometry\" id=\"img-f96eb356-26\">\n",
       "          <g class=\"color_RGB{N0f8}(0.0,1.0,1.0)\" stroke-dasharray=\"none\" stroke=\"#00FFFF\" id=\"img-f96eb356-27\">\n",
       "            <g transform=\"translate(143.42,96.4)\" id=\"img-f96eb356-28\">\n",
       "              <path fill=\"none\" d=\"M-59.51,26.3 L-59.29,-35.01 -59.07,17.69 -58.86,12.74 -58.64,24.61 -58.42,23.69 -58.21,25.91 -57.99,6.34 -57.77,16.78 -57.56,12.21 -57.34,3.74 -57.12,-18.31 -56.91,-5.14 -56.69,14.04 -56.47,-23.01 -56.25,18.61 -56.04,17.3 -55.82,21.35 -55.6,11.56 -55.39,4.39 -55.17,19.91 -54.95,7.52 -54.74,-12.44 -54.52,13.52 -54.3,22.65 -54.09,8.43 -53.87,-21.05 -53.65,-16.61 -53.44,7.26 -53.22,18.21 -53,10.26 -52.79,-12.05 -52.57,-21.57 -52.35,-31.35 -52.14,-3.96 -51.92,7.13 -51.7,-10.09 -51.49,-34.22 -51.27,-45.18 -51.05,-38.27 -50.84,0.21 -50.62,-70.1 -50.4,-11.4 -50.18,7.26 -49.97,-3.96 -49.75,3.47 -49.53,-45.44 -49.32,-23.66 -49.1,-1.48 -48.88,13.91 -48.67,41.04 -48.45,-22.09 -48.23,-43.62 -48.02,13.13 -47.8,14.3 -47.58,4.91 -47.37,-0.31 -47.15,-67.23 -46.93,-68.79 -46.72,-53.66 -46.5,-41.53 -46.28,-18.96 -46.07,-17.66 -45.85,-39.57 -45.63,-63.18 -45.42,-69.31 -45.2,-26.79 -44.98,-70.88 -44.77,-74.14 -44.55,-11.92 -44.33,-16.88 -44.11,-88.49 -43.9,-64.23 -43.68,-32.92 -43.46,-9.96 -43.25,-9.31 -43.03,-45.05 -42.81,-45.31 -42.6,-16.88 -42.38,5.3 -42.16,-21.83 -41.95,-17.79 -41.73,-33.18 -41.51,-21.44 -41.3,-51.57 -41.08,-80.79 -40.86,-72.71 -40.65,-28.09 -40.43,-24.7 -40.21,-56.14 -40,-18.7 -39.78,-27.57 -39.56,-50.01 -39.35,-34.22 -39.13,-34.62 -38.91,-34.09 -38.7,-39.7 -38.48,-51.97 -38.26,-47.92 -38.05,-24.7 -37.83,-11.79 -37.61,-58.36 -37.39,-19.35 -37.18,-32.4 -36.96,1.13 -36.74,15.48 -36.53,-29.92 -36.31,-28.88 -36.09,-11.27 -35.88,20.69 -35.66,11.17 -35.44,17.43 -35.23,-9.05 -35.01,-37.49 -34.79,-1.09 -34.58,4.78 -34.36,-1.87 -34.14,23.04 -33.93,6.34 -33.71,-30.18 -33.49,12.74 -33.28,-13.88 -33.06,15.87 -32.84,-33.18 -32.63,-55.75 -32.41,-43.49 -32.19,-38.92 -31.98,-43.75 -31.76,-25.88 -31.54,-17.14 -31.32,-0.83 -31.11,-17.79 -30.89,-38.92 -30.67,-12.05 -30.46,-38.14 -30.24,-31.88 -30.02,-7.61 -29.81,-14.79 -29.59,21.21 -29.37,23.95 -29.16,23.95 -28.94,13.78 -28.72,16.91 -28.51,18.48 -28.29,17.56 -28.07,13.78 -27.86,22.13 -27.64,17.43 -27.42,12.21 -27.21,23.56 -26.99,24.08 -26.77,22.26 -26.56,25.39 -26.34,5.56 -26.12,-9.83 -25.91,-36.44 -25.69,5.82 -25.47,20.04 -25.25,12.08 -25.04,4.52 -24.82,5.3 -24.6,26.3 -24.39,19.91 -24.17,20.82 -23.95,16.52 -23.74,24.21 -23.52,19.78 -23.3,5.17 -23.09,-8.01 -22.87,11.82 -22.65,-9.18 -22.44,18.48 -22.22,19.39 -22,21.61 -21.79,18.87 -21.57,24.08 -21.35,12.61 -21.14,25.78 -20.92,17.43 -20.7,20.82 -20.49,29.56 -20.27,14.17 -20.05,7.65 -19.84,22.39 -19.62,18.21 -19.4,28 -19.19,20.56 -18.97,21.74 -18.75,24.48 -18.53,24.21 -18.32,20.17 -18.1,3.74 -17.88,6.6 -17.67,10.39 -17.45,-10.22 -17.23,9.74 -17.02,24.48 -16.8,13.39 -16.58,15.61 -16.37,16.52 -16.15,16.65 -15.93,13.52 -15.72,19.13 -15.5,19.39 -15.28,20.43 -15.07,21.08 -14.85,23.95 -14.63,23.17 -14.42,19.26 -14.2,26.17 -13.98,12.47 -13.77,13.78 -13.55,-4.74 -13.33,24.08 -13.12,26.82 -12.9,25.91 -12.68,22.26 -12.46,23.3 -12.25,28.78 -12.03,26.17 -11.81,24.35 -11.6,9.08 -11.38,23.69 -11.16,23.04 -10.95,14.69 -10.73,23.82 -10.51,21.87 -10.3,24.74 -10.08,41.04 -9.86,22.39 -9.65,21.61 -9.43,17.04 -9.21,22.39 -9,24.61 -8.78,20.95 -8.56,26.69 -8.35,13.78 -8.13,-23.27 -7.91,-4.61 -7.7,-8.53 -7.48,-0.57 -7.26,19.13 -7.05,9.21 -6.83,1.52 -6.61,10 -6.4,14.3 -6.18,20.3 -5.96,11.82 -5.74,25.26 -5.53,11.17 -5.31,20.43 -5.09,26.04 -4.88,23.56 -4.66,17.69 -4.44,11.17 -4.23,2.95 -4.01,23.95 -3.79,12.87 -3.58,5.17 -3.36,7.52 -3.14,-17.14 -2.93,11.82 -2.71,24.61 -2.49,8.69 -2.28,11.95 -2.06,24.48 -1.84,1.52 -1.63,-18.96 -1.41,3.74 -1.19,-3.96 -0.98,25 -0.76,8.95 -0.54,19.52 -0.33,14.43 -0.11,-40.23 0.11,-11.66 0.33,5.95 0.54,15.87 0.76,22 0.98,8.43 1.19,24.08 1.41,17.56 1.63,10.78 1.84,18.34 2.06,4.13 2.28,-16.09 2.49,-8.53 2.71,12.61 2.93,20.04 3.14,21.48 3.36,20.43 3.58,20.95 3.79,25.39 4.01,16.39 4.23,15.34 4.44,29.3 4.66,23.3 4.88,23.04 5.09,20.69 5.31,21.87 5.53,20.17 5.74,20.43 5.96,16.13 6.18,22.91 6.4,24.35 6.61,21.21 6.83,23.95 7.05,19.78 7.26,4.91 7.48,5.95 7.7,12.47 7.91,21.21 8.13,17.04 8.35,11.43 8.56,1.65 8.78,-35.14 9,-55.1 9.21,-24.7 9.43,13.91 9.65,14.43 9.86,21.08 10.08,26.17 10.3,20.95 10.51,-3.05 10.73,17.56 10.95,14.17 11.16,14.95 11.38,-8.14 11.6,28.52 11.81,22.65 12.03,23.43 12.25,25.91 12.46,26.95 12.68,26.43 12.9,25 13.12,26.95 13.33,16.52 13.55,25.13 13.77,26.17 13.98,23.82 14.2,24.48 14.42,23.04 14.63,29.17 14.85,15.61 15.07,26.43 15.28,17.3 15.5,17.04 15.72,21.61 15.93,19.26 16.15,26.3 16.37,18.74 16.58,15.34 16.8,21.08 17.02,17.17 17.23,18.74 17.45,17.95 17.67,20.82 17.88,8.56 18.1,11.43 18.32,14.3 18.53,19.65 18.75,17.3 18.97,19.65 19.19,16.26 19.4,25.78 19.62,19.26 19.84,19.91 20.05,14.95 20.27,20.56 20.49,23.43 20.7,23.04 20.92,17.95 21.14,20.43 21.35,-4.61 21.57,18.87 21.79,18.08 22,9.47 22.22,25.26 22.44,-35.01 22.65,-26.4 22.87,9.61 23.09,-30.7 23.3,-8.53 23.52,11.17 23.74,-42.44 23.95,-16.48 24.17,-18.96 24.39,-2.14 24.6,-8.01 24.82,24.87 25.04,23.04 25.25,-11.92 25.47,-23.4 25.69,-55.23 25.91,23.82 26.12,19 26.34,22.13 26.56,22.13 26.77,17.56 26.99,15.61 27.21,7.39 27.42,21.08 27.64,10.13 27.86,-7.87 28.07,-11.79 28.29,-37.88 28.51,-31.88 28.72,-20.92 28.94,-24.31 29.16,-29.14 29.37,-40.36 29.59,-74.27 29.81,-31.35 30.02,-38.79 30.24,-28.09 30.46,6.6 30.67,-16.09 30.89,2.43 31.11,11.43 31.32,-43.75 31.54,-49.1 31.76,0.34 31.98,5.17 32.19,-2.53 32.41,-7.61 32.63,-16.61 32.84,-52.75 33.06,-41.92 33.28,-48.57 33.49,-48.18 33.71,-31.49 33.93,-53.79 34.14,21.35 34.36,30.08 34.58,-32.4 34.79,-31.09 35.01,-18.44 35.23,12.47 35.44,-6.96 35.66,12.47 35.88,14.43 36.09,-5.4 36.31,-18.05 36.53,-4.09 36.74,-5.14 36.96,-12.83 37.18,-20.66 37.39,19.78 37.61,-75.31 37.83,10.78 38.05,16 38.26,14.95 38.48,11.95 38.7,15.48 38.91,-21.83 39.13,-65.66 39.35,-24.31 39.56,3.74 39.78,-17.01 40,-8.27 40.21,-26.01 40.43,5.95 40.65,-55.49 40.86,16.52 41.08,7 41.3,-19.09 41.51,-14.66 41.73,11.82 41.95,6.74 42.16,7 42.38,11.04 42.6,19.91 42.81,20.04 43.03,19.78 43.25,21.35 43.46,28.13 43.68,12.87 43.9,-5 44.11,-25.75 44.33,3.34 44.55,-10.48 44.77,-9.31 44.98,8.95 45.2,-9.18 45.42,3.87 45.63,-32.66 45.85,-26.14 46.07,-41.92 46.28,-27.83 46.5,-50.92 46.72,-6.83 46.93,-26.01 47.15,7.91 47.37,-29.53 47.58,-35.27 47.8,7 48.02,-24.18 48.23,-15.05 48.45,-46.36 48.67,-7.61 48.88,16.39 49.1,-13.88 49.32,17.82 49.53,-12.05 49.75,14.04 49.97,11.82 50.18,15.87 50.4,25 50.62,13.91 50.84,-9.57 51.05,-34.75 51.27,-10.87 51.49,-32.01 51.7,6.87 51.92,-12.57 52.14,19.26 52.35,-12.96 52.57,-18.83 52.79,-28.75 53,-53.01 53.22,13.78 53.44,-23.66 53.65,20.04 53.87,17.69 54.09,20.69 54.3,9.21 54.52,18.34 54.74,11.17 54.95,12.87 55.17,3.74 55.39,7.39 55.6,12.08 55.82,7 56.04,13.78 56.25,-3.57 56.47,17.82 56.69,-0.96 56.91,-26.01 57.12,5.82 57.34,2.3 57.56,10.39 57.77,-25.62 57.99,-33.57 58.21,1.26 58.42,14.56 58.64,4.52 58.86,8.82 59.07,12.61 59.29,9.21 59.51,7.39 \" class=\"primitive\"/>\n",
       "            </g>\n",
       "          </g>\n",
       "        </g>\n",
       "      </g>\n",
       "    </g>\n",
       "  </g>\n",
       "  <g class=\"guide ylabels\" font-size=\"2.82\" font-family=\"'PT Sans Caption','Helvetica Neue','Helvetica',sans-serif\" fill=\"#6C606B\" id=\"img-f96eb356-29\">\n",
       "    <g transform=\"translate(16.96,137.45)\" id=\"img-f96eb356-30\">\n",
       "      <g class=\"primitive\">\n",
       "        <text text-anchor=\"end\" dy=\"0.35em\">0</text>\n",
       "      </g>\n",
       "    </g>\n",
       "    <g transform=\"translate(16.96,104.83)\" id=\"img-f96eb356-31\">\n",
       "      <g class=\"primitive\">\n",
       "        <text text-anchor=\"end\" dy=\"0.35em\">10</text>\n",
       "      </g>\n",
       "    </g>\n",
       "    <g transform=\"translate(16.96,72.22)\" id=\"img-f96eb356-32\">\n",
       "      <g class=\"primitive\">\n",
       "        <text text-anchor=\"end\" dy=\"0.35em\">20</text>\n",
       "      </g>\n",
       "    </g>\n",
       "    <g transform=\"translate(16.96,39.61)\" id=\"img-f96eb356-33\">\n",
       "      <g class=\"primitive\">\n",
       "        <text text-anchor=\"end\" dy=\"0.35em\">30</text>\n",
       "      </g>\n",
       "    </g>\n",
       "    <g transform=\"translate(16.96,7)\" id=\"img-f96eb356-34\">\n",
       "      <g class=\"primitive\">\n",
       "        <text text-anchor=\"end\" dy=\"0.35em\">40</text>\n",
       "      </g>\n",
       "    </g>\n",
       "  </g>\n",
       "  <g font-size=\"3.88\" font-family=\"'PT Sans','Helvetica Neue','Helvetica',sans-serif\" fill=\"#564A55\" stroke=\"#000000\" stroke-opacity=\"0.000\" id=\"img-f96eb356-35\">\n",
       "    <g transform=\"translate(8.81,70.22)\" id=\"img-f96eb356-36\">\n",
       "      <g class=\"primitive\">\n",
       "        <text text-anchor=\"middle\" dy=\"0.35em\" transform=\"rotate(-90,0, 2)\">USAGE_sum</text>\n",
       "      </g>\n",
       "    </g>\n",
       "  </g>\n",
       "</g>\n",
       "<defs>\n",
       "  <clipPath id=\"img-f96eb356-4\">\n",
       "    <path d=\"M17.96,5 L259.55,5 259.55,139.45 17.96,139.45 \" />\n",
       "  </clipPath>\n",
       "</defs>\n",
       "</svg>\n"
      ],
      "text/html": [
       "<html>\n",
       "<?xml version=\"1.0\" encoding=\"UTF-8\"?>\n",
       "<svg xmlns=\"http://www.w3.org/2000/svg\"\n",
       "     xmlns:xlink=\"http://www.w3.org/1999/xlink\"\n",
       "     xmlns:gadfly=\"http://www.gadflyjl.org/ns\"\n",
       "     version=\"1.2\"\n",
       "     width=\"264.55mm\" height=\"158.73mm\" viewBox=\"0 0 264.55 158.73\"\n",
       "     stroke=\"none\"\n",
       "     fill=\"#000000\"\n",
       "     stroke-width=\"0.3\"\n",
       "     font-size=\"3.88\"\n",
       ">\n",
       "<defs>\n",
       "  <marker id=\"arrow\" markerWidth=\"15\" markerHeight=\"7\" refX=\"5\" refY=\"3.5\" orient=\"auto\" markerUnits=\"strokeWidth\">\n",
       "    <path d=\"M0,0 L15,3.5 L0,7 z\" stroke=\"context-stroke\" fill=\"context-stroke\"/>\n",
       "  </marker>\n",
       "</defs>\n",
       "<g class=\"plotroot xscalable yscalable\" id=\"img-f96eb356-1\">\n",
       "  <g font-size=\"3.88\" font-family=\"'PT Sans','Helvetica Neue','Helvetica',sans-serif\" fill=\"#564A55\" stroke=\"#000000\" stroke-opacity=\"0.000\" id=\"img-f96eb356-2\">\n",
       "    <g transform=\"translate(138.75,147.12)\">\n",
       "      <g class=\"primitive\">\n",
       "        <text text-anchor=\"middle\" dy=\"0.6em\">DATE</text>\n",
       "      </g>\n",
       "    </g>\n",
       "  </g>\n",
       "  <g class=\"guide xlabels\" font-size=\"2.82\" font-family=\"'PT Sans Caption','Helvetica Neue','Helvetica',sans-serif\" fill=\"#6C606B\" id=\"img-f96eb356-3\">\n",
       "    <g transform=\"translate(19.96,140.45)\">\n",
       "      <g class=\"primitive\">\n",
       "        <text text-anchor=\"middle\" dy=\"0.6em\">2016</text>\n",
       "      </g>\n",
       "    </g>\n",
       "    <g transform=\"translate(99.3,140.45)\">\n",
       "      <g class=\"primitive\">\n",
       "        <text text-anchor=\"middle\" dy=\"0.6em\">2017</text>\n",
       "      </g>\n",
       "    </g>\n",
       "    <g transform=\"translate(178.43,140.45)\">\n",
       "      <g class=\"primitive\">\n",
       "        <text text-anchor=\"middle\" dy=\"0.6em\">2018</text>\n",
       "      </g>\n",
       "    </g>\n",
       "    <g transform=\"translate(257.55,140.45)\">\n",
       "      <g class=\"primitive\">\n",
       "        <text text-anchor=\"middle\" dy=\"0.6em\">2019</text>\n",
       "      </g>\n",
       "    </g>\n",
       "  </g>\n",
       "  <g clip-path=\"url(#img-f96eb356-4)\">\n",
       "    <g id=\"img-f96eb356-5\">\n",
       "      <g pointer-events=\"visible\" stroke-width=\"0.3\" fill=\"#000000\" fill-opacity=\"0.000\" stroke=\"#000000\" stroke-opacity=\"0.000\" class=\"guide background\" id=\"img-f96eb356-6\">\n",
       "        <g transform=\"translate(138.75,72.22)\" id=\"img-f96eb356-7\">\n",
       "          <path d=\"M-120.8,-67.22 L120.8,-67.22 120.8,67.22 -120.8,67.22  z\" class=\"primitive\"/>\n",
       "        </g>\n",
       "      </g>\n",
       "      <g class=\"guide ygridlines xfixed\" stroke-dasharray=\"0.5,0.5\" stroke-width=\"0.2\" stroke=\"#D0D0E0\" id=\"img-f96eb356-8\">\n",
       "        <g transform=\"translate(138.75,137.45)\" id=\"img-f96eb356-9\">\n",
       "          <path fill=\"none\" d=\"M-120.8,0 L120.8,0 \" class=\"primitive\"/>\n",
       "        </g>\n",
       "        <g transform=\"translate(138.75,104.83)\" id=\"img-f96eb356-10\">\n",
       "          <path fill=\"none\" d=\"M-120.8,0 L120.8,0 \" class=\"primitive\"/>\n",
       "        </g>\n",
       "        <g transform=\"translate(138.75,72.22)\" id=\"img-f96eb356-11\">\n",
       "          <path fill=\"none\" d=\"M-120.8,0 L120.8,0 \" class=\"primitive\"/>\n",
       "        </g>\n",
       "        <g transform=\"translate(138.75,39.61)\" id=\"img-f96eb356-12\">\n",
       "          <path fill=\"none\" d=\"M-120.8,0 L120.8,0 \" class=\"primitive\"/>\n",
       "        </g>\n",
       "        <g transform=\"translate(138.75,7)\" id=\"img-f96eb356-13\">\n",
       "          <path fill=\"none\" d=\"M-120.8,0 L120.8,0 \" class=\"primitive\"/>\n",
       "        </g>\n",
       "      </g>\n",
       "      <g class=\"guide xgridlines yfixed\" stroke-dasharray=\"0.5,0.5\" stroke-width=\"0.2\" stroke=\"#D0D0E0\" id=\"img-f96eb356-14\">\n",
       "        <g transform=\"translate(19.96,72.22)\" id=\"img-f96eb356-15\">\n",
       "          <path fill=\"none\" d=\"M0,-67.22 L0,67.22 \" class=\"primitive\"/>\n",
       "        </g>\n",
       "        <g transform=\"translate(99.3,72.22)\" id=\"img-f96eb356-16\">\n",
       "          <path fill=\"none\" d=\"M0,-67.22 L0,67.22 \" class=\"primitive\"/>\n",
       "        </g>\n",
       "        <g transform=\"translate(178.43,72.22)\" id=\"img-f96eb356-17\">\n",
       "          <path fill=\"none\" d=\"M0,-67.22 L0,67.22 \" class=\"primitive\"/>\n",
       "        </g>\n",
       "        <g transform=\"translate(257.55,72.22)\" id=\"img-f96eb356-18\">\n",
       "          <path fill=\"none\" d=\"M0,-67.22 L0,67.22 \" class=\"primitive\"/>\n",
       "        </g>\n",
       "      </g>\n",
       "      <g class=\"plotpanel\" id=\"img-f96eb356-19\">\n",
       "        <metadata>\n",
       "          <boundingbox value=\"17.958333333333343mm 5.0mm 241.59193121693127mm 134.44515873015877mm\"/>\n",
       "          <unitbox value=\"2015-12-22T18:34:42.021 40.61328454638542 96288635958 milliseconds -41.226569092770845\"/>\n",
       "        </metadata>\n",
       "        <g stroke-width=\"0.3\" fill=\"#000000\" fill-opacity=\"0.000\" class=\"geometry\" id=\"img-f96eb356-20\">\n",
       "          <g class=\"color_RGB{N0f8}(0.0,0.502,0.0)\" stroke-dasharray=\"none\" stroke=\"#008000\" id=\"img-f96eb356-21\">\n",
       "            <g transform=\"translate(222.76,96.38)\" id=\"img-f96eb356-22\">\n",
       "              <path fill=\"none\" d=\"M-19.84,1.73 L-19.62,1.72 -19.4,1.71 -19.19,1.71 -18.97,1.72 -18.75,1.73 -18.53,1.74 -18.32,1.75 -18.1,1.75 -17.88,1.75 -17.67,1.76 -17.45,1.76 -17.23,1.75 -17.02,1.75 -16.8,1.75 -16.58,1.75 -16.37,1.76 -16.15,1.76 -15.93,1.76 -15.72,1.75 -15.5,1.75 -15.28,1.75 -15.07,1.75 -14.85,1.76 -14.63,1.76 -14.42,1.75 -14.2,1.75 -13.98,1.75 -13.77,1.75 -13.55,1.76 -13.33,1.76 -13.12,1.75 -12.9,1.75 -12.68,1.75 -12.46,1.75 -12.25,1.76 -12.03,1.76 -11.81,1.76 -11.6,1.42 -11.38,1.39 -11.16,1.46 -10.95,1.54 -10.73,1.56 -10.51,1.51 -10.3,1.42 -10.08,1.38 -9.86,1.44 -9.65,1.52 -9.43,1.56 -9.21,1.53 -9,1.45 -8.78,1.38 -8.56,1.42 -8.35,1.5 -8.13,1.56 -7.91,1.54 -7.7,1.47 -7.48,1.39 -7.26,1.4 -7.05,1.48 -6.83,1.55 -6.61,1.55 -6.4,1.5 -6.18,1.41 -5.96,1.39 -5.74,1.45 -5.53,1.53 -5.31,1.56 -5.09,-1.46 -4.88,-1.95 -4.66,-1.8 -4.44,-1.48 -4.23,-1.35 -4.01,-1.56 -3.79,-1.89 -3.58,-2.03 -3.36,-1.89 -3.14,-1.56 -2.93,-1.35 -2.71,-1.48 -2.49,-1.81 -2.28,-2.02 -2.06,-1.95 -1.84,-1.66 -1.63,-1.38 -1.41,-1.41 -1.19,-1.71 -0.98,-1.98 -0.76,-2 -0.54,-1.76 -0.33,-1.44 -0.11,-1.36 0.11,-1.62 0.33,-1.93 0.54,-2.03 0.76,-1.85 0.98,-1.52 1.19,-1.35 1.41,-1.52 1.63,-2.66 1.84,-2.74 2.06,-2.65 2.28,-2.51 2.49,-2.46 2.71,-2.57 2.93,-2.71 3.14,-2.75 3.36,-2.69 3.58,-2.55 3.79,-2.45 4.01,-2.53 4.23,-2.67 4.44,-2.75 4.66,-2.72 4.88,-2.59 5.09,-2.46 5.31,-2.49 5.53,-2.64 5.74,-2.74 5.96,-2.74 6.18,-2.63 6.4,-2.49 6.61,-2.47 6.83,-2.59 7.05,-2.72 7.26,-2.75 7.48,-2.67 7.7,-2.52 7.91,-2.45 8.13,-2.55 8.35,-1.25 8.56,-1.04 8.78,-0.7 9,-0.29 9.21,-0.14 9.43,-0.37 9.65,-0.77 9.86,-0.98 10.08,-0.8 10.3,-0.39 10.51,-0.15 10.73,-0.27 10.95,-0.66 11.16,-0.96 11.38,-0.88 11.6,-0.51 11.81,-0.18 12.03,-0.2 12.25,-0.55 12.46,-0.91 12.68,-0.95 12.9,-0.63 13.12,-0.25 13.33,-0.15 13.55,-0.43 13.77,-0.83 13.98,-0.97 14.2,-0.74 14.42,-0.34 14.63,-0.14 14.85,1.58 15.07,1.62 15.28,1.65 15.5,1.68 15.72,1.69 15.93,1.67 16.15,1.63 16.37,1.62 16.58,1.64 16.8,1.68 17.02,1.69 17.23,1.68 17.45,1.64 17.67,1.62 17.88,1.63 18.1,1.67 18.32,1.69 18.53,1.68 18.75,1.65 18.97,1.62 19.19,1.63 19.4,1.66 19.62,1.68 19.84,1.69 \" class=\"primitive\"/>\n",
       "            </g>\n",
       "          </g>\n",
       "        </g>\n",
       "        <g stroke-width=\"0.3\" fill=\"#000000\" fill-opacity=\"0.000\" class=\"geometry\" id=\"img-f96eb356-23\">\n",
       "          <g class=\"color_RGB{N0f8}(1.0,1.0,0.0)\" stroke-dasharray=\"none\" stroke=\"#FFFF00\" id=\"img-f96eb356-24\">\n",
       "            <g transform=\"translate(222.76,107.86)\" id=\"img-f96eb356-25\">\n",
       "              <path fill=\"none\" d=\"M-19.84,-4.07 L-19.62,10.8 -19.4,10.54 -19.19,4.28 -18.97,-10.86 -18.75,-8.25 -18.53,2.19 -18.32,4.28 -18.1,10.28 -17.88,6.89 -17.67,5.45 -17.45,-19.33 -17.23,-13.07 -17.02,10.02 -16.8,5.32 -16.58,0.88 -16.37,4.28 -16.15,12.76 -15.93,-0.03 -15.72,1.02 -15.5,10.15 -15.28,5.06 -15.07,-0.55 -14.85,-23.12 -14.63,13.15 -14.42,-8.9 -14.2,-9.03 -13.98,13.02 -13.77,8.19 -13.55,10.41 -13.33,16.28 -13.12,13.54 -12.9,18.1 -12.68,17.45 -12.46,-20.9 -12.25,-4.72 -12.03,5.19 -11.81,-22.46 -11.6,-11.12 -11.38,-16.86 -11.16,-22.73 -10.95,4.02 -10.73,9.76 -10.51,2.97 -10.3,8.06 -10.08,-4.46 -9.86,-19.73 -9.65,-5.12 -9.43,3.23 -9.21,-2.25 -9,2.32 -8.78,1.8 -8.56,6.36 -8.35,-4.85 -8.13,-4.99 -7.91,5.97 -7.7,5.19 -7.48,7.02 -7.26,6.36 -7.05,-15.42 -6.83,-14.77 -6.61,-54.42 -6.4,-4.72 -6.18,5.97 -5.96,7.15 -5.74,7.93 -5.53,-1.07 -5.31,-36.94 -5.09,-13.59 -4.88,-12.16 -4.66,6.89 -4.44,1.41 -4.23,8.32 -4.01,-32.9 -3.79,11.32 -3.58,-8.38 -3.36,-25.73 -3.14,-2.77 -2.93,5.97 -2.71,0.62 -2.49,7.28 -2.28,-8.51 -2.06,-11.12 -1.84,0.75 -1.63,3.23 -1.41,1.02 -1.19,4.8 -0.98,-6.03 -0.76,7.02 -0.54,-9.55 -0.33,-6.94 -0.11,-0.03 0.11,-15.81 0.33,-21.29 0.54,-6.55 0.76,8.71 0.98,-3.42 1.19,-3.68 1.41,3.23 1.63,5.45 1.84,10.15 2.06,-14.51 2.28,-10.46 2.49,-12.55 2.71,0.75 2.93,4.93 3.14,2.97 3.36,0.1 3.58,-13.33 3.79,-19.46 4.01,-14.9 4.23,6.1 4.44,3.36 4.66,6.62 4.88,3.1 5.09,1.28 5.31,-12.94 5.53,-10.07 5.74,1.28 5.96,6.62 6.18,5.32 6.4,9.89 6.61,-0.42 6.83,17.06 7.05,9.23 7.26,8.71 7.48,6.75 7.7,4.93 7.91,5.45 8.13,0.62 8.35,-1.85 8.56,-8.38 8.78,2.71 9,4.41 9.21,7.8 9.43,3.23 9.65,-15.16 9.86,-7.72 10.08,3.49 10.3,-4.72 10.51,4.15 10.73,-8.51 10.95,-15.42 11.16,-14.12 11.38,-9.42 11.6,-2.77 11.81,-2.38 12.03,8.19 12.25,7.15 12.46,4.54 12.68,6.36 12.9,10.41 13.12,-0.03 13.33,11.06 13.55,-5.64 13.77,9.49 13.98,4.54 14.2,-1.46 14.42,1.93 14.63,-4.46 14.85,-12.29 15.07,5.84 15.28,5.84 15.5,1.67 15.72,1.41 15.93,0.62 16.15,2.45 16.37,-0.94 16.58,13.41 16.8,5.19 17.02,3.88 17.23,2.58 17.45,0.75 17.67,2.19 17.88,7.93 18.1,4.41 18.32,10.41 18.53,14.06 18.75,4.28 18.97,3.49 19.19,25.93 19.4,27.5 19.62,25.67 19.84,23.32 \" class=\"primitive\"/>\n",
       "            </g>\n",
       "          </g>\n",
       "        </g>\n",
       "        <g stroke-width=\"0.3\" fill=\"#000000\" fill-opacity=\"0.000\" class=\"geometry\" id=\"img-f96eb356-26\">\n",
       "          <g class=\"color_RGB{N0f8}(0.0,1.0,1.0)\" stroke-dasharray=\"none\" stroke=\"#00FFFF\" id=\"img-f96eb356-27\">\n",
       "            <g transform=\"translate(143.42,96.4)\" id=\"img-f96eb356-28\">\n",
       "              <path fill=\"none\" d=\"M-59.51,26.3 L-59.29,-35.01 -59.07,17.69 -58.86,12.74 -58.64,24.61 -58.42,23.69 -58.21,25.91 -57.99,6.34 -57.77,16.78 -57.56,12.21 -57.34,3.74 -57.12,-18.31 -56.91,-5.14 -56.69,14.04 -56.47,-23.01 -56.25,18.61 -56.04,17.3 -55.82,21.35 -55.6,11.56 -55.39,4.39 -55.17,19.91 -54.95,7.52 -54.74,-12.44 -54.52,13.52 -54.3,22.65 -54.09,8.43 -53.87,-21.05 -53.65,-16.61 -53.44,7.26 -53.22,18.21 -53,10.26 -52.79,-12.05 -52.57,-21.57 -52.35,-31.35 -52.14,-3.96 -51.92,7.13 -51.7,-10.09 -51.49,-34.22 -51.27,-45.18 -51.05,-38.27 -50.84,0.21 -50.62,-70.1 -50.4,-11.4 -50.18,7.26 -49.97,-3.96 -49.75,3.47 -49.53,-45.44 -49.32,-23.66 -49.1,-1.48 -48.88,13.91 -48.67,41.04 -48.45,-22.09 -48.23,-43.62 -48.02,13.13 -47.8,14.3 -47.58,4.91 -47.37,-0.31 -47.15,-67.23 -46.93,-68.79 -46.72,-53.66 -46.5,-41.53 -46.28,-18.96 -46.07,-17.66 -45.85,-39.57 -45.63,-63.18 -45.42,-69.31 -45.2,-26.79 -44.98,-70.88 -44.77,-74.14 -44.55,-11.92 -44.33,-16.88 -44.11,-88.49 -43.9,-64.23 -43.68,-32.92 -43.46,-9.96 -43.25,-9.31 -43.03,-45.05 -42.81,-45.31 -42.6,-16.88 -42.38,5.3 -42.16,-21.83 -41.95,-17.79 -41.73,-33.18 -41.51,-21.44 -41.3,-51.57 -41.08,-80.79 -40.86,-72.71 -40.65,-28.09 -40.43,-24.7 -40.21,-56.14 -40,-18.7 -39.78,-27.57 -39.56,-50.01 -39.35,-34.22 -39.13,-34.62 -38.91,-34.09 -38.7,-39.7 -38.48,-51.97 -38.26,-47.92 -38.05,-24.7 -37.83,-11.79 -37.61,-58.36 -37.39,-19.35 -37.18,-32.4 -36.96,1.13 -36.74,15.48 -36.53,-29.92 -36.31,-28.88 -36.09,-11.27 -35.88,20.69 -35.66,11.17 -35.44,17.43 -35.23,-9.05 -35.01,-37.49 -34.79,-1.09 -34.58,4.78 -34.36,-1.87 -34.14,23.04 -33.93,6.34 -33.71,-30.18 -33.49,12.74 -33.28,-13.88 -33.06,15.87 -32.84,-33.18 -32.63,-55.75 -32.41,-43.49 -32.19,-38.92 -31.98,-43.75 -31.76,-25.88 -31.54,-17.14 -31.32,-0.83 -31.11,-17.79 -30.89,-38.92 -30.67,-12.05 -30.46,-38.14 -30.24,-31.88 -30.02,-7.61 -29.81,-14.79 -29.59,21.21 -29.37,23.95 -29.16,23.95 -28.94,13.78 -28.72,16.91 -28.51,18.48 -28.29,17.56 -28.07,13.78 -27.86,22.13 -27.64,17.43 -27.42,12.21 -27.21,23.56 -26.99,24.08 -26.77,22.26 -26.56,25.39 -26.34,5.56 -26.12,-9.83 -25.91,-36.44 -25.69,5.82 -25.47,20.04 -25.25,12.08 -25.04,4.52 -24.82,5.3 -24.6,26.3 -24.39,19.91 -24.17,20.82 -23.95,16.52 -23.74,24.21 -23.52,19.78 -23.3,5.17 -23.09,-8.01 -22.87,11.82 -22.65,-9.18 -22.44,18.48 -22.22,19.39 -22,21.61 -21.79,18.87 -21.57,24.08 -21.35,12.61 -21.14,25.78 -20.92,17.43 -20.7,20.82 -20.49,29.56 -20.27,14.17 -20.05,7.65 -19.84,22.39 -19.62,18.21 -19.4,28 -19.19,20.56 -18.97,21.74 -18.75,24.48 -18.53,24.21 -18.32,20.17 -18.1,3.74 -17.88,6.6 -17.67,10.39 -17.45,-10.22 -17.23,9.74 -17.02,24.48 -16.8,13.39 -16.58,15.61 -16.37,16.52 -16.15,16.65 -15.93,13.52 -15.72,19.13 -15.5,19.39 -15.28,20.43 -15.07,21.08 -14.85,23.95 -14.63,23.17 -14.42,19.26 -14.2,26.17 -13.98,12.47 -13.77,13.78 -13.55,-4.74 -13.33,24.08 -13.12,26.82 -12.9,25.91 -12.68,22.26 -12.46,23.3 -12.25,28.78 -12.03,26.17 -11.81,24.35 -11.6,9.08 -11.38,23.69 -11.16,23.04 -10.95,14.69 -10.73,23.82 -10.51,21.87 -10.3,24.74 -10.08,41.04 -9.86,22.39 -9.65,21.61 -9.43,17.04 -9.21,22.39 -9,24.61 -8.78,20.95 -8.56,26.69 -8.35,13.78 -8.13,-23.27 -7.91,-4.61 -7.7,-8.53 -7.48,-0.57 -7.26,19.13 -7.05,9.21 -6.83,1.52 -6.61,10 -6.4,14.3 -6.18,20.3 -5.96,11.82 -5.74,25.26 -5.53,11.17 -5.31,20.43 -5.09,26.04 -4.88,23.56 -4.66,17.69 -4.44,11.17 -4.23,2.95 -4.01,23.95 -3.79,12.87 -3.58,5.17 -3.36,7.52 -3.14,-17.14 -2.93,11.82 -2.71,24.61 -2.49,8.69 -2.28,11.95 -2.06,24.48 -1.84,1.52 -1.63,-18.96 -1.41,3.74 -1.19,-3.96 -0.98,25 -0.76,8.95 -0.54,19.52 -0.33,14.43 -0.11,-40.23 0.11,-11.66 0.33,5.95 0.54,15.87 0.76,22 0.98,8.43 1.19,24.08 1.41,17.56 1.63,10.78 1.84,18.34 2.06,4.13 2.28,-16.09 2.49,-8.53 2.71,12.61 2.93,20.04 3.14,21.48 3.36,20.43 3.58,20.95 3.79,25.39 4.01,16.39 4.23,15.34 4.44,29.3 4.66,23.3 4.88,23.04 5.09,20.69 5.31,21.87 5.53,20.17 5.74,20.43 5.96,16.13 6.18,22.91 6.4,24.35 6.61,21.21 6.83,23.95 7.05,19.78 7.26,4.91 7.48,5.95 7.7,12.47 7.91,21.21 8.13,17.04 8.35,11.43 8.56,1.65 8.78,-35.14 9,-55.1 9.21,-24.7 9.43,13.91 9.65,14.43 9.86,21.08 10.08,26.17 10.3,20.95 10.51,-3.05 10.73,17.56 10.95,14.17 11.16,14.95 11.38,-8.14 11.6,28.52 11.81,22.65 12.03,23.43 12.25,25.91 12.46,26.95 12.68,26.43 12.9,25 13.12,26.95 13.33,16.52 13.55,25.13 13.77,26.17 13.98,23.82 14.2,24.48 14.42,23.04 14.63,29.17 14.85,15.61 15.07,26.43 15.28,17.3 15.5,17.04 15.72,21.61 15.93,19.26 16.15,26.3 16.37,18.74 16.58,15.34 16.8,21.08 17.02,17.17 17.23,18.74 17.45,17.95 17.67,20.82 17.88,8.56 18.1,11.43 18.32,14.3 18.53,19.65 18.75,17.3 18.97,19.65 19.19,16.26 19.4,25.78 19.62,19.26 19.84,19.91 20.05,14.95 20.27,20.56 20.49,23.43 20.7,23.04 20.92,17.95 21.14,20.43 21.35,-4.61 21.57,18.87 21.79,18.08 22,9.47 22.22,25.26 22.44,-35.01 22.65,-26.4 22.87,9.61 23.09,-30.7 23.3,-8.53 23.52,11.17 23.74,-42.44 23.95,-16.48 24.17,-18.96 24.39,-2.14 24.6,-8.01 24.82,24.87 25.04,23.04 25.25,-11.92 25.47,-23.4 25.69,-55.23 25.91,23.82 26.12,19 26.34,22.13 26.56,22.13 26.77,17.56 26.99,15.61 27.21,7.39 27.42,21.08 27.64,10.13 27.86,-7.87 28.07,-11.79 28.29,-37.88 28.51,-31.88 28.72,-20.92 28.94,-24.31 29.16,-29.14 29.37,-40.36 29.59,-74.27 29.81,-31.35 30.02,-38.79 30.24,-28.09 30.46,6.6 30.67,-16.09 30.89,2.43 31.11,11.43 31.32,-43.75 31.54,-49.1 31.76,0.34 31.98,5.17 32.19,-2.53 32.41,-7.61 32.63,-16.61 32.84,-52.75 33.06,-41.92 33.28,-48.57 33.49,-48.18 33.71,-31.49 33.93,-53.79 34.14,21.35 34.36,30.08 34.58,-32.4 34.79,-31.09 35.01,-18.44 35.23,12.47 35.44,-6.96 35.66,12.47 35.88,14.43 36.09,-5.4 36.31,-18.05 36.53,-4.09 36.74,-5.14 36.96,-12.83 37.18,-20.66 37.39,19.78 37.61,-75.31 37.83,10.78 38.05,16 38.26,14.95 38.48,11.95 38.7,15.48 38.91,-21.83 39.13,-65.66 39.35,-24.31 39.56,3.74 39.78,-17.01 40,-8.27 40.21,-26.01 40.43,5.95 40.65,-55.49 40.86,16.52 41.08,7 41.3,-19.09 41.51,-14.66 41.73,11.82 41.95,6.74 42.16,7 42.38,11.04 42.6,19.91 42.81,20.04 43.03,19.78 43.25,21.35 43.46,28.13 43.68,12.87 43.9,-5 44.11,-25.75 44.33,3.34 44.55,-10.48 44.77,-9.31 44.98,8.95 45.2,-9.18 45.42,3.87 45.63,-32.66 45.85,-26.14 46.07,-41.92 46.28,-27.83 46.5,-50.92 46.72,-6.83 46.93,-26.01 47.15,7.91 47.37,-29.53 47.58,-35.27 47.8,7 48.02,-24.18 48.23,-15.05 48.45,-46.36 48.67,-7.61 48.88,16.39 49.1,-13.88 49.32,17.82 49.53,-12.05 49.75,14.04 49.97,11.82 50.18,15.87 50.4,25 50.62,13.91 50.84,-9.57 51.05,-34.75 51.27,-10.87 51.49,-32.01 51.7,6.87 51.92,-12.57 52.14,19.26 52.35,-12.96 52.57,-18.83 52.79,-28.75 53,-53.01 53.22,13.78 53.44,-23.66 53.65,20.04 53.87,17.69 54.09,20.69 54.3,9.21 54.52,18.34 54.74,11.17 54.95,12.87 55.17,3.74 55.39,7.39 55.6,12.08 55.82,7 56.04,13.78 56.25,-3.57 56.47,17.82 56.69,-0.96 56.91,-26.01 57.12,5.82 57.34,2.3 57.56,10.39 57.77,-25.62 57.99,-33.57 58.21,1.26 58.42,14.56 58.64,4.52 58.86,8.82 59.07,12.61 59.29,9.21 59.51,7.39 \" class=\"primitive\"/>\n",
       "            </g>\n",
       "          </g>\n",
       "        </g>\n",
       "      </g>\n",
       "    </g>\n",
       "  </g>\n",
       "  <g class=\"guide ylabels\" font-size=\"2.82\" font-family=\"'PT Sans Caption','Helvetica Neue','Helvetica',sans-serif\" fill=\"#6C606B\" id=\"img-f96eb356-29\">\n",
       "    <g transform=\"translate(16.96,137.45)\" id=\"img-f96eb356-30\">\n",
       "      <g class=\"primitive\">\n",
       "        <text text-anchor=\"end\" dy=\"0.35em\">0</text>\n",
       "      </g>\n",
       "    </g>\n",
       "    <g transform=\"translate(16.96,104.83)\" id=\"img-f96eb356-31\">\n",
       "      <g class=\"primitive\">\n",
       "        <text text-anchor=\"end\" dy=\"0.35em\">10</text>\n",
       "      </g>\n",
       "    </g>\n",
       "    <g transform=\"translate(16.96,72.22)\" id=\"img-f96eb356-32\">\n",
       "      <g class=\"primitive\">\n",
       "        <text text-anchor=\"end\" dy=\"0.35em\">20</text>\n",
       "      </g>\n",
       "    </g>\n",
       "    <g transform=\"translate(16.96,39.61)\" id=\"img-f96eb356-33\">\n",
       "      <g class=\"primitive\">\n",
       "        <text text-anchor=\"end\" dy=\"0.35em\">30</text>\n",
       "      </g>\n",
       "    </g>\n",
       "    <g transform=\"translate(16.96,7)\" id=\"img-f96eb356-34\">\n",
       "      <g class=\"primitive\">\n",
       "        <text text-anchor=\"end\" dy=\"0.35em\">40</text>\n",
       "      </g>\n",
       "    </g>\n",
       "  </g>\n",
       "  <g font-size=\"3.88\" font-family=\"'PT Sans','Helvetica Neue','Helvetica',sans-serif\" fill=\"#564A55\" stroke=\"#000000\" stroke-opacity=\"0.000\" id=\"img-f96eb356-35\">\n",
       "    <g transform=\"translate(8.81,70.22)\" id=\"img-f96eb356-36\">\n",
       "      <g class=\"primitive\">\n",
       "        <text text-anchor=\"middle\" dy=\"0.35em\" transform=\"rotate(-90,0, 2)\">USAGE_sum</text>\n",
       "      </g>\n",
       "    </g>\n",
       "  </g>\n",
       "</g>\n",
       "<defs>\n",
       "  <clipPath id=\"img-f96eb356-4\">\n",
       "    <path d=\"M17.96,5 L259.55,5 259.55,139.45 17.96,139.45 \" />\n",
       "  </clipPath>\n",
       "</defs>\n",
       "</svg>\n",
       "\n",
       "</html>\n"
      ],
      "text/plain": [
       "SVG(264.5502645502646mm, 158.73015873015876mm, IOBuffer(data=UInt8[...], readable=true, writable=true, seekable=true, append=false, size=17743, maxsize=Inf, ptr=17744, mark=-1), nothing, \"img-f96eb356\", 0, Compose.SVGPropertyFrame[], Dict{Type, Union{Nothing, Compose.Property}}(Compose.Property{Compose.LineWidthPrimitive} => nothing, Compose.Property{Compose.JSIncludePrimitive} => nothing, Compose.Property{Compose.FontSizePrimitive} => nothing, Compose.Property{Compose.FontPrimitive} => nothing, Compose.Property{Compose.FillPrimitive} => nothing, Compose.Property{Compose.SVGClassPrimitive} => nothing, Compose.Property{Compose.SVGAttributePrimitive} => nothing, Compose.Property{Compose.StrokePrimitive} => nothing, Compose.Property{Compose.JSCallPrimitive} => nothing, Compose.Property{Compose.StrokeDashPrimitive} => nothing…), OrderedCollections.OrderedDict{Compose.ClipPrimitive, String}(Compose.ClipPrimitive{Tuple{Measures.AbsoluteLength, Measures.AbsoluteLength}}(Tuple{Measures.AbsoluteLength, Measures.AbsoluteLength}[(17.958333333333343mm, 5.0mm), (259.5502645502646mm, 5.0mm), (259.5502645502646mm, 139.44515873015877mm), (17.958333333333343mm, 139.44515873015877mm)]) => \"img-f96eb356-4\"), Tuple{Compose.FormPrimitive, String}[], Set{AbstractString}(), true, false, nothing, true, \"img-f96eb356-36\", false, 36, Set(AbstractString[\"C:\\\\Users\\\\gabriel\\\\.julia\\\\packages\\\\Gadfly\\\\B5yQc\\\\src\\\\gadfly.js\"]), Set(Tuple{AbstractString, AbstractString}[(\"Snap.svg\", \"Snap\"), (\"Gadfly\", \"Gadfly\")]), AbstractString[\"fig.select(\\\"#img-f96eb356-5\\\")\\n   .init_gadfly();\"], false, :none, (Measures.BoundingBox{Tuple{Measures.AbsoluteLength, Measures.AbsoluteLength}, Tuple{Measures.AbsoluteLength, Measures.AbsoluteLength}}((17.958333333333343mm, 5.0mm), (241.59193121693127mm, 134.44515873015877mm)), Compose.UnitBox{DateTime, Float64, Millisecond, Float64}(DateTime(\"2015-12-22T18:34:42.021\"), 40.61328454638542, Millisecond(96288635958), -41.226569092770845, 0.0mm, 0.0mm, 0.0mm, 0.0mm), Compose.IdentityTransform()))"
      ]
     },
     "metadata": {},
     "output_type": "display_data"
    }
   ],
   "source": [
    "lstm_predictions = map(only, lstm_model.(df_test[:, :DATE]))\n",
    "lstm_plot = plot_compare(df_test[:, :DATE], lstm_predictions)\n",
    "draw(SVG(1000px, 600px), lstm_plot)"
   ]
  },
  {
   "attachments": {},
   "cell_type": "markdown",
   "metadata": {},
   "source": [
    "### Time-warping invariance"
   ]
  },
  {
   "attachments": {},
   "cell_type": "markdown",
   "metadata": {},
   "source": [
    "$z(t)$ — continuous time-domain signal\n",
    "$$\n",
    "h(t + \\delta) \\approx h(t) + \\delta \\frac{\\mathrm{d}h(t)}{\\mathrm{d}t}\n",
    "$$"
   ]
  },
  {
   "attachments": {},
   "cell_type": "markdown",
   "metadata": {},
   "source": [
    "$$\n",
    "\\frac{\\mathrm{d}h(t)}{\\mathrm{d}t} = h(t + 1) - h(t) = R(z(t+1), h(t)) - h(t)\n",
    "$$"
   ]
  },
  {
   "attachments": {},
   "cell_type": "markdown",
   "metadata": {},
   "source": [
    "$\\tau : \\mathbb{R}^{+} \\to \\mathbb{R}^{+}$ — monotonically increasing differentiable mapping between times\n",
    "\n",
    "Consider **class of models** is _invariant_ to time-warping"
   ]
  },
  {
   "attachments": {},
   "cell_type": "markdown",
   "metadata": {},
   "source": [
    "$$\n",
    "\\frac{\\mathrm{d}h(\\tau(t))}{\\mathrm{d}\\tau(t)} = R(z(\\tau(t+1)), h(\\tau(t))) - h(\\tau(t))\n",
    "$$"
   ]
  },
  {
   "attachments": {},
   "cell_type": "markdown",
   "metadata": {},
   "source": [
    "$$\n",
    "\\frac{\\mathrm{d}h(\\tau(t))}{\\mathrm{d}t} = \\frac{\\mathrm{d}h(\\tau(t))}{\\mathrm{d}\\tau(t)} \\frac{\\mathrm{d}\\tau(t)}{\\mathrm{d}t} = \\frac{\\mathrm{d}\\tau(t)}{\\mathrm{d}t} R(z(\\tau(t+1)), h(\\tau(t))) - \\frac{\\mathrm{d}\\tau(t)}{\\mathrm{d}t} h(\\tau(t))\n",
    "$$"
   ]
  },
  {
   "attachments": {},
   "cell_type": "markdown",
   "metadata": {},
   "source": [
    "We need to introduce a learnable function Γ which approximates $\\frac{\\mathrm{d}\\tau(t)}{\\mathrm{d}t}$!"
   ]
  },
  {
   "attachments": {},
   "cell_type": "markdown",
   "metadata": {},
   "source": [
    "$$\n",
    "h(\\tau(t + \\delta)) \\approx h(\\tau(t)) + \\delta \\frac{\\mathrm{d}h(\\tau(t))}{\\mathrm{d}t}\n",
    "$$"
   ]
  },
  {
   "attachments": {},
   "cell_type": "markdown",
   "metadata": {},
   "source": [
    "$$\n",
    "\\mathbf{h}^{(t+1)} = \\mathbf{h}^{(t)} + \\frac{\\mathrm{d}\\tau(t)}{\\mathrm{d}t} R(\\mathbf{z}^{(t+1)}, \\mathbf{h}^{(t)}) - \\frac{\\mathrm{d}\\tau(t)}{\\mathrm{d}t} \\mathbf{h}^{(t)} = \\frac{\\mathrm{d}\\tau(t)}{\\mathrm{d}t} R(\\mathbf{z}^{(t+1)}, \\mathbf{h}^{(t)}) + (1 - \\frac{\\mathrm{d}\\tau(t)}{\\mathrm{d}t}) \\mathbf{h}^{(t)}\n",
    "$$"
   ]
  },
  {
   "attachments": {},
   "cell_type": "markdown",
   "metadata": {},
   "source": [
    "$$\n",
    "\\mathbf{h}^{(t+1)} = \\Gamma(\\mathbf{z}^{(t+1)}, \\mathbf{h}^{(t)}) R(\\mathbf{z}^{(t+1)}, \\mathbf{h}^{(t)}) + (1 - \\Gamma(\\mathbf{z}^{(t+1)}, \\mathbf{h}^{(t)})) \\mathbf{h}^{(t)}\n",
    "$$"
   ]
  },
  {
   "attachments": {},
   "cell_type": "markdown",
   "metadata": {},
   "source": [
    "$$\n",
    "\\tau \\quad \\text{monotonically increasing} \\implies \\frac{\\mathrm{d}\\tau(t)}{\\mathrm{d}t} > 0 \\implies 0 < \\Gamma(\\mathbf{z}^{(t+1)}, \\mathbf{h}^{(t)}) < 1\n",
    "$$"
   ]
  },
  {
   "attachments": {},
   "cell_type": "markdown",
   "metadata": {},
   "source": [
    "$$\n",
    "\\Gamma(\\mathbf{z}^{(t+1)}, \\mathbf{h}^{(t)}) = \\mathrm{\\sigma}(\\mathbf{W}_\\Gamma \\mathbf{z}^{(t+1)} + \\mathbf{U}_\\Gamma \\mathbf{h}^{(t)} + \\mathbf{b}_\\Gamma)\n",
    "$$"
   ]
  },
  {
   "attachments": {},
   "cell_type": "markdown",
   "metadata": {},
   "source": [
    "Mind vectors vs. scalars though! 😉"
   ]
  },
  {
   "attachments": {},
   "cell_type": "markdown",
   "metadata": {},
   "source": [
    "### Sequence-to-sequence"
   ]
  }
 ],
 "metadata": {
  "kernelspec": {
   "display_name": "Julia 1.7.2",
   "language": "julia",
   "name": "julia-1.7"
  },
  "language_info": {
   "file_extension": ".jl",
   "mimetype": "application/julia",
   "name": "julia",
   "version": "1.9.0"
  }
 },
 "nbformat": 4,
 "nbformat_minor": 2
}
